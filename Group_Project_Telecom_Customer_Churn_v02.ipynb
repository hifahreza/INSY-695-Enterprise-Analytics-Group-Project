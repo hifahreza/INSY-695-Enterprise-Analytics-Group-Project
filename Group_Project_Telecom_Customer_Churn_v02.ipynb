{
 "cells": [
  {
   "cell_type": "markdown",
   "id": "5d605785",
   "metadata": {},
   "source": [
    "## Import libraries and data"
   ]
  },
  {
   "cell_type": "code",
   "execution_count": 1,
   "id": "48432f07",
   "metadata": {},
   "outputs": [],
   "source": [
    "#Import dataset with key telecom customer data\n",
    "\n",
    "import pandas as pd\n",
    "from sklearn.preprocessing import StandardScaler\n",
    "from sklearn.metrics import (\n",
    "    auc,\n",
    "    confusion_matrix,\n",
    "    roc_auc_score,\n",
    "    roc_curve,\n",
    "    accuracy_score,\n",
    "    precision_score,\n",
    "    average_precision_score,\n",
    "    recall_score,\n",
    "    f1_score,\n",
    "    precision_recall_curve,\n",
    "    cohen_kappa_score,\n",
    "    confusion_matrix,\n",
    "    plot_confusion_matrix,\n",
    "    classification_report\n",
    ")\n",
    "from sklearn.model_selection import (\n",
    "    train_test_split,\n",
    "    StratifiedKFold,\n",
    "    cross_val_score,\n",
    "    cross_val_predict\n",
    ")\n",
    "from yellowbrick.classifier import (\n",
    "    ConfusionMatrix,\n",
    "    ROCAUC\n",
    ")\n",
    "from yellowbrick.model_selection import (\n",
    "    LearningCurve \n",
    ")\n",
    "from imblearn.over_sampling import (\n",
    "    SMOTE, ADASYN\n",
    ")\n",
    "from seaborn import diverging_palette"
   ]
  },
  {
   "cell_type": "code",
   "execution_count": 2,
   "id": "000ec850",
   "metadata": {},
   "outputs": [],
   "source": [
    "data = pd.read_csv('churn.csv')"
   ]
  },
  {
   "cell_type": "markdown",
   "id": "793fb95a",
   "metadata": {},
   "source": [
    "## Take a Quick Look at the Data Structure"
   ]
  },
  {
   "cell_type": "code",
   "execution_count": 3,
   "id": "583c80a8",
   "metadata": {},
   "outputs": [
    {
     "data": {
      "text/html": [
       "<div>\n",
       "<style scoped>\n",
       "    .dataframe tbody tr th:only-of-type {\n",
       "        vertical-align: middle;\n",
       "    }\n",
       "\n",
       "    .dataframe tbody tr th {\n",
       "        vertical-align: top;\n",
       "    }\n",
       "\n",
       "    .dataframe thead th {\n",
       "        text-align: right;\n",
       "    }\n",
       "</style>\n",
       "<table border=\"1\" class=\"dataframe\">\n",
       "  <thead>\n",
       "    <tr style=\"text-align: right;\">\n",
       "      <th></th>\n",
       "      <th>State</th>\n",
       "      <th>Area_code</th>\n",
       "      <th>Account_length</th>\n",
       "      <th>Total_day_minutes</th>\n",
       "      <th>Total_day_calls</th>\n",
       "      <th>Total_day_charge</th>\n",
       "      <th>Total_eve_minutes</th>\n",
       "      <th>Total_eve_calls</th>\n",
       "      <th>Total_eve_charge</th>\n",
       "      <th>Total_night_minutes</th>\n",
       "      <th>Total_night_calls</th>\n",
       "      <th>Total_night_charge</th>\n",
       "      <th>Total_intl_minutes</th>\n",
       "      <th>Total_intl_calls</th>\n",
       "      <th>Total_intl_charge</th>\n",
       "      <th>International_plan</th>\n",
       "      <th>Voice_mail_plan</th>\n",
       "      <th>Number_vmail_messages</th>\n",
       "      <th>Customer_service_calls</th>\n",
       "      <th>Churn</th>\n",
       "    </tr>\n",
       "  </thead>\n",
       "  <tbody>\n",
       "    <tr>\n",
       "      <th>0</th>\n",
       "      <td>KS</td>\n",
       "      <td>415</td>\n",
       "      <td>128</td>\n",
       "      <td>265.1</td>\n",
       "      <td>110</td>\n",
       "      <td>45.07</td>\n",
       "      <td>197.4</td>\n",
       "      <td>99</td>\n",
       "      <td>16.78</td>\n",
       "      <td>244.7</td>\n",
       "      <td>91</td>\n",
       "      <td>11.01</td>\n",
       "      <td>10.0</td>\n",
       "      <td>3</td>\n",
       "      <td>2.70</td>\n",
       "      <td>No</td>\n",
       "      <td>Yes</td>\n",
       "      <td>25</td>\n",
       "      <td>1</td>\n",
       "      <td>False</td>\n",
       "    </tr>\n",
       "    <tr>\n",
       "      <th>1</th>\n",
       "      <td>OH</td>\n",
       "      <td>415</td>\n",
       "      <td>107</td>\n",
       "      <td>161.6</td>\n",
       "      <td>123</td>\n",
       "      <td>27.47</td>\n",
       "      <td>195.5</td>\n",
       "      <td>103</td>\n",
       "      <td>16.62</td>\n",
       "      <td>254.4</td>\n",
       "      <td>103</td>\n",
       "      <td>11.45</td>\n",
       "      <td>13.7</td>\n",
       "      <td>3</td>\n",
       "      <td>3.70</td>\n",
       "      <td>No</td>\n",
       "      <td>Yes</td>\n",
       "      <td>26</td>\n",
       "      <td>1</td>\n",
       "      <td>False</td>\n",
       "    </tr>\n",
       "    <tr>\n",
       "      <th>2</th>\n",
       "      <td>NJ</td>\n",
       "      <td>415</td>\n",
       "      <td>137</td>\n",
       "      <td>243.4</td>\n",
       "      <td>114</td>\n",
       "      <td>41.38</td>\n",
       "      <td>121.2</td>\n",
       "      <td>110</td>\n",
       "      <td>10.30</td>\n",
       "      <td>162.6</td>\n",
       "      <td>104</td>\n",
       "      <td>7.32</td>\n",
       "      <td>12.2</td>\n",
       "      <td>5</td>\n",
       "      <td>3.29</td>\n",
       "      <td>No</td>\n",
       "      <td>No</td>\n",
       "      <td>0</td>\n",
       "      <td>0</td>\n",
       "      <td>False</td>\n",
       "    </tr>\n",
       "    <tr>\n",
       "      <th>3</th>\n",
       "      <td>OH</td>\n",
       "      <td>408</td>\n",
       "      <td>84</td>\n",
       "      <td>299.4</td>\n",
       "      <td>71</td>\n",
       "      <td>50.90</td>\n",
       "      <td>61.9</td>\n",
       "      <td>88</td>\n",
       "      <td>5.26</td>\n",
       "      <td>196.9</td>\n",
       "      <td>89</td>\n",
       "      <td>8.86</td>\n",
       "      <td>6.6</td>\n",
       "      <td>7</td>\n",
       "      <td>1.78</td>\n",
       "      <td>Yes</td>\n",
       "      <td>No</td>\n",
       "      <td>0</td>\n",
       "      <td>2</td>\n",
       "      <td>False</td>\n",
       "    </tr>\n",
       "    <tr>\n",
       "      <th>4</th>\n",
       "      <td>OK</td>\n",
       "      <td>415</td>\n",
       "      <td>75</td>\n",
       "      <td>166.7</td>\n",
       "      <td>113</td>\n",
       "      <td>28.34</td>\n",
       "      <td>148.3</td>\n",
       "      <td>122</td>\n",
       "      <td>12.61</td>\n",
       "      <td>186.9</td>\n",
       "      <td>121</td>\n",
       "      <td>8.41</td>\n",
       "      <td>10.1</td>\n",
       "      <td>3</td>\n",
       "      <td>2.73</td>\n",
       "      <td>Yes</td>\n",
       "      <td>No</td>\n",
       "      <td>0</td>\n",
       "      <td>3</td>\n",
       "      <td>False</td>\n",
       "    </tr>\n",
       "  </tbody>\n",
       "</table>\n",
       "</div>"
      ],
      "text/plain": [
       "  State  Area_code  Account_length  Total_day_minutes  Total_day_calls  \\\n",
       "0    KS        415             128              265.1              110   \n",
       "1    OH        415             107              161.6              123   \n",
       "2    NJ        415             137              243.4              114   \n",
       "3    OH        408              84              299.4               71   \n",
       "4    OK        415              75              166.7              113   \n",
       "\n",
       "   Total_day_charge  Total_eve_minutes  Total_eve_calls  Total_eve_charge  \\\n",
       "0             45.07              197.4               99             16.78   \n",
       "1             27.47              195.5              103             16.62   \n",
       "2             41.38              121.2              110             10.30   \n",
       "3             50.90               61.9               88              5.26   \n",
       "4             28.34              148.3              122             12.61   \n",
       "\n",
       "   Total_night_minutes  Total_night_calls  Total_night_charge  \\\n",
       "0                244.7                 91               11.01   \n",
       "1                254.4                103               11.45   \n",
       "2                162.6                104                7.32   \n",
       "3                196.9                 89                8.86   \n",
       "4                186.9                121                8.41   \n",
       "\n",
       "   Total_intl_minutes  Total_intl_calls  Total_intl_charge International_plan  \\\n",
       "0                10.0                 3               2.70                 No   \n",
       "1                13.7                 3               3.70                 No   \n",
       "2                12.2                 5               3.29                 No   \n",
       "3                 6.6                 7               1.78                Yes   \n",
       "4                10.1                 3               2.73                Yes   \n",
       "\n",
       "  Voice_mail_plan  Number_vmail_messages  Customer_service_calls  Churn  \n",
       "0             Yes                     25                       1  False  \n",
       "1             Yes                     26                       1  False  \n",
       "2              No                      0                       0  False  \n",
       "3              No                      0                       2  False  \n",
       "4              No                      0                       3  False  "
      ]
     },
     "execution_count": 3,
     "metadata": {},
     "output_type": "execute_result"
    }
   ],
   "source": [
    "data.head()"
   ]
  },
  {
   "cell_type": "code",
   "execution_count": 4,
   "id": "fb1e31a8",
   "metadata": {},
   "outputs": [
    {
     "name": "stdout",
     "output_type": "stream",
     "text": [
      "<class 'pandas.core.frame.DataFrame'>\n",
      "RangeIndex: 2666 entries, 0 to 2665\n",
      "Data columns (total 20 columns):\n",
      " #   Column                  Non-Null Count  Dtype  \n",
      "---  ------                  --------------  -----  \n",
      " 0   State                   2666 non-null   object \n",
      " 1   Area_code               2666 non-null   int64  \n",
      " 2   Account_length          2666 non-null   int64  \n",
      " 3   Total_day_minutes       2666 non-null   float64\n",
      " 4   Total_day_calls         2666 non-null   int64  \n",
      " 5   Total_day_charge        2666 non-null   float64\n",
      " 6   Total_eve_minutes       2666 non-null   float64\n",
      " 7   Total_eve_calls         2666 non-null   int64  \n",
      " 8   Total_eve_charge        2666 non-null   float64\n",
      " 9   Total_night_minutes     2666 non-null   float64\n",
      " 10  Total_night_calls       2666 non-null   int64  \n",
      " 11  Total_night_charge      2641 non-null   float64\n",
      " 12  Total_intl_minutes      2666 non-null   float64\n",
      " 13  Total_intl_calls        2666 non-null   int64  \n",
      " 14  Total_intl_charge       2666 non-null   float64\n",
      " 15  International_plan      2666 non-null   object \n",
      " 16  Voice_mail_plan         2666 non-null   object \n",
      " 17  Number_vmail_messages   2666 non-null   int64  \n",
      " 18  Customer_service_calls  2666 non-null   int64  \n",
      " 19  Churn                   2666 non-null   bool   \n",
      "dtypes: bool(1), float64(8), int64(8), object(3)\n",
      "memory usage: 398.5+ KB\n"
     ]
    }
   ],
   "source": [
    "data.info()"
   ]
  },
  {
   "cell_type": "markdown",
   "id": "301e981b",
   "metadata": {},
   "source": [
    "Note that the \"Total night charge\" variable is missing values. We will have to impute these later."
   ]
  },
  {
   "cell_type": "code",
   "execution_count": 5,
   "id": "44dc1e49",
   "metadata": {},
   "outputs": [
    {
     "data": {
      "text/html": [
       "<div>\n",
       "<style scoped>\n",
       "    .dataframe tbody tr th:only-of-type {\n",
       "        vertical-align: middle;\n",
       "    }\n",
       "\n",
       "    .dataframe tbody tr th {\n",
       "        vertical-align: top;\n",
       "    }\n",
       "\n",
       "    .dataframe thead th {\n",
       "        text-align: right;\n",
       "    }\n",
       "</style>\n",
       "<table border=\"1\" class=\"dataframe\">\n",
       "  <thead>\n",
       "    <tr style=\"text-align: right;\">\n",
       "      <th></th>\n",
       "      <th>Area_code</th>\n",
       "      <th>Account_length</th>\n",
       "      <th>Total_day_minutes</th>\n",
       "      <th>Total_day_calls</th>\n",
       "      <th>Total_day_charge</th>\n",
       "      <th>Total_eve_minutes</th>\n",
       "      <th>Total_eve_calls</th>\n",
       "      <th>Total_eve_charge</th>\n",
       "      <th>Total_night_minutes</th>\n",
       "      <th>Total_night_calls</th>\n",
       "      <th>Total_night_charge</th>\n",
       "      <th>Total_intl_minutes</th>\n",
       "      <th>Total_intl_calls</th>\n",
       "      <th>Total_intl_charge</th>\n",
       "      <th>Number_vmail_messages</th>\n",
       "      <th>Customer_service_calls</th>\n",
       "    </tr>\n",
       "  </thead>\n",
       "  <tbody>\n",
       "    <tr>\n",
       "      <th>count</th>\n",
       "      <td>2666.000000</td>\n",
       "      <td>2666.000000</td>\n",
       "      <td>2666.00000</td>\n",
       "      <td>2666.000000</td>\n",
       "      <td>2666.000000</td>\n",
       "      <td>2666.000000</td>\n",
       "      <td>2666.000000</td>\n",
       "      <td>2666.000000</td>\n",
       "      <td>2666.000000</td>\n",
       "      <td>2666.000000</td>\n",
       "      <td>2641.000000</td>\n",
       "      <td>2666.000000</td>\n",
       "      <td>2666.000000</td>\n",
       "      <td>2666.000000</td>\n",
       "      <td>2666.000000</td>\n",
       "      <td>2666.000000</td>\n",
       "    </tr>\n",
       "    <tr>\n",
       "      <th>mean</th>\n",
       "      <td>437.438860</td>\n",
       "      <td>100.620405</td>\n",
       "      <td>179.48162</td>\n",
       "      <td>100.310203</td>\n",
       "      <td>30.512404</td>\n",
       "      <td>200.386159</td>\n",
       "      <td>100.023631</td>\n",
       "      <td>17.033072</td>\n",
       "      <td>201.168942</td>\n",
       "      <td>100.106152</td>\n",
       "      <td>9.050292</td>\n",
       "      <td>10.237022</td>\n",
       "      <td>4.467367</td>\n",
       "      <td>2.764490</td>\n",
       "      <td>8.021755</td>\n",
       "      <td>1.562641</td>\n",
       "    </tr>\n",
       "    <tr>\n",
       "      <th>std</th>\n",
       "      <td>42.521018</td>\n",
       "      <td>39.563974</td>\n",
       "      <td>54.21035</td>\n",
       "      <td>19.988162</td>\n",
       "      <td>9.215733</td>\n",
       "      <td>50.951515</td>\n",
       "      <td>20.161445</td>\n",
       "      <td>4.330864</td>\n",
       "      <td>50.780323</td>\n",
       "      <td>19.418459</td>\n",
       "      <td>2.283425</td>\n",
       "      <td>2.788349</td>\n",
       "      <td>2.456195</td>\n",
       "      <td>0.752812</td>\n",
       "      <td>13.612277</td>\n",
       "      <td>1.311236</td>\n",
       "    </tr>\n",
       "    <tr>\n",
       "      <th>min</th>\n",
       "      <td>408.000000</td>\n",
       "      <td>1.000000</td>\n",
       "      <td>0.00000</td>\n",
       "      <td>0.000000</td>\n",
       "      <td>0.000000</td>\n",
       "      <td>0.000000</td>\n",
       "      <td>0.000000</td>\n",
       "      <td>0.000000</td>\n",
       "      <td>43.700000</td>\n",
       "      <td>33.000000</td>\n",
       "      <td>1.970000</td>\n",
       "      <td>0.000000</td>\n",
       "      <td>0.000000</td>\n",
       "      <td>0.000000</td>\n",
       "      <td>0.000000</td>\n",
       "      <td>0.000000</td>\n",
       "    </tr>\n",
       "    <tr>\n",
       "      <th>25%</th>\n",
       "      <td>408.000000</td>\n",
       "      <td>73.000000</td>\n",
       "      <td>143.40000</td>\n",
       "      <td>87.000000</td>\n",
       "      <td>24.380000</td>\n",
       "      <td>165.300000</td>\n",
       "      <td>87.000000</td>\n",
       "      <td>14.050000</td>\n",
       "      <td>166.925000</td>\n",
       "      <td>87.000000</td>\n",
       "      <td>7.510000</td>\n",
       "      <td>8.500000</td>\n",
       "      <td>3.000000</td>\n",
       "      <td>2.300000</td>\n",
       "      <td>0.000000</td>\n",
       "      <td>1.000000</td>\n",
       "    </tr>\n",
       "    <tr>\n",
       "      <th>50%</th>\n",
       "      <td>415.000000</td>\n",
       "      <td>100.000000</td>\n",
       "      <td>179.95000</td>\n",
       "      <td>101.000000</td>\n",
       "      <td>30.590000</td>\n",
       "      <td>200.900000</td>\n",
       "      <td>100.000000</td>\n",
       "      <td>17.080000</td>\n",
       "      <td>201.150000</td>\n",
       "      <td>100.000000</td>\n",
       "      <td>9.050000</td>\n",
       "      <td>10.200000</td>\n",
       "      <td>4.000000</td>\n",
       "      <td>2.750000</td>\n",
       "      <td>0.000000</td>\n",
       "      <td>1.000000</td>\n",
       "    </tr>\n",
       "    <tr>\n",
       "      <th>75%</th>\n",
       "      <td>510.000000</td>\n",
       "      <td>127.000000</td>\n",
       "      <td>215.90000</td>\n",
       "      <td>114.000000</td>\n",
       "      <td>36.700000</td>\n",
       "      <td>235.100000</td>\n",
       "      <td>114.000000</td>\n",
       "      <td>19.980000</td>\n",
       "      <td>236.475000</td>\n",
       "      <td>113.000000</td>\n",
       "      <td>10.630000</td>\n",
       "      <td>12.100000</td>\n",
       "      <td>6.000000</td>\n",
       "      <td>3.270000</td>\n",
       "      <td>19.000000</td>\n",
       "      <td>2.000000</td>\n",
       "    </tr>\n",
       "    <tr>\n",
       "      <th>max</th>\n",
       "      <td>510.000000</td>\n",
       "      <td>243.000000</td>\n",
       "      <td>350.80000</td>\n",
       "      <td>160.000000</td>\n",
       "      <td>59.640000</td>\n",
       "      <td>363.700000</td>\n",
       "      <td>170.000000</td>\n",
       "      <td>30.910000</td>\n",
       "      <td>395.000000</td>\n",
       "      <td>166.000000</td>\n",
       "      <td>17.770000</td>\n",
       "      <td>20.000000</td>\n",
       "      <td>20.000000</td>\n",
       "      <td>5.400000</td>\n",
       "      <td>50.000000</td>\n",
       "      <td>9.000000</td>\n",
       "    </tr>\n",
       "  </tbody>\n",
       "</table>\n",
       "</div>"
      ],
      "text/plain": [
       "         Area_code  Account_length  Total_day_minutes  Total_day_calls  \\\n",
       "count  2666.000000     2666.000000         2666.00000      2666.000000   \n",
       "mean    437.438860      100.620405          179.48162       100.310203   \n",
       "std      42.521018       39.563974           54.21035        19.988162   \n",
       "min     408.000000        1.000000            0.00000         0.000000   \n",
       "25%     408.000000       73.000000          143.40000        87.000000   \n",
       "50%     415.000000      100.000000          179.95000       101.000000   \n",
       "75%     510.000000      127.000000          215.90000       114.000000   \n",
       "max     510.000000      243.000000          350.80000       160.000000   \n",
       "\n",
       "       Total_day_charge  Total_eve_minutes  Total_eve_calls  Total_eve_charge  \\\n",
       "count       2666.000000        2666.000000      2666.000000       2666.000000   \n",
       "mean          30.512404         200.386159       100.023631         17.033072   \n",
       "std            9.215733          50.951515        20.161445          4.330864   \n",
       "min            0.000000           0.000000         0.000000          0.000000   \n",
       "25%           24.380000         165.300000        87.000000         14.050000   \n",
       "50%           30.590000         200.900000       100.000000         17.080000   \n",
       "75%           36.700000         235.100000       114.000000         19.980000   \n",
       "max           59.640000         363.700000       170.000000         30.910000   \n",
       "\n",
       "       Total_night_minutes  Total_night_calls  Total_night_charge  \\\n",
       "count          2666.000000        2666.000000         2641.000000   \n",
       "mean            201.168942         100.106152            9.050292   \n",
       "std              50.780323          19.418459            2.283425   \n",
       "min              43.700000          33.000000            1.970000   \n",
       "25%             166.925000          87.000000            7.510000   \n",
       "50%             201.150000         100.000000            9.050000   \n",
       "75%             236.475000         113.000000           10.630000   \n",
       "max             395.000000         166.000000           17.770000   \n",
       "\n",
       "       Total_intl_minutes  Total_intl_calls  Total_intl_charge  \\\n",
       "count         2666.000000       2666.000000        2666.000000   \n",
       "mean            10.237022          4.467367           2.764490   \n",
       "std              2.788349          2.456195           0.752812   \n",
       "min              0.000000          0.000000           0.000000   \n",
       "25%              8.500000          3.000000           2.300000   \n",
       "50%             10.200000          4.000000           2.750000   \n",
       "75%             12.100000          6.000000           3.270000   \n",
       "max             20.000000         20.000000           5.400000   \n",
       "\n",
       "       Number_vmail_messages  Customer_service_calls  \n",
       "count            2666.000000             2666.000000  \n",
       "mean                8.021755                1.562641  \n",
       "std                13.612277                1.311236  \n",
       "min                 0.000000                0.000000  \n",
       "25%                 0.000000                1.000000  \n",
       "50%                 0.000000                1.000000  \n",
       "75%                19.000000                2.000000  \n",
       "max                50.000000                9.000000  "
      ]
     },
     "execution_count": 5,
     "metadata": {},
     "output_type": "execute_result"
    }
   ],
   "source": [
    "data.describe()"
   ]
  },
  {
   "cell_type": "markdown",
   "id": "c17c5f6e",
   "metadata": {},
   "source": [
    "### Create histograms of numberical variables"
   ]
  },
  {
   "cell_type": "code",
   "execution_count": 6,
   "id": "a1d16bef",
   "metadata": {},
   "outputs": [
    {
     "data": {
      "image/png": "[encoded data removed]",
      "text/plain": [
       "<Figure size 1440x1080 with 16 Axes>"
      ]
     },
     "metadata": {
      "needs_background": "light"
     },
     "output_type": "display_data"
    }
   ],
   "source": [
    "%matplotlib inline\n",
    "import matplotlib.pyplot as plt\n",
    "data.hist(bins=50, figsize=(20,15))\n",
    "plt.show()"
   ]
  },
  {
   "cell_type": "markdown",
   "id": "bd58ff35",
   "metadata": {},
   "source": [
    "## Create a Test Set"
   ]
  },
  {
   "cell_type": "code",
   "execution_count": 7,
   "id": "34f3c387",
   "metadata": {},
   "outputs": [],
   "source": [
    "import numpy as np\n",
    "\n",
    "# to make this notebook's output identical at every run\n",
    "np.random.seed(42)"
   ]
  },
  {
   "cell_type": "code",
   "execution_count": 8,
   "id": "b3157346",
   "metadata": {},
   "outputs": [],
   "source": [
    "\n",
    "# For illustration only. Sklearn has train_test_split()\n",
    "def split_train_test(data, test_ratio):\n",
    "    shuffled_indices = np.random.permutation(len(data))\n",
    "    test_set_size = int(len(data) * test_ratio)\n",
    "    test_indices = shuffled_indices[:test_set_size]\n",
    "    train_indices = shuffled_indices[test_set_size:]\n",
    "    return data.iloc[train_indices], data.iloc[test_indices]"
   ]
  },
  {
   "cell_type": "code",
   "execution_count": 9,
   "id": "efa2a875",
   "metadata": {},
   "outputs": [
    {
     "data": {
      "text/plain": [
       "2133"
      ]
     },
     "execution_count": 9,
     "metadata": {},
     "output_type": "execute_result"
    }
   ],
   "source": [
    "train_set, test_set = split_train_test(data, 0.2)\n",
    "len(train_set)"
   ]
  },
  {
   "cell_type": "code",
   "execution_count": 10,
   "id": "2ad34d9f",
   "metadata": {},
   "outputs": [
    {
     "data": {
      "text/plain": [
       "533"
      ]
     },
     "execution_count": 10,
     "metadata": {},
     "output_type": "execute_result"
    }
   ],
   "source": [
    "len(test_set)"
   ]
  },
  {
   "cell_type": "code",
   "execution_count": 11,
   "id": "2a92a17e",
   "metadata": {},
   "outputs": [],
   "source": [
    "from zlib import crc32\n",
    "\n",
    "def test_set_check(identifier, test_ratio):\n",
    "    return crc32(np.int64(identifier)) & 0xffffffff < test_ratio * 2**32\n",
    "\n",
    "def split_train_test_by_id(data, test_ratio, id_column):\n",
    "    ids = data[id_column]\n",
    "    in_test_set = ids.apply(lambda id_: test_set_check(id_, test_ratio))\n",
    "    return data.loc[~in_test_set], data.loc[in_test_set]"
   ]
  },
  {
   "cell_type": "code",
   "execution_count": 12,
   "id": "941707bc",
   "metadata": {},
   "outputs": [],
   "source": [
    "data_with_id = data.reset_index()   # adds an `index` column\n",
    "train_set, test_set = split_train_test_by_id(data_with_id, 0.2, \"index\")"
   ]
  },
  {
   "cell_type": "code",
   "execution_count": 13,
   "id": "6085ea4c",
   "metadata": {},
   "outputs": [
    {
     "data": {
      "text/html": [
       "<div>\n",
       "<style scoped>\n",
       "    .dataframe tbody tr th:only-of-type {\n",
       "        vertical-align: middle;\n",
       "    }\n",
       "\n",
       "    .dataframe tbody tr th {\n",
       "        vertical-align: top;\n",
       "    }\n",
       "\n",
       "    .dataframe thead th {\n",
       "        text-align: right;\n",
       "    }\n",
       "</style>\n",
       "<table border=\"1\" class=\"dataframe\">\n",
       "  <thead>\n",
       "    <tr style=\"text-align: right;\">\n",
       "      <th></th>\n",
       "      <th>index</th>\n",
       "      <th>State</th>\n",
       "      <th>Area_code</th>\n",
       "      <th>Account_length</th>\n",
       "      <th>Total_day_minutes</th>\n",
       "      <th>Total_day_calls</th>\n",
       "      <th>Total_day_charge</th>\n",
       "      <th>Total_eve_minutes</th>\n",
       "      <th>Total_eve_calls</th>\n",
       "      <th>Total_eve_charge</th>\n",
       "      <th>...</th>\n",
       "      <th>Total_night_calls</th>\n",
       "      <th>Total_night_charge</th>\n",
       "      <th>Total_intl_minutes</th>\n",
       "      <th>Total_intl_calls</th>\n",
       "      <th>Total_intl_charge</th>\n",
       "      <th>International_plan</th>\n",
       "      <th>Voice_mail_plan</th>\n",
       "      <th>Number_vmail_messages</th>\n",
       "      <th>Customer_service_calls</th>\n",
       "      <th>Churn</th>\n",
       "    </tr>\n",
       "  </thead>\n",
       "  <tbody>\n",
       "    <tr>\n",
       "      <th>2</th>\n",
       "      <td>2</td>\n",
       "      <td>NJ</td>\n",
       "      <td>415</td>\n",
       "      <td>137</td>\n",
       "      <td>243.4</td>\n",
       "      <td>114</td>\n",
       "      <td>41.38</td>\n",
       "      <td>121.2</td>\n",
       "      <td>110</td>\n",
       "      <td>10.30</td>\n",
       "      <td>...</td>\n",
       "      <td>104</td>\n",
       "      <td>7.32</td>\n",
       "      <td>12.2</td>\n",
       "      <td>5</td>\n",
       "      <td>3.29</td>\n",
       "      <td>No</td>\n",
       "      <td>No</td>\n",
       "      <td>0</td>\n",
       "      <td>0</td>\n",
       "      <td>False</td>\n",
       "    </tr>\n",
       "    <tr>\n",
       "      <th>5</th>\n",
       "      <td>5</td>\n",
       "      <td>AL</td>\n",
       "      <td>510</td>\n",
       "      <td>118</td>\n",
       "      <td>223.4</td>\n",
       "      <td>98</td>\n",
       "      <td>37.98</td>\n",
       "      <td>220.6</td>\n",
       "      <td>101</td>\n",
       "      <td>18.75</td>\n",
       "      <td>...</td>\n",
       "      <td>118</td>\n",
       "      <td>9.18</td>\n",
       "      <td>6.3</td>\n",
       "      <td>6</td>\n",
       "      <td>1.70</td>\n",
       "      <td>Yes</td>\n",
       "      <td>No</td>\n",
       "      <td>0</td>\n",
       "      <td>0</td>\n",
       "      <td>False</td>\n",
       "    </tr>\n",
       "    <tr>\n",
       "      <th>12</th>\n",
       "      <td>12</td>\n",
       "      <td>IA</td>\n",
       "      <td>415</td>\n",
       "      <td>62</td>\n",
       "      <td>120.7</td>\n",
       "      <td>70</td>\n",
       "      <td>20.52</td>\n",
       "      <td>307.2</td>\n",
       "      <td>76</td>\n",
       "      <td>26.11</td>\n",
       "      <td>...</td>\n",
       "      <td>99</td>\n",
       "      <td>9.14</td>\n",
       "      <td>13.1</td>\n",
       "      <td>6</td>\n",
       "      <td>3.54</td>\n",
       "      <td>No</td>\n",
       "      <td>No</td>\n",
       "      <td>0</td>\n",
       "      <td>4</td>\n",
       "      <td>False</td>\n",
       "    </tr>\n",
       "    <tr>\n",
       "      <th>16</th>\n",
       "      <td>16</td>\n",
       "      <td>TX</td>\n",
       "      <td>415</td>\n",
       "      <td>73</td>\n",
       "      <td>224.4</td>\n",
       "      <td>90</td>\n",
       "      <td>38.15</td>\n",
       "      <td>159.5</td>\n",
       "      <td>88</td>\n",
       "      <td>13.56</td>\n",
       "      <td>...</td>\n",
       "      <td>74</td>\n",
       "      <td>8.68</td>\n",
       "      <td>13.0</td>\n",
       "      <td>2</td>\n",
       "      <td>3.51</td>\n",
       "      <td>No</td>\n",
       "      <td>No</td>\n",
       "      <td>0</td>\n",
       "      <td>1</td>\n",
       "      <td>False</td>\n",
       "    </tr>\n",
       "    <tr>\n",
       "      <th>23</th>\n",
       "      <td>23</td>\n",
       "      <td>MT</td>\n",
       "      <td>408</td>\n",
       "      <td>54</td>\n",
       "      <td>134.3</td>\n",
       "      <td>73</td>\n",
       "      <td>22.83</td>\n",
       "      <td>155.5</td>\n",
       "      <td>100</td>\n",
       "      <td>13.22</td>\n",
       "      <td>...</td>\n",
       "      <td>68</td>\n",
       "      <td>4.59</td>\n",
       "      <td>14.7</td>\n",
       "      <td>4</td>\n",
       "      <td>3.97</td>\n",
       "      <td>No</td>\n",
       "      <td>No</td>\n",
       "      <td>0</td>\n",
       "      <td>3</td>\n",
       "      <td>False</td>\n",
       "    </tr>\n",
       "  </tbody>\n",
       "</table>\n",
       "<p>5 rows × 21 columns</p>\n",
       "</div>"
      ],
      "text/plain": [
       "    index State  Area_code  Account_length  Total_day_minutes  \\\n",
       "2       2    NJ        415             137              243.4   \n",
       "5       5    AL        510             118              223.4   \n",
       "12     12    IA        415              62              120.7   \n",
       "16     16    TX        415              73              224.4   \n",
       "23     23    MT        408              54              134.3   \n",
       "\n",
       "    Total_day_calls  Total_day_charge  Total_eve_minutes  Total_eve_calls  \\\n",
       "2               114             41.38              121.2              110   \n",
       "5                98             37.98              220.6              101   \n",
       "12               70             20.52              307.2               76   \n",
       "16               90             38.15              159.5               88   \n",
       "23               73             22.83              155.5              100   \n",
       "\n",
       "    Total_eve_charge  ...  Total_night_calls  Total_night_charge  \\\n",
       "2              10.30  ...                104                7.32   \n",
       "5              18.75  ...                118                9.18   \n",
       "12             26.11  ...                 99                9.14   \n",
       "16             13.56  ...                 74                8.68   \n",
       "23             13.22  ...                 68                4.59   \n",
       "\n",
       "    Total_intl_minutes  Total_intl_calls  Total_intl_charge  \\\n",
       "2                 12.2                 5               3.29   \n",
       "5                  6.3                 6               1.70   \n",
       "12                13.1                 6               3.54   \n",
       "16                13.0                 2               3.51   \n",
       "23                14.7                 4               3.97   \n",
       "\n",
       "    International_plan Voice_mail_plan Number_vmail_messages  \\\n",
       "2                   No              No                     0   \n",
       "5                  Yes              No                     0   \n",
       "12                  No              No                     0   \n",
       "16                  No              No                     0   \n",
       "23                  No              No                     0   \n",
       "\n",
       "    Customer_service_calls  Churn  \n",
       "2                        0  False  \n",
       "5                        0  False  \n",
       "12                       4  False  \n",
       "16                       1  False  \n",
       "23                       3  False  \n",
       "\n",
       "[5 rows x 21 columns]"
      ]
     },
     "execution_count": 13,
     "metadata": {},
     "output_type": "execute_result"
    }
   ],
   "source": [
    "test_set.head()"
   ]
  },
  {
   "cell_type": "code",
   "execution_count": 14,
   "id": "f28ed203",
   "metadata": {},
   "outputs": [],
   "source": [
    "from sklearn.model_selection import train_test_split\n",
    "\n",
    "train_set, test_set = train_test_split(data, test_size=0.2, random_state=42)"
   ]
  },
  {
   "cell_type": "code",
   "execution_count": 15,
   "id": "dffed8d1",
   "metadata": {},
   "outputs": [
    {
     "data": {
      "text/html": [
       "<div>\n",
       "<style scoped>\n",
       "    .dataframe tbody tr th:only-of-type {\n",
       "        vertical-align: middle;\n",
       "    }\n",
       "\n",
       "    .dataframe tbody tr th {\n",
       "        vertical-align: top;\n",
       "    }\n",
       "\n",
       "    .dataframe thead th {\n",
       "        text-align: right;\n",
       "    }\n",
       "</style>\n",
       "<table border=\"1\" class=\"dataframe\">\n",
       "  <thead>\n",
       "    <tr style=\"text-align: right;\">\n",
       "      <th></th>\n",
       "      <th>State</th>\n",
       "      <th>Area_code</th>\n",
       "      <th>Account_length</th>\n",
       "      <th>Total_day_minutes</th>\n",
       "      <th>Total_day_calls</th>\n",
       "      <th>Total_day_charge</th>\n",
       "      <th>Total_eve_minutes</th>\n",
       "      <th>Total_eve_calls</th>\n",
       "      <th>Total_eve_charge</th>\n",
       "      <th>Total_night_minutes</th>\n",
       "      <th>Total_night_calls</th>\n",
       "      <th>Total_night_charge</th>\n",
       "      <th>Total_intl_minutes</th>\n",
       "      <th>Total_intl_calls</th>\n",
       "      <th>Total_intl_charge</th>\n",
       "      <th>International_plan</th>\n",
       "      <th>Voice_mail_plan</th>\n",
       "      <th>Number_vmail_messages</th>\n",
       "      <th>Customer_service_calls</th>\n",
       "      <th>Churn</th>\n",
       "    </tr>\n",
       "  </thead>\n",
       "  <tbody>\n",
       "    <tr>\n",
       "      <th>2087</th>\n",
       "      <td>OH</td>\n",
       "      <td>510</td>\n",
       "      <td>115</td>\n",
       "      <td>345.3</td>\n",
       "      <td>81</td>\n",
       "      <td>58.70</td>\n",
       "      <td>203.4</td>\n",
       "      <td>106</td>\n",
       "      <td>17.29</td>\n",
       "      <td>217.5</td>\n",
       "      <td>107</td>\n",
       "      <td>9.79</td>\n",
       "      <td>11.8</td>\n",
       "      <td>8</td>\n",
       "      <td>3.19</td>\n",
       "      <td>Yes</td>\n",
       "      <td>No</td>\n",
       "      <td>0</td>\n",
       "      <td>1</td>\n",
       "      <td>True</td>\n",
       "    </tr>\n",
       "    <tr>\n",
       "      <th>1915</th>\n",
       "      <td>WY</td>\n",
       "      <td>415</td>\n",
       "      <td>157</td>\n",
       "      <td>180.4</td>\n",
       "      <td>123</td>\n",
       "      <td>30.67</td>\n",
       "      <td>194.0</td>\n",
       "      <td>98</td>\n",
       "      <td>16.49</td>\n",
       "      <td>227.3</td>\n",
       "      <td>88</td>\n",
       "      <td>10.23</td>\n",
       "      <td>8.4</td>\n",
       "      <td>5</td>\n",
       "      <td>2.27</td>\n",
       "      <td>Yes</td>\n",
       "      <td>No</td>\n",
       "      <td>0</td>\n",
       "      <td>0</td>\n",
       "      <td>False</td>\n",
       "    </tr>\n",
       "    <tr>\n",
       "      <th>479</th>\n",
       "      <td>AZ</td>\n",
       "      <td>415</td>\n",
       "      <td>84</td>\n",
       "      <td>159.0</td>\n",
       "      <td>80</td>\n",
       "      <td>27.03</td>\n",
       "      <td>167.9</td>\n",
       "      <td>128</td>\n",
       "      <td>14.27</td>\n",
       "      <td>167.6</td>\n",
       "      <td>101</td>\n",
       "      <td>7.54</td>\n",
       "      <td>12.3</td>\n",
       "      <td>5</td>\n",
       "      <td>3.32</td>\n",
       "      <td>No</td>\n",
       "      <td>No</td>\n",
       "      <td>0</td>\n",
       "      <td>1</td>\n",
       "      <td>False</td>\n",
       "    </tr>\n",
       "    <tr>\n",
       "      <th>1898</th>\n",
       "      <td>FL</td>\n",
       "      <td>415</td>\n",
       "      <td>105</td>\n",
       "      <td>273.8</td>\n",
       "      <td>97</td>\n",
       "      <td>46.55</td>\n",
       "      <td>289.7</td>\n",
       "      <td>106</td>\n",
       "      <td>24.62</td>\n",
       "      <td>269.1</td>\n",
       "      <td>126</td>\n",
       "      <td>12.11</td>\n",
       "      <td>5.8</td>\n",
       "      <td>3</td>\n",
       "      <td>1.57</td>\n",
       "      <td>No</td>\n",
       "      <td>No</td>\n",
       "      <td>0</td>\n",
       "      <td>2</td>\n",
       "      <td>True</td>\n",
       "    </tr>\n",
       "    <tr>\n",
       "      <th>741</th>\n",
       "      <td>KY</td>\n",
       "      <td>510</td>\n",
       "      <td>74</td>\n",
       "      <td>125.8</td>\n",
       "      <td>103</td>\n",
       "      <td>21.39</td>\n",
       "      <td>207.7</td>\n",
       "      <td>96</td>\n",
       "      <td>17.65</td>\n",
       "      <td>207.4</td>\n",
       "      <td>143</td>\n",
       "      <td>9.33</td>\n",
       "      <td>14.1</td>\n",
       "      <td>4</td>\n",
       "      <td>3.81</td>\n",
       "      <td>Yes</td>\n",
       "      <td>No</td>\n",
       "      <td>0</td>\n",
       "      <td>1</td>\n",
       "      <td>True</td>\n",
       "    </tr>\n",
       "  </tbody>\n",
       "</table>\n",
       "</div>"
      ],
      "text/plain": [
       "     State  Area_code  Account_length  Total_day_minutes  Total_day_calls  \\\n",
       "2087    OH        510             115              345.3               81   \n",
       "1915    WY        415             157              180.4              123   \n",
       "479     AZ        415              84              159.0               80   \n",
       "1898    FL        415             105              273.8               97   \n",
       "741     KY        510              74              125.8              103   \n",
       "\n",
       "      Total_day_charge  Total_eve_minutes  Total_eve_calls  Total_eve_charge  \\\n",
       "2087             58.70              203.4              106             17.29   \n",
       "1915             30.67              194.0               98             16.49   \n",
       "479              27.03              167.9              128             14.27   \n",
       "1898             46.55              289.7              106             24.62   \n",
       "741              21.39              207.7               96             17.65   \n",
       "\n",
       "      Total_night_minutes  Total_night_calls  Total_night_charge  \\\n",
       "2087                217.5                107                9.79   \n",
       "1915                227.3                 88               10.23   \n",
       "479                 167.6                101                7.54   \n",
       "1898                269.1                126               12.11   \n",
       "741                 207.4                143                9.33   \n",
       "\n",
       "      Total_intl_minutes  Total_intl_calls  Total_intl_charge  \\\n",
       "2087                11.8                 8               3.19   \n",
       "1915                 8.4                 5               2.27   \n",
       "479                 12.3                 5               3.32   \n",
       "1898                 5.8                 3               1.57   \n",
       "741                 14.1                 4               3.81   \n",
       "\n",
       "     International_plan Voice_mail_plan  Number_vmail_messages  \\\n",
       "2087                Yes              No                      0   \n",
       "1915                Yes              No                      0   \n",
       "479                  No              No                      0   \n",
       "1898                 No              No                      0   \n",
       "741                 Yes              No                      0   \n",
       "\n",
       "      Customer_service_calls  Churn  \n",
       "2087                       1   True  \n",
       "1915                       0  False  \n",
       "479                        1  False  \n",
       "1898                       2   True  \n",
       "741                        1   True  "
      ]
     },
     "execution_count": 15,
     "metadata": {},
     "output_type": "execute_result"
    }
   ],
   "source": [
    "test_set.head()"
   ]
  },
  {
   "cell_type": "markdown",
   "id": "9661b883",
   "metadata": {},
   "source": [
    "### Create Histogram of target variable - Body Mass Index (BMI)"
   ]
  },
  {
   "cell_type": "code",
   "execution_count": 16,
   "id": "65b97c30",
   "metadata": {},
   "outputs": [],
   "source": [
    "## Convert categorical target variable, Churn, into a numerical binary varible\n",
    "\n",
    "churn_mapper = {True:1, False:0}\n",
    "\n",
    "data[\"Churn\"] = data[\"Churn\"].replace(churn_mapper)"
   ]
  },
  {
   "cell_type": "code",
   "execution_count": 17,
   "id": "d3180bb6",
   "metadata": {},
   "outputs": [
    {
     "data": {
      "text/plain": [
       "0    2278\n",
       "1     388\n",
       "Name: Churn, dtype: int64"
      ]
     },
     "execution_count": 17,
     "metadata": {},
     "output_type": "execute_result"
    }
   ],
   "source": [
    "data[\"Churn\"].value_counts()"
   ]
  },
  {
   "cell_type": "code",
   "execution_count": 18,
   "id": "9e415776",
   "metadata": {},
   "outputs": [
    {
     "data": {
      "text/html": [
       "<div>\n",
       "<style scoped>\n",
       "    .dataframe tbody tr th:only-of-type {\n",
       "        vertical-align: middle;\n",
       "    }\n",
       "\n",
       "    .dataframe tbody tr th {\n",
       "        vertical-align: top;\n",
       "    }\n",
       "\n",
       "    .dataframe thead th {\n",
       "        text-align: right;\n",
       "    }\n",
       "</style>\n",
       "<table border=\"1\" class=\"dataframe\">\n",
       "  <thead>\n",
       "    <tr style=\"text-align: right;\">\n",
       "      <th></th>\n",
       "      <th>State</th>\n",
       "      <th>Area_code</th>\n",
       "      <th>Account_length</th>\n",
       "      <th>Total_day_minutes</th>\n",
       "      <th>Total_day_calls</th>\n",
       "      <th>Total_day_charge</th>\n",
       "      <th>Total_eve_minutes</th>\n",
       "      <th>Total_eve_calls</th>\n",
       "      <th>Total_eve_charge</th>\n",
       "      <th>Total_night_minutes</th>\n",
       "      <th>Total_night_calls</th>\n",
       "      <th>Total_night_charge</th>\n",
       "      <th>Total_intl_minutes</th>\n",
       "      <th>Total_intl_calls</th>\n",
       "      <th>Total_intl_charge</th>\n",
       "      <th>International_plan</th>\n",
       "      <th>Voice_mail_plan</th>\n",
       "      <th>Number_vmail_messages</th>\n",
       "      <th>Customer_service_calls</th>\n",
       "      <th>Churn</th>\n",
       "    </tr>\n",
       "  </thead>\n",
       "  <tbody>\n",
       "    <tr>\n",
       "      <th>0</th>\n",
       "      <td>KS</td>\n",
       "      <td>415</td>\n",
       "      <td>128</td>\n",
       "      <td>265.1</td>\n",
       "      <td>110</td>\n",
       "      <td>45.07</td>\n",
       "      <td>197.4</td>\n",
       "      <td>99</td>\n",
       "      <td>16.78</td>\n",
       "      <td>244.7</td>\n",
       "      <td>91</td>\n",
       "      <td>11.01</td>\n",
       "      <td>10.0</td>\n",
       "      <td>3</td>\n",
       "      <td>2.70</td>\n",
       "      <td>No</td>\n",
       "      <td>Yes</td>\n",
       "      <td>25</td>\n",
       "      <td>1</td>\n",
       "      <td>0</td>\n",
       "    </tr>\n",
       "    <tr>\n",
       "      <th>1</th>\n",
       "      <td>OH</td>\n",
       "      <td>415</td>\n",
       "      <td>107</td>\n",
       "      <td>161.6</td>\n",
       "      <td>123</td>\n",
       "      <td>27.47</td>\n",
       "      <td>195.5</td>\n",
       "      <td>103</td>\n",
       "      <td>16.62</td>\n",
       "      <td>254.4</td>\n",
       "      <td>103</td>\n",
       "      <td>11.45</td>\n",
       "      <td>13.7</td>\n",
       "      <td>3</td>\n",
       "      <td>3.70</td>\n",
       "      <td>No</td>\n",
       "      <td>Yes</td>\n",
       "      <td>26</td>\n",
       "      <td>1</td>\n",
       "      <td>0</td>\n",
       "    </tr>\n",
       "    <tr>\n",
       "      <th>2</th>\n",
       "      <td>NJ</td>\n",
       "      <td>415</td>\n",
       "      <td>137</td>\n",
       "      <td>243.4</td>\n",
       "      <td>114</td>\n",
       "      <td>41.38</td>\n",
       "      <td>121.2</td>\n",
       "      <td>110</td>\n",
       "      <td>10.30</td>\n",
       "      <td>162.6</td>\n",
       "      <td>104</td>\n",
       "      <td>7.32</td>\n",
       "      <td>12.2</td>\n",
       "      <td>5</td>\n",
       "      <td>3.29</td>\n",
       "      <td>No</td>\n",
       "      <td>No</td>\n",
       "      <td>0</td>\n",
       "      <td>0</td>\n",
       "      <td>0</td>\n",
       "    </tr>\n",
       "    <tr>\n",
       "      <th>3</th>\n",
       "      <td>OH</td>\n",
       "      <td>408</td>\n",
       "      <td>84</td>\n",
       "      <td>299.4</td>\n",
       "      <td>71</td>\n",
       "      <td>50.90</td>\n",
       "      <td>61.9</td>\n",
       "      <td>88</td>\n",
       "      <td>5.26</td>\n",
       "      <td>196.9</td>\n",
       "      <td>89</td>\n",
       "      <td>8.86</td>\n",
       "      <td>6.6</td>\n",
       "      <td>7</td>\n",
       "      <td>1.78</td>\n",
       "      <td>Yes</td>\n",
       "      <td>No</td>\n",
       "      <td>0</td>\n",
       "      <td>2</td>\n",
       "      <td>0</td>\n",
       "    </tr>\n",
       "    <tr>\n",
       "      <th>4</th>\n",
       "      <td>OK</td>\n",
       "      <td>415</td>\n",
       "      <td>75</td>\n",
       "      <td>166.7</td>\n",
       "      <td>113</td>\n",
       "      <td>28.34</td>\n",
       "      <td>148.3</td>\n",
       "      <td>122</td>\n",
       "      <td>12.61</td>\n",
       "      <td>186.9</td>\n",
       "      <td>121</td>\n",
       "      <td>8.41</td>\n",
       "      <td>10.1</td>\n",
       "      <td>3</td>\n",
       "      <td>2.73</td>\n",
       "      <td>Yes</td>\n",
       "      <td>No</td>\n",
       "      <td>0</td>\n",
       "      <td>3</td>\n",
       "      <td>0</td>\n",
       "    </tr>\n",
       "  </tbody>\n",
       "</table>\n",
       "</div>"
      ],
      "text/plain": [
       "  State  Area_code  Account_length  Total_day_minutes  Total_day_calls  \\\n",
       "0    KS        415             128              265.1              110   \n",
       "1    OH        415             107              161.6              123   \n",
       "2    NJ        415             137              243.4              114   \n",
       "3    OH        408              84              299.4               71   \n",
       "4    OK        415              75              166.7              113   \n",
       "\n",
       "   Total_day_charge  Total_eve_minutes  Total_eve_calls  Total_eve_charge  \\\n",
       "0             45.07              197.4               99             16.78   \n",
       "1             27.47              195.5              103             16.62   \n",
       "2             41.38              121.2              110             10.30   \n",
       "3             50.90               61.9               88              5.26   \n",
       "4             28.34              148.3              122             12.61   \n",
       "\n",
       "   Total_night_minutes  Total_night_calls  Total_night_charge  \\\n",
       "0                244.7                 91               11.01   \n",
       "1                254.4                103               11.45   \n",
       "2                162.6                104                7.32   \n",
       "3                196.9                 89                8.86   \n",
       "4                186.9                121                8.41   \n",
       "\n",
       "   Total_intl_minutes  Total_intl_calls  Total_intl_charge International_plan  \\\n",
       "0                10.0                 3               2.70                 No   \n",
       "1                13.7                 3               3.70                 No   \n",
       "2                12.2                 5               3.29                 No   \n",
       "3                 6.6                 7               1.78                Yes   \n",
       "4                10.1                 3               2.73                Yes   \n",
       "\n",
       "  Voice_mail_plan  Number_vmail_messages  Customer_service_calls  Churn  \n",
       "0             Yes                     25                       1      0  \n",
       "1             Yes                     26                       1      0  \n",
       "2              No                      0                       0      0  \n",
       "3              No                      0                       2      0  \n",
       "4              No                      0                       3      0  "
      ]
     },
     "execution_count": 18,
     "metadata": {},
     "output_type": "execute_result"
    }
   ],
   "source": [
    "data.head()"
   ]
  },
  {
   "cell_type": "code",
   "execution_count": 19,
   "id": "5807f364",
   "metadata": {},
   "outputs": [
    {
     "data": {
      "text/plain": [
       "<AxesSubplot:>"
      ]
     },
     "execution_count": 19,
     "metadata": {},
     "output_type": "execute_result"
    },
    {
     "data": {
      "image/png": "[encoded data removed]",
      "text/plain": [
       "<Figure size 432x288 with 1 Axes>"
      ]
     },
     "metadata": {
      "needs_background": "light"
     },
     "output_type": "display_data"
    }
   ],
   "source": [
    "data[\"Churn\"].hist()"
   ]
  },
  {
   "cell_type": "markdown",
   "id": "c9434a29",
   "metadata": {},
   "source": [
    "### Exploring the U.S. state the customers come from"
   ]
  },
  {
   "cell_type": "code",
   "execution_count": 20,
   "id": "10c4011d",
   "metadata": {},
   "outputs": [
    {
     "data": {
      "text/html": [
       "<div>\n",
       "<style scoped>\n",
       "    .dataframe tbody tr th:only-of-type {\n",
       "        vertical-align: middle;\n",
       "    }\n",
       "\n",
       "    .dataframe tbody tr th {\n",
       "        vertical-align: top;\n",
       "    }\n",
       "\n",
       "    .dataframe thead th {\n",
       "        text-align: right;\n",
       "    }\n",
       "</style>\n",
       "<table border=\"1\" class=\"dataframe\">\n",
       "  <thead>\n",
       "    <tr style=\"text-align: right;\">\n",
       "      <th></th>\n",
       "      <th>Overall</th>\n",
       "      <th>Stratified</th>\n",
       "      <th>Random</th>\n",
       "      <th>Rand. %error</th>\n",
       "      <th>Strat. %error</th>\n",
       "    </tr>\n",
       "  </thead>\n",
       "  <tbody>\n",
       "    <tr>\n",
       "      <th>AK</th>\n",
       "      <td>0.016129</td>\n",
       "      <td>0.016854</td>\n",
       "      <td>0.016854</td>\n",
       "      <td>4.494382</td>\n",
       "      <td>4.494382</td>\n",
       "    </tr>\n",
       "    <tr>\n",
       "      <th>AL</th>\n",
       "      <td>0.024756</td>\n",
       "      <td>0.024345</td>\n",
       "      <td>0.026217</td>\n",
       "      <td>5.901714</td>\n",
       "      <td>-1.662694</td>\n",
       "    </tr>\n",
       "    <tr>\n",
       "      <th>AR</th>\n",
       "      <td>0.017629</td>\n",
       "      <td>0.016854</td>\n",
       "      <td>0.009363</td>\n",
       "      <td>-46.888198</td>\n",
       "      <td>-4.398757</td>\n",
       "    </tr>\n",
       "    <tr>\n",
       "      <th>AZ</th>\n",
       "      <td>0.016879</td>\n",
       "      <td>0.016854</td>\n",
       "      <td>0.022472</td>\n",
       "      <td>33.133583</td>\n",
       "      <td>-0.149813</td>\n",
       "    </tr>\n",
       "    <tr>\n",
       "      <th>CA</th>\n",
       "      <td>0.009002</td>\n",
       "      <td>0.009363</td>\n",
       "      <td>0.013109</td>\n",
       "      <td>45.614856</td>\n",
       "      <td>4.010612</td>\n",
       "    </tr>\n",
       "    <tr>\n",
       "      <th>CO</th>\n",
       "      <td>0.022131</td>\n",
       "      <td>0.022472</td>\n",
       "      <td>0.028090</td>\n",
       "      <td>26.928204</td>\n",
       "      <td>1.542563</td>\n",
       "    </tr>\n",
       "    <tr>\n",
       "      <th>CT</th>\n",
       "      <td>0.022131</td>\n",
       "      <td>0.022472</td>\n",
       "      <td>0.018727</td>\n",
       "      <td>-15.381197</td>\n",
       "      <td>1.542563</td>\n",
       "    </tr>\n",
       "    <tr>\n",
       "      <th>DC</th>\n",
       "      <td>0.016879</td>\n",
       "      <td>0.016854</td>\n",
       "      <td>0.026217</td>\n",
       "      <td>55.322514</td>\n",
       "      <td>-0.149813</td>\n",
       "    </tr>\n",
       "    <tr>\n",
       "      <th>DE</th>\n",
       "      <td>0.019130</td>\n",
       "      <td>0.018727</td>\n",
       "      <td>0.011236</td>\n",
       "      <td>-41.264596</td>\n",
       "      <td>-2.107660</td>\n",
       "    </tr>\n",
       "    <tr>\n",
       "      <th>FL</th>\n",
       "      <td>0.020255</td>\n",
       "      <td>0.020599</td>\n",
       "      <td>0.024345</td>\n",
       "      <td>20.190040</td>\n",
       "      <td>1.699265</td>\n",
       "    </tr>\n",
       "    <tr>\n",
       "      <th>GA</th>\n",
       "      <td>0.018380</td>\n",
       "      <td>0.018727</td>\n",
       "      <td>0.014981</td>\n",
       "      <td>-18.489643</td>\n",
       "      <td>1.887946</td>\n",
       "    </tr>\n",
       "    <tr>\n",
       "      <th>HI</th>\n",
       "      <td>0.016504</td>\n",
       "      <td>0.016854</td>\n",
       "      <td>0.011236</td>\n",
       "      <td>-31.920327</td>\n",
       "      <td>2.119510</td>\n",
       "    </tr>\n",
       "    <tr>\n",
       "      <th>IA</th>\n",
       "      <td>0.014254</td>\n",
       "      <td>0.013109</td>\n",
       "      <td>0.009363</td>\n",
       "      <td>-34.309087</td>\n",
       "      <td>-8.032722</td>\n",
       "    </tr>\n",
       "    <tr>\n",
       "      <th>ID</th>\n",
       "      <td>0.021005</td>\n",
       "      <td>0.020599</td>\n",
       "      <td>0.011236</td>\n",
       "      <td>-46.508828</td>\n",
       "      <td>-1.932852</td>\n",
       "    </tr>\n",
       "    <tr>\n",
       "      <th>IL</th>\n",
       "      <td>0.016879</td>\n",
       "      <td>0.016854</td>\n",
       "      <td>0.003745</td>\n",
       "      <td>-77.811069</td>\n",
       "      <td>-0.149813</td>\n",
       "    </tr>\n",
       "    <tr>\n",
       "      <th>IN</th>\n",
       "      <td>0.020255</td>\n",
       "      <td>0.020599</td>\n",
       "      <td>0.018727</td>\n",
       "      <td>-7.546123</td>\n",
       "      <td>1.699265</td>\n",
       "    </tr>\n",
       "    <tr>\n",
       "      <th>KS</th>\n",
       "      <td>0.019505</td>\n",
       "      <td>0.018727</td>\n",
       "      <td>0.014981</td>\n",
       "      <td>-23.192164</td>\n",
       "      <td>-3.990205</td>\n",
       "    </tr>\n",
       "    <tr>\n",
       "      <th>KY</th>\n",
       "      <td>0.016129</td>\n",
       "      <td>0.016854</td>\n",
       "      <td>0.026217</td>\n",
       "      <td>62.546816</td>\n",
       "      <td>4.494382</td>\n",
       "    </tr>\n",
       "    <tr>\n",
       "      <th>LA</th>\n",
       "      <td>0.013128</td>\n",
       "      <td>0.013109</td>\n",
       "      <td>0.013109</td>\n",
       "      <td>-0.149813</td>\n",
       "      <td>-0.149813</td>\n",
       "    </tr>\n",
       "    <tr>\n",
       "      <th>MA</th>\n",
       "      <td>0.019505</td>\n",
       "      <td>0.018727</td>\n",
       "      <td>0.026217</td>\n",
       "      <td>34.413714</td>\n",
       "      <td>-3.990205</td>\n",
       "    </tr>\n",
       "    <tr>\n",
       "      <th>MD</th>\n",
       "      <td>0.022506</td>\n",
       "      <td>0.022472</td>\n",
       "      <td>0.014981</td>\n",
       "      <td>-33.433208</td>\n",
       "      <td>-0.149813</td>\n",
       "    </tr>\n",
       "    <tr>\n",
       "      <th>ME</th>\n",
       "      <td>0.018380</td>\n",
       "      <td>0.018727</td>\n",
       "      <td>0.011236</td>\n",
       "      <td>-38.867232</td>\n",
       "      <td>1.887946</td>\n",
       "    </tr>\n",
       "    <tr>\n",
       "      <th>MI</th>\n",
       "      <td>0.021755</td>\n",
       "      <td>0.022472</td>\n",
       "      <td>0.028090</td>\n",
       "      <td>29.116621</td>\n",
       "      <td>3.293297</td>\n",
       "    </tr>\n",
       "    <tr>\n",
       "      <th>MN</th>\n",
       "      <td>0.026257</td>\n",
       "      <td>0.026217</td>\n",
       "      <td>0.033708</td>\n",
       "      <td>28.378812</td>\n",
       "      <td>-0.149813</td>\n",
       "    </tr>\n",
       "    <tr>\n",
       "      <th>MO</th>\n",
       "      <td>0.019130</td>\n",
       "      <td>0.018727</td>\n",
       "      <td>0.033708</td>\n",
       "      <td>76.206213</td>\n",
       "      <td>-2.107660</td>\n",
       "    </tr>\n",
       "    <tr>\n",
       "      <th>MS</th>\n",
       "      <td>0.018005</td>\n",
       "      <td>0.018727</td>\n",
       "      <td>0.031835</td>\n",
       "      <td>76.818040</td>\n",
       "      <td>4.010612</td>\n",
       "    </tr>\n",
       "    <tr>\n",
       "      <th>MT</th>\n",
       "      <td>0.019880</td>\n",
       "      <td>0.020599</td>\n",
       "      <td>0.020599</td>\n",
       "      <td>3.618119</td>\n",
       "      <td>3.618119</td>\n",
       "    </tr>\n",
       "    <tr>\n",
       "      <th>NC</th>\n",
       "      <td>0.021005</td>\n",
       "      <td>0.020599</td>\n",
       "      <td>0.014981</td>\n",
       "      <td>-28.678438</td>\n",
       "      <td>-1.932852</td>\n",
       "    </tr>\n",
       "    <tr>\n",
       "      <th>ND</th>\n",
       "      <td>0.016504</td>\n",
       "      <td>0.016854</td>\n",
       "      <td>0.020599</td>\n",
       "      <td>24.812734</td>\n",
       "      <td>2.119510</td>\n",
       "    </tr>\n",
       "    <tr>\n",
       "      <th>NE</th>\n",
       "      <td>0.016879</td>\n",
       "      <td>0.016854</td>\n",
       "      <td>0.018727</td>\n",
       "      <td>10.944653</td>\n",
       "      <td>-0.149813</td>\n",
       "    </tr>\n",
       "    <tr>\n",
       "      <th>NH</th>\n",
       "      <td>0.016129</td>\n",
       "      <td>0.016854</td>\n",
       "      <td>0.028090</td>\n",
       "      <td>74.157303</td>\n",
       "      <td>4.494382</td>\n",
       "    </tr>\n",
       "    <tr>\n",
       "      <th>NJ</th>\n",
       "      <td>0.018755</td>\n",
       "      <td>0.018727</td>\n",
       "      <td>0.011236</td>\n",
       "      <td>-40.089888</td>\n",
       "      <td>-0.149813</td>\n",
       "    </tr>\n",
       "    <tr>\n",
       "      <th>NM</th>\n",
       "      <td>0.016504</td>\n",
       "      <td>0.016854</td>\n",
       "      <td>0.009363</td>\n",
       "      <td>-43.266939</td>\n",
       "      <td>2.119510</td>\n",
       "    </tr>\n",
       "    <tr>\n",
       "      <th>NV</th>\n",
       "      <td>0.022881</td>\n",
       "      <td>0.022472</td>\n",
       "      <td>0.013109</td>\n",
       "      <td>-42.708909</td>\n",
       "      <td>-1.786701</td>\n",
       "    </tr>\n",
       "    <tr>\n",
       "      <th>NY</th>\n",
       "      <td>0.025506</td>\n",
       "      <td>0.026217</td>\n",
       "      <td>0.020599</td>\n",
       "      <td>-19.238819</td>\n",
       "      <td>2.786957</td>\n",
       "    </tr>\n",
       "    <tr>\n",
       "      <th>OH</th>\n",
       "      <td>0.024756</td>\n",
       "      <td>0.024345</td>\n",
       "      <td>0.018727</td>\n",
       "      <td>-24.355919</td>\n",
       "      <td>-1.662694</td>\n",
       "    </tr>\n",
       "    <tr>\n",
       "      <th>OK</th>\n",
       "      <td>0.019505</td>\n",
       "      <td>0.018727</td>\n",
       "      <td>0.016854</td>\n",
       "      <td>-13.591184</td>\n",
       "      <td>-3.990205</td>\n",
       "    </tr>\n",
       "    <tr>\n",
       "      <th>OR</th>\n",
       "      <td>0.023256</td>\n",
       "      <td>0.022472</td>\n",
       "      <td>0.020599</td>\n",
       "      <td>-11.423221</td>\n",
       "      <td>-3.370787</td>\n",
       "    </tr>\n",
       "    <tr>\n",
       "      <th>PA</th>\n",
       "      <td>0.013503</td>\n",
       "      <td>0.013109</td>\n",
       "      <td>0.018727</td>\n",
       "      <td>38.680816</td>\n",
       "      <td>-2.923429</td>\n",
       "    </tr>\n",
       "    <tr>\n",
       "      <th>RI</th>\n",
       "      <td>0.018005</td>\n",
       "      <td>0.018727</td>\n",
       "      <td>0.018727</td>\n",
       "      <td>4.010612</td>\n",
       "      <td>4.010612</td>\n",
       "    </tr>\n",
       "    <tr>\n",
       "      <th>SC</th>\n",
       "      <td>0.018380</td>\n",
       "      <td>0.018727</td>\n",
       "      <td>0.018727</td>\n",
       "      <td>1.887946</td>\n",
       "      <td>1.887946</td>\n",
       "    </tr>\n",
       "    <tr>\n",
       "      <th>SD</th>\n",
       "      <td>0.018380</td>\n",
       "      <td>0.018727</td>\n",
       "      <td>0.018727</td>\n",
       "      <td>1.887946</td>\n",
       "      <td>1.887946</td>\n",
       "    </tr>\n",
       "    <tr>\n",
       "      <th>TN</th>\n",
       "      <td>0.015379</td>\n",
       "      <td>0.014981</td>\n",
       "      <td>0.020599</td>\n",
       "      <td>33.945373</td>\n",
       "      <td>-2.585183</td>\n",
       "    </tr>\n",
       "    <tr>\n",
       "      <th>TX</th>\n",
       "      <td>0.020630</td>\n",
       "      <td>0.020599</td>\n",
       "      <td>0.018727</td>\n",
       "      <td>-9.227102</td>\n",
       "      <td>-0.149813</td>\n",
       "    </tr>\n",
       "    <tr>\n",
       "      <th>UT</th>\n",
       "      <td>0.022506</td>\n",
       "      <td>0.022472</td>\n",
       "      <td>0.013109</td>\n",
       "      <td>-41.754057</td>\n",
       "      <td>-0.149813</td>\n",
       "    </tr>\n",
       "    <tr>\n",
       "      <th>VA</th>\n",
       "      <td>0.025131</td>\n",
       "      <td>0.024345</td>\n",
       "      <td>0.028090</td>\n",
       "      <td>11.772598</td>\n",
       "      <td>-3.130415</td>\n",
       "    </tr>\n",
       "    <tr>\n",
       "      <th>VT</th>\n",
       "      <td>0.021380</td>\n",
       "      <td>0.020599</td>\n",
       "      <td>0.018727</td>\n",
       "      <td>-12.412116</td>\n",
       "      <td>-3.653328</td>\n",
       "    </tr>\n",
       "    <tr>\n",
       "      <th>WA</th>\n",
       "      <td>0.018005</td>\n",
       "      <td>0.018727</td>\n",
       "      <td>0.016854</td>\n",
       "      <td>-6.390449</td>\n",
       "      <td>4.010612</td>\n",
       "    </tr>\n",
       "    <tr>\n",
       "      <th>WI</th>\n",
       "      <td>0.022881</td>\n",
       "      <td>0.022472</td>\n",
       "      <td>0.018727</td>\n",
       "      <td>-18.155584</td>\n",
       "      <td>-1.786701</td>\n",
       "    </tr>\n",
       "    <tr>\n",
       "      <th>WV</th>\n",
       "      <td>0.033008</td>\n",
       "      <td>0.033708</td>\n",
       "      <td>0.044944</td>\n",
       "      <td>36.159346</td>\n",
       "      <td>2.119510</td>\n",
       "    </tr>\n",
       "    <tr>\n",
       "      <th>WY</th>\n",
       "      <td>0.024756</td>\n",
       "      <td>0.024345</td>\n",
       "      <td>0.031835</td>\n",
       "      <td>28.594938</td>\n",
       "      <td>-1.662694</td>\n",
       "    </tr>\n",
       "  </tbody>\n",
       "</table>\n",
       "</div>"
      ],
      "text/plain": [
       "     Overall  Stratified    Random  Rand. %error  Strat. %error\n",
       "AK  0.016129    0.016854  0.016854      4.494382       4.494382\n",
       "AL  0.024756    0.024345  0.026217      5.901714      -1.662694\n",
       "AR  0.017629    0.016854  0.009363    -46.888198      -4.398757\n",
       "AZ  0.016879    0.016854  0.022472     33.133583      -0.149813\n",
       "CA  0.009002    0.009363  0.013109     45.614856       4.010612\n",
       "CO  0.022131    0.022472  0.028090     26.928204       1.542563\n",
       "CT  0.022131    0.022472  0.018727    -15.381197       1.542563\n",
       "DC  0.016879    0.016854  0.026217     55.322514      -0.149813\n",
       "DE  0.019130    0.018727  0.011236    -41.264596      -2.107660\n",
       "FL  0.020255    0.020599  0.024345     20.190040       1.699265\n",
       "GA  0.018380    0.018727  0.014981    -18.489643       1.887946\n",
       "HI  0.016504    0.016854  0.011236    -31.920327       2.119510\n",
       "IA  0.014254    0.013109  0.009363    -34.309087      -8.032722\n",
       "ID  0.021005    0.020599  0.011236    -46.508828      -1.932852\n",
       "IL  0.016879    0.016854  0.003745    -77.811069      -0.149813\n",
       "IN  0.020255    0.020599  0.018727     -7.546123       1.699265\n",
       "KS  0.019505    0.018727  0.014981    -23.192164      -3.990205\n",
       "KY  0.016129    0.016854  0.026217     62.546816       4.494382\n",
       "LA  0.013128    0.013109  0.013109     -0.149813      -0.149813\n",
       "MA  0.019505    0.018727  0.026217     34.413714      -3.990205\n",
       "MD  0.022506    0.022472  0.014981    -33.433208      -0.149813\n",
       "ME  0.018380    0.018727  0.011236    -38.867232       1.887946\n",
       "MI  0.021755    0.022472  0.028090     29.116621       3.293297\n",
       "MN  0.026257    0.026217  0.033708     28.378812      -0.149813\n",
       "MO  0.019130    0.018727  0.033708     76.206213      -2.107660\n",
       "MS  0.018005    0.018727  0.031835     76.818040       4.010612\n",
       "MT  0.019880    0.020599  0.020599      3.618119       3.618119\n",
       "NC  0.021005    0.020599  0.014981    -28.678438      -1.932852\n",
       "ND  0.016504    0.016854  0.020599     24.812734       2.119510\n",
       "NE  0.016879    0.016854  0.018727     10.944653      -0.149813\n",
       "NH  0.016129    0.016854  0.028090     74.157303       4.494382\n",
       "NJ  0.018755    0.018727  0.011236    -40.089888      -0.149813\n",
       "NM  0.016504    0.016854  0.009363    -43.266939       2.119510\n",
       "NV  0.022881    0.022472  0.013109    -42.708909      -1.786701\n",
       "NY  0.025506    0.026217  0.020599    -19.238819       2.786957\n",
       "OH  0.024756    0.024345  0.018727    -24.355919      -1.662694\n",
       "OK  0.019505    0.018727  0.016854    -13.591184      -3.990205\n",
       "OR  0.023256    0.022472  0.020599    -11.423221      -3.370787\n",
       "PA  0.013503    0.013109  0.018727     38.680816      -2.923429\n",
       "RI  0.018005    0.018727  0.018727      4.010612       4.010612\n",
       "SC  0.018380    0.018727  0.018727      1.887946       1.887946\n",
       "SD  0.018380    0.018727  0.018727      1.887946       1.887946\n",
       "TN  0.015379    0.014981  0.020599     33.945373      -2.585183\n",
       "TX  0.020630    0.020599  0.018727     -9.227102      -0.149813\n",
       "UT  0.022506    0.022472  0.013109    -41.754057      -0.149813\n",
       "VA  0.025131    0.024345  0.028090     11.772598      -3.130415\n",
       "VT  0.021380    0.020599  0.018727    -12.412116      -3.653328\n",
       "WA  0.018005    0.018727  0.016854     -6.390449       4.010612\n",
       "WI  0.022881    0.022472  0.018727    -18.155584      -1.786701\n",
       "WV  0.033008    0.033708  0.044944     36.159346       2.119510\n",
       "WY  0.024756    0.024345  0.031835     28.594938      -1.662694"
      ]
     },
     "execution_count": 20,
     "metadata": {},
     "output_type": "execute_result"
    },
    {
     "data": {
      "image/png": "[encoded data removed]",
      "text/plain": [
       "<Figure size 432x288 with 1 Axes>"
      ]
     },
     "metadata": {
      "needs_background": "light"
     },
     "output_type": "display_data"
    }
   ],
   "source": [
    "data[\"State\"].hist()\n",
    "\n",
    "\n",
    "from sklearn.model_selection import StratifiedShuffleSplit\n",
    "\n",
    "split = StratifiedShuffleSplit(n_splits=1, test_size=0.2, random_state=42)\n",
    "for train_index, test_index in split.split(data, data[\"State\"]):\n",
    "    strat_train_set = data.loc[train_index]\n",
    "    strat_test_set = data.loc[test_index]\n",
    "\n",
    "strat_test_set[\"State\"].value_counts() / len(strat_test_set)\n",
    "\n",
    "data[\"State\"].value_counts() / len(data)\n",
    "\n",
    "def state_proportions(data):\n",
    "    return data[\"State\"].value_counts() / len(data)\n",
    "\n",
    "train_set, test_set = train_test_split(data, test_size=0.2, random_state=42)\n",
    "\n",
    "compare_props = pd.DataFrame({\n",
    "    \"Overall\": state_proportions(data),\n",
    "    \"Stratified\": state_proportions(strat_test_set),\n",
    "    \"Random\": state_proportions(test_set),\n",
    "}).sort_index()\n",
    "compare_props[\"Rand. %error\"] = 100 * compare_props[\"Random\"] / compare_props[\"Overall\"] - 100\n",
    "compare_props[\"Strat. %error\"] = 100 * compare_props[\"Stratified\"] / compare_props[\"Overall\"] - 100\n",
    "\n",
    "compare_props"
   ]
  },
  {
   "cell_type": "markdown",
   "id": "42167faa",
   "metadata": {},
   "source": [
    "# Discover and Visualize the Data to Gain Insights"
   ]
  },
  {
   "cell_type": "code",
   "execution_count": 21,
   "id": "c6fb9c74",
   "metadata": {},
   "outputs": [],
   "source": [
    "data = strat_train_set.copy()"
   ]
  },
  {
   "cell_type": "code",
   "execution_count": 22,
   "id": "9ec4bc47",
   "metadata": {},
   "outputs": [
    {
     "name": "stderr",
     "output_type": "stream",
     "text": [
      "*c* argument looks like a single numeric RGB or RGBA sequence, which should be avoided as value-mapping will have precedence in case its length matches with *x* & *y*.  Please use the *color* keyword-argument or provide a 2-D array with a single row if you intend to specify the same RGB or RGBA value for all points.\n"
     ]
    },
    {
     "data": {
      "text/plain": [
       "<AxesSubplot:xlabel='Total_intl_calls', ylabel='Total_night_calls'>"
      ]
     },
     "execution_count": 22,
     "metadata": {},
     "output_type": "execute_result"
    },
    {
     "data": {
      "image/png": "[encoded data removed]",
      "text/plain": [
       "<Figure size 432x288 with 1 Axes>"
      ]
     },
     "metadata": {
      "needs_background": "light"
     },
     "output_type": "display_data"
    }
   ],
   "source": [
    "data.plot(kind=\"scatter\", x=\"Total_intl_calls\", y=\"Total_night_calls\")"
   ]
  },
  {
   "cell_type": "code",
   "execution_count": 23,
   "id": "6c646201",
   "metadata": {},
   "outputs": [
    {
     "data": {
      "image/png": "[encoded data removed]",
      "text/plain": [
       "<Figure size 806.4x252 with 2 Axes>"
      ]
     },
     "metadata": {
      "needs_background": "light"
     },
     "output_type": "display_data"
    }
   ],
   "source": [
    "import seaborn as sns\n",
    "\n",
    "# Plot\n",
    "calls_by_plan_type = sns.catplot(x=\"Total_day_calls\", col=\"International_plan\", col_wrap=4,\n",
    "                        data=data[data.Total_day_calls.notnull()],\n",
    "                        kind=\"count\", height=3.5, aspect=.8, \n",
    "                        palette='tab20')"
   ]
  },
  {
   "cell_type": "markdown",
   "id": "bd642642",
   "metadata": {},
   "source": [
    "## Looking for Correlations"
   ]
  },
  {
   "cell_type": "code",
   "execution_count": 24,
   "id": "5580fa9e",
   "metadata": {},
   "outputs": [],
   "source": [
    "corr_matrix = data.corr()"
   ]
  },
  {
   "cell_type": "code",
   "execution_count": 25,
   "id": "19fd0e29",
   "metadata": {},
   "outputs": [
    {
     "data": {
      "text/plain": [
       "Churn                     1.000000\n",
       "Customer_service_calls    0.194654\n",
       "Total_day_charge          0.184842\n",
       "Total_day_minutes         0.184841\n",
       "Total_intl_charge         0.088277\n",
       "Total_intl_minutes        0.088273\n",
       "Total_eve_minutes         0.076338\n",
       "Total_eve_charge          0.076315\n",
       "Total_night_charge        0.036044\n",
       "Total_night_minutes       0.034811\n",
       "Total_night_calls         0.027120\n",
       "Total_day_calls           0.020256\n",
       "Account_length            0.016519\n",
       "Area_code                 0.014559\n",
       "Total_eve_calls          -0.011022\n",
       "Total_intl_calls         -0.088977\n",
       "Number_vmail_messages    -0.094260\n",
       "Name: Churn, dtype: float64"
      ]
     },
     "execution_count": 25,
     "metadata": {},
     "output_type": "execute_result"
    }
   ],
   "source": [
    "corr_matrix[\"Churn\"].sort_values(ascending=False)"
   ]
  },
  {
   "cell_type": "code",
   "execution_count": 26,
   "id": "db902f32",
   "metadata": {},
   "outputs": [
    {
     "data": {
      "text/html": [
       "<div>\n",
       "<style scoped>\n",
       "    .dataframe tbody tr th:only-of-type {\n",
       "        vertical-align: middle;\n",
       "    }\n",
       "\n",
       "    .dataframe tbody tr th {\n",
       "        vertical-align: top;\n",
       "    }\n",
       "\n",
       "    .dataframe thead th {\n",
       "        text-align: right;\n",
       "    }\n",
       "</style>\n",
       "<table border=\"1\" class=\"dataframe\">\n",
       "  <thead>\n",
       "    <tr style=\"text-align: right;\">\n",
       "      <th></th>\n",
       "      <th>Area_code</th>\n",
       "      <th>Account_length</th>\n",
       "      <th>Total_day_minutes</th>\n",
       "      <th>Total_day_calls</th>\n",
       "      <th>Total_day_charge</th>\n",
       "      <th>Total_eve_minutes</th>\n",
       "      <th>Total_eve_calls</th>\n",
       "      <th>Total_eve_charge</th>\n",
       "      <th>Total_night_minutes</th>\n",
       "      <th>Total_night_calls</th>\n",
       "      <th>Total_night_charge</th>\n",
       "      <th>Total_intl_minutes</th>\n",
       "      <th>Total_intl_calls</th>\n",
       "      <th>Total_intl_charge</th>\n",
       "      <th>Number_vmail_messages</th>\n",
       "      <th>Customer_service_calls</th>\n",
       "      <th>Churn</th>\n",
       "    </tr>\n",
       "  </thead>\n",
       "  <tbody>\n",
       "    <tr>\n",
       "      <th>Area_code</th>\n",
       "      <td>1.000000</td>\n",
       "      <td>-0.015517</td>\n",
       "      <td>-0.014824</td>\n",
       "      <td>-0.014107</td>\n",
       "      <td>-0.014820</td>\n",
       "      <td>0.001406</td>\n",
       "      <td>-0.013189</td>\n",
       "      <td>0.001432</td>\n",
       "      <td>0.000260</td>\n",
       "      <td>0.021955</td>\n",
       "      <td>0.001140</td>\n",
       "      <td>-0.022579</td>\n",
       "      <td>-0.032075</td>\n",
       "      <td>-0.022700</td>\n",
       "      <td>-0.009922</td>\n",
       "      <td>0.039869</td>\n",
       "      <td>0.014559</td>\n",
       "    </tr>\n",
       "    <tr>\n",
       "      <th>Account_length</th>\n",
       "      <td>-0.015517</td>\n",
       "      <td>1.000000</td>\n",
       "      <td>0.014534</td>\n",
       "      <td>0.041685</td>\n",
       "      <td>0.014532</td>\n",
       "      <td>-0.020648</td>\n",
       "      <td>0.008811</td>\n",
       "      <td>-0.020637</td>\n",
       "      <td>-0.014655</td>\n",
       "      <td>-0.026544</td>\n",
       "      <td>-0.014451</td>\n",
       "      <td>0.022000</td>\n",
       "      <td>0.026349</td>\n",
       "      <td>0.021992</td>\n",
       "      <td>-0.003882</td>\n",
       "      <td>0.003726</td>\n",
       "      <td>0.016519</td>\n",
       "    </tr>\n",
       "    <tr>\n",
       "      <th>Total_day_minutes</th>\n",
       "      <td>-0.014824</td>\n",
       "      <td>0.014534</td>\n",
       "      <td>1.000000</td>\n",
       "      <td>0.009166</td>\n",
       "      <td>1.000000</td>\n",
       "      <td>0.014010</td>\n",
       "      <td>-0.004854</td>\n",
       "      <td>0.014006</td>\n",
       "      <td>0.003999</td>\n",
       "      <td>0.000586</td>\n",
       "      <td>0.003972</td>\n",
       "      <td>-0.013321</td>\n",
       "      <td>0.000556</td>\n",
       "      <td>-0.013238</td>\n",
       "      <td>0.015185</td>\n",
       "      <td>-0.029904</td>\n",
       "      <td>0.184841</td>\n",
       "    </tr>\n",
       "    <tr>\n",
       "      <th>Total_day_calls</th>\n",
       "      <td>-0.014107</td>\n",
       "      <td>0.041685</td>\n",
       "      <td>0.009166</td>\n",
       "      <td>1.000000</td>\n",
       "      <td>0.009175</td>\n",
       "      <td>-0.029004</td>\n",
       "      <td>0.012652</td>\n",
       "      <td>-0.029016</td>\n",
       "      <td>0.016971</td>\n",
       "      <td>-0.015593</td>\n",
       "      <td>0.020655</td>\n",
       "      <td>0.040358</td>\n",
       "      <td>-0.011095</td>\n",
       "      <td>0.040417</td>\n",
       "      <td>-0.004684</td>\n",
       "      <td>-0.015746</td>\n",
       "      <td>0.020256</td>\n",
       "    </tr>\n",
       "    <tr>\n",
       "      <th>Total_day_charge</th>\n",
       "      <td>-0.014820</td>\n",
       "      <td>0.014532</td>\n",
       "      <td>1.000000</td>\n",
       "      <td>0.009175</td>\n",
       "      <td>1.000000</td>\n",
       "      <td>0.014020</td>\n",
       "      <td>-0.004854</td>\n",
       "      <td>0.014015</td>\n",
       "      <td>0.004004</td>\n",
       "      <td>0.000587</td>\n",
       "      <td>0.003976</td>\n",
       "      <td>-0.013330</td>\n",
       "      <td>0.000558</td>\n",
       "      <td>-0.013247</td>\n",
       "      <td>0.015181</td>\n",
       "      <td>-0.029911</td>\n",
       "      <td>0.184842</td>\n",
       "    </tr>\n",
       "    <tr>\n",
       "      <th>Total_eve_minutes</th>\n",
       "      <td>0.001406</td>\n",
       "      <td>-0.020648</td>\n",
       "      <td>0.014010</td>\n",
       "      <td>-0.029004</td>\n",
       "      <td>0.014020</td>\n",
       "      <td>1.000000</td>\n",
       "      <td>-0.003597</td>\n",
       "      <td>1.000000</td>\n",
       "      <td>-0.007930</td>\n",
       "      <td>0.027394</td>\n",
       "      <td>-0.007527</td>\n",
       "      <td>-0.004413</td>\n",
       "      <td>0.012337</td>\n",
       "      <td>-0.004520</td>\n",
       "      <td>0.011982</td>\n",
       "      <td>0.003270</td>\n",
       "      <td>0.076338</td>\n",
       "    </tr>\n",
       "    <tr>\n",
       "      <th>Total_eve_calls</th>\n",
       "      <td>-0.013189</td>\n",
       "      <td>0.008811</td>\n",
       "      <td>-0.004854</td>\n",
       "      <td>0.012652</td>\n",
       "      <td>-0.004854</td>\n",
       "      <td>-0.003597</td>\n",
       "      <td>1.000000</td>\n",
       "      <td>-0.003582</td>\n",
       "      <td>-0.007292</td>\n",
       "      <td>-0.000753</td>\n",
       "      <td>-0.006558</td>\n",
       "      <td>0.036561</td>\n",
       "      <td>0.028618</td>\n",
       "      <td>0.036565</td>\n",
       "      <td>0.010930</td>\n",
       "      <td>-0.024081</td>\n",
       "      <td>-0.011022</td>\n",
       "    </tr>\n",
       "    <tr>\n",
       "      <th>Total_eve_charge</th>\n",
       "      <td>0.001432</td>\n",
       "      <td>-0.020637</td>\n",
       "      <td>0.014006</td>\n",
       "      <td>-0.029016</td>\n",
       "      <td>0.014015</td>\n",
       "      <td>1.000000</td>\n",
       "      <td>-0.003582</td>\n",
       "      <td>1.000000</td>\n",
       "      <td>-0.007938</td>\n",
       "      <td>0.027408</td>\n",
       "      <td>-0.007538</td>\n",
       "      <td>-0.004434</td>\n",
       "      <td>0.012347</td>\n",
       "      <td>-0.004540</td>\n",
       "      <td>0.012007</td>\n",
       "      <td>0.003263</td>\n",
       "      <td>0.076315</td>\n",
       "    </tr>\n",
       "    <tr>\n",
       "      <th>Total_night_minutes</th>\n",
       "      <td>0.000260</td>\n",
       "      <td>-0.014655</td>\n",
       "      <td>0.003999</td>\n",
       "      <td>0.016971</td>\n",
       "      <td>0.004004</td>\n",
       "      <td>-0.007930</td>\n",
       "      <td>-0.007292</td>\n",
       "      <td>-0.007938</td>\n",
       "      <td>1.000000</td>\n",
       "      <td>0.010557</td>\n",
       "      <td>0.999999</td>\n",
       "      <td>0.007048</td>\n",
       "      <td>0.001945</td>\n",
       "      <td>0.007176</td>\n",
       "      <td>0.008654</td>\n",
       "      <td>0.004873</td>\n",
       "      <td>0.034811</td>\n",
       "    </tr>\n",
       "    <tr>\n",
       "      <th>Total_night_calls</th>\n",
       "      <td>0.021955</td>\n",
       "      <td>-0.026544</td>\n",
       "      <td>0.000586</td>\n",
       "      <td>-0.015593</td>\n",
       "      <td>0.000587</td>\n",
       "      <td>0.027394</td>\n",
       "      <td>-0.000753</td>\n",
       "      <td>0.027408</td>\n",
       "      <td>0.010557</td>\n",
       "      <td>1.000000</td>\n",
       "      <td>0.011518</td>\n",
       "      <td>-0.025886</td>\n",
       "      <td>0.024300</td>\n",
       "      <td>-0.025853</td>\n",
       "      <td>0.008324</td>\n",
       "      <td>0.003451</td>\n",
       "      <td>0.027120</td>\n",
       "    </tr>\n",
       "    <tr>\n",
       "      <th>Total_night_charge</th>\n",
       "      <td>0.001140</td>\n",
       "      <td>-0.014451</td>\n",
       "      <td>0.003972</td>\n",
       "      <td>0.020655</td>\n",
       "      <td>0.003976</td>\n",
       "      <td>-0.007527</td>\n",
       "      <td>-0.006558</td>\n",
       "      <td>-0.007538</td>\n",
       "      <td>0.999999</td>\n",
       "      <td>0.011518</td>\n",
       "      <td>1.000000</td>\n",
       "      <td>0.006509</td>\n",
       "      <td>0.001216</td>\n",
       "      <td>0.006652</td>\n",
       "      <td>0.006777</td>\n",
       "      <td>0.002603</td>\n",
       "      <td>0.036044</td>\n",
       "    </tr>\n",
       "    <tr>\n",
       "      <th>Total_intl_minutes</th>\n",
       "      <td>-0.022579</td>\n",
       "      <td>0.022000</td>\n",
       "      <td>-0.013321</td>\n",
       "      <td>0.040358</td>\n",
       "      <td>-0.013330</td>\n",
       "      <td>-0.004413</td>\n",
       "      <td>0.036561</td>\n",
       "      <td>-0.004434</td>\n",
       "      <td>0.007048</td>\n",
       "      <td>-0.025886</td>\n",
       "      <td>0.006509</td>\n",
       "      <td>1.000000</td>\n",
       "      <td>0.021110</td>\n",
       "      <td>0.999992</td>\n",
       "      <td>-0.008958</td>\n",
       "      <td>0.008665</td>\n",
       "      <td>0.088273</td>\n",
       "    </tr>\n",
       "    <tr>\n",
       "      <th>Total_intl_calls</th>\n",
       "      <td>-0.032075</td>\n",
       "      <td>0.026349</td>\n",
       "      <td>0.000556</td>\n",
       "      <td>-0.011095</td>\n",
       "      <td>0.000558</td>\n",
       "      <td>0.012337</td>\n",
       "      <td>0.028618</td>\n",
       "      <td>0.012347</td>\n",
       "      <td>0.001945</td>\n",
       "      <td>0.024300</td>\n",
       "      <td>0.001216</td>\n",
       "      <td>0.021110</td>\n",
       "      <td>1.000000</td>\n",
       "      <td>0.021216</td>\n",
       "      <td>0.037988</td>\n",
       "      <td>-0.018962</td>\n",
       "      <td>-0.088977</td>\n",
       "    </tr>\n",
       "    <tr>\n",
       "      <th>Total_intl_charge</th>\n",
       "      <td>-0.022700</td>\n",
       "      <td>0.021992</td>\n",
       "      <td>-0.013238</td>\n",
       "      <td>0.040417</td>\n",
       "      <td>-0.013247</td>\n",
       "      <td>-0.004520</td>\n",
       "      <td>0.036565</td>\n",
       "      <td>-0.004540</td>\n",
       "      <td>0.007176</td>\n",
       "      <td>-0.025853</td>\n",
       "      <td>0.006652</td>\n",
       "      <td>0.999992</td>\n",
       "      <td>0.021216</td>\n",
       "      <td>1.000000</td>\n",
       "      <td>-0.008921</td>\n",
       "      <td>0.008653</td>\n",
       "      <td>0.088277</td>\n",
       "    </tr>\n",
       "    <tr>\n",
       "      <th>Number_vmail_messages</th>\n",
       "      <td>-0.009922</td>\n",
       "      <td>-0.003882</td>\n",
       "      <td>0.015185</td>\n",
       "      <td>-0.004684</td>\n",
       "      <td>0.015181</td>\n",
       "      <td>0.011982</td>\n",
       "      <td>0.010930</td>\n",
       "      <td>0.012007</td>\n",
       "      <td>0.008654</td>\n",
       "      <td>0.008324</td>\n",
       "      <td>0.006777</td>\n",
       "      <td>-0.008958</td>\n",
       "      <td>0.037988</td>\n",
       "      <td>-0.008921</td>\n",
       "      <td>1.000000</td>\n",
       "      <td>-0.024008</td>\n",
       "      <td>-0.094260</td>\n",
       "    </tr>\n",
       "    <tr>\n",
       "      <th>Customer_service_calls</th>\n",
       "      <td>0.039869</td>\n",
       "      <td>0.003726</td>\n",
       "      <td>-0.029904</td>\n",
       "      <td>-0.015746</td>\n",
       "      <td>-0.029911</td>\n",
       "      <td>0.003270</td>\n",
       "      <td>-0.024081</td>\n",
       "      <td>0.003263</td>\n",
       "      <td>0.004873</td>\n",
       "      <td>0.003451</td>\n",
       "      <td>0.002603</td>\n",
       "      <td>0.008665</td>\n",
       "      <td>-0.018962</td>\n",
       "      <td>0.008653</td>\n",
       "      <td>-0.024008</td>\n",
       "      <td>1.000000</td>\n",
       "      <td>0.194654</td>\n",
       "    </tr>\n",
       "    <tr>\n",
       "      <th>Churn</th>\n",
       "      <td>0.014559</td>\n",
       "      <td>0.016519</td>\n",
       "      <td>0.184841</td>\n",
       "      <td>0.020256</td>\n",
       "      <td>0.184842</td>\n",
       "      <td>0.076338</td>\n",
       "      <td>-0.011022</td>\n",
       "      <td>0.076315</td>\n",
       "      <td>0.034811</td>\n",
       "      <td>0.027120</td>\n",
       "      <td>0.036044</td>\n",
       "      <td>0.088273</td>\n",
       "      <td>-0.088977</td>\n",
       "      <td>0.088277</td>\n",
       "      <td>-0.094260</td>\n",
       "      <td>0.194654</td>\n",
       "      <td>1.000000</td>\n",
       "    </tr>\n",
       "  </tbody>\n",
       "</table>\n",
       "</div>"
      ],
      "text/plain": [
       "                        Area_code  Account_length  Total_day_minutes  \\\n",
       "Area_code                1.000000       -0.015517          -0.014824   \n",
       "Account_length          -0.015517        1.000000           0.014534   \n",
       "Total_day_minutes       -0.014824        0.014534           1.000000   \n",
       "Total_day_calls         -0.014107        0.041685           0.009166   \n",
       "Total_day_charge        -0.014820        0.014532           1.000000   \n",
       "Total_eve_minutes        0.001406       -0.020648           0.014010   \n",
       "Total_eve_calls         -0.013189        0.008811          -0.004854   \n",
       "Total_eve_charge         0.001432       -0.020637           0.014006   \n",
       "Total_night_minutes      0.000260       -0.014655           0.003999   \n",
       "Total_night_calls        0.021955       -0.026544           0.000586   \n",
       "Total_night_charge       0.001140       -0.014451           0.003972   \n",
       "Total_intl_minutes      -0.022579        0.022000          -0.013321   \n",
       "Total_intl_calls        -0.032075        0.026349           0.000556   \n",
       "Total_intl_charge       -0.022700        0.021992          -0.013238   \n",
       "Number_vmail_messages   -0.009922       -0.003882           0.015185   \n",
       "Customer_service_calls   0.039869        0.003726          -0.029904   \n",
       "Churn                    0.014559        0.016519           0.184841   \n",
       "\n",
       "                        Total_day_calls  Total_day_charge  Total_eve_minutes  \\\n",
       "Area_code                     -0.014107         -0.014820           0.001406   \n",
       "Account_length                 0.041685          0.014532          -0.020648   \n",
       "Total_day_minutes              0.009166          1.000000           0.014010   \n",
       "Total_day_calls                1.000000          0.009175          -0.029004   \n",
       "Total_day_charge               0.009175          1.000000           0.014020   \n",
       "Total_eve_minutes             -0.029004          0.014020           1.000000   \n",
       "Total_eve_calls                0.012652         -0.004854          -0.003597   \n",
       "Total_eve_charge              -0.029016          0.014015           1.000000   \n",
       "Total_night_minutes            0.016971          0.004004          -0.007930   \n",
       "Total_night_calls             -0.015593          0.000587           0.027394   \n",
       "Total_night_charge             0.020655          0.003976          -0.007527   \n",
       "Total_intl_minutes             0.040358         -0.013330          -0.004413   \n",
       "Total_intl_calls              -0.011095          0.000558           0.012337   \n",
       "Total_intl_charge              0.040417         -0.013247          -0.004520   \n",
       "Number_vmail_messages         -0.004684          0.015181           0.011982   \n",
       "Customer_service_calls        -0.015746         -0.029911           0.003270   \n",
       "Churn                          0.020256          0.184842           0.076338   \n",
       "\n",
       "                        Total_eve_calls  Total_eve_charge  \\\n",
       "Area_code                     -0.013189          0.001432   \n",
       "Account_length                 0.008811         -0.020637   \n",
       "Total_day_minutes             -0.004854          0.014006   \n",
       "Total_day_calls                0.012652         -0.029016   \n",
       "Total_day_charge              -0.004854          0.014015   \n",
       "Total_eve_minutes             -0.003597          1.000000   \n",
       "Total_eve_calls                1.000000         -0.003582   \n",
       "Total_eve_charge              -0.003582          1.000000   \n",
       "Total_night_minutes           -0.007292         -0.007938   \n",
       "Total_night_calls             -0.000753          0.027408   \n",
       "Total_night_charge            -0.006558         -0.007538   \n",
       "Total_intl_minutes             0.036561         -0.004434   \n",
       "Total_intl_calls               0.028618          0.012347   \n",
       "Total_intl_charge              0.036565         -0.004540   \n",
       "Number_vmail_messages          0.010930          0.012007   \n",
       "Customer_service_calls        -0.024081          0.003263   \n",
       "Churn                         -0.011022          0.076315   \n",
       "\n",
       "                        Total_night_minutes  Total_night_calls  \\\n",
       "Area_code                          0.000260           0.021955   \n",
       "Account_length                    -0.014655          -0.026544   \n",
       "Total_day_minutes                  0.003999           0.000586   \n",
       "Total_day_calls                    0.016971          -0.015593   \n",
       "Total_day_charge                   0.004004           0.000587   \n",
       "Total_eve_minutes                 -0.007930           0.027394   \n",
       "Total_eve_calls                   -0.007292          -0.000753   \n",
       "Total_eve_charge                  -0.007938           0.027408   \n",
       "Total_night_minutes                1.000000           0.010557   \n",
       "Total_night_calls                  0.010557           1.000000   \n",
       "Total_night_charge                 0.999999           0.011518   \n",
       "Total_intl_minutes                 0.007048          -0.025886   \n",
       "Total_intl_calls                   0.001945           0.024300   \n",
       "Total_intl_charge                  0.007176          -0.025853   \n",
       "Number_vmail_messages              0.008654           0.008324   \n",
       "Customer_service_calls             0.004873           0.003451   \n",
       "Churn                              0.034811           0.027120   \n",
       "\n",
       "                        Total_night_charge  Total_intl_minutes  \\\n",
       "Area_code                         0.001140           -0.022579   \n",
       "Account_length                   -0.014451            0.022000   \n",
       "Total_day_minutes                 0.003972           -0.013321   \n",
       "Total_day_calls                   0.020655            0.040358   \n",
       "Total_day_charge                  0.003976           -0.013330   \n",
       "Total_eve_minutes                -0.007527           -0.004413   \n",
       "Total_eve_calls                  -0.006558            0.036561   \n",
       "Total_eve_charge                 -0.007538           -0.004434   \n",
       "Total_night_minutes               0.999999            0.007048   \n",
       "Total_night_calls                 0.011518           -0.025886   \n",
       "Total_night_charge                1.000000            0.006509   \n",
       "Total_intl_minutes                0.006509            1.000000   \n",
       "Total_intl_calls                  0.001216            0.021110   \n",
       "Total_intl_charge                 0.006652            0.999992   \n",
       "Number_vmail_messages             0.006777           -0.008958   \n",
       "Customer_service_calls            0.002603            0.008665   \n",
       "Churn                             0.036044            0.088273   \n",
       "\n",
       "                        Total_intl_calls  Total_intl_charge  \\\n",
       "Area_code                      -0.032075          -0.022700   \n",
       "Account_length                  0.026349           0.021992   \n",
       "Total_day_minutes               0.000556          -0.013238   \n",
       "Total_day_calls                -0.011095           0.040417   \n",
       "Total_day_charge                0.000558          -0.013247   \n",
       "Total_eve_minutes               0.012337          -0.004520   \n",
       "Total_eve_calls                 0.028618           0.036565   \n",
       "Total_eve_charge                0.012347          -0.004540   \n",
       "Total_night_minutes             0.001945           0.007176   \n",
       "Total_night_calls               0.024300          -0.025853   \n",
       "Total_night_charge              0.001216           0.006652   \n",
       "Total_intl_minutes              0.021110           0.999992   \n",
       "Total_intl_calls                1.000000           0.021216   \n",
       "Total_intl_charge               0.021216           1.000000   \n",
       "Number_vmail_messages           0.037988          -0.008921   \n",
       "Customer_service_calls         -0.018962           0.008653   \n",
       "Churn                          -0.088977           0.088277   \n",
       "\n",
       "                        Number_vmail_messages  Customer_service_calls  \\\n",
       "Area_code                           -0.009922                0.039869   \n",
       "Account_length                      -0.003882                0.003726   \n",
       "Total_day_minutes                    0.015185               -0.029904   \n",
       "Total_day_calls                     -0.004684               -0.015746   \n",
       "Total_day_charge                     0.015181               -0.029911   \n",
       "Total_eve_minutes                    0.011982                0.003270   \n",
       "Total_eve_calls                      0.010930               -0.024081   \n",
       "Total_eve_charge                     0.012007                0.003263   \n",
       "Total_night_minutes                  0.008654                0.004873   \n",
       "Total_night_calls                    0.008324                0.003451   \n",
       "Total_night_charge                   0.006777                0.002603   \n",
       "Total_intl_minutes                  -0.008958                0.008665   \n",
       "Total_intl_calls                     0.037988               -0.018962   \n",
       "Total_intl_charge                   -0.008921                0.008653   \n",
       "Number_vmail_messages                1.000000               -0.024008   \n",
       "Customer_service_calls              -0.024008                1.000000   \n",
       "Churn                               -0.094260                0.194654   \n",
       "\n",
       "                           Churn  \n",
       "Area_code               0.014559  \n",
       "Account_length          0.016519  \n",
       "Total_day_minutes       0.184841  \n",
       "Total_day_calls         0.020256  \n",
       "Total_day_charge        0.184842  \n",
       "Total_eve_minutes       0.076338  \n",
       "Total_eve_calls        -0.011022  \n",
       "Total_eve_charge        0.076315  \n",
       "Total_night_minutes     0.034811  \n",
       "Total_night_calls       0.027120  \n",
       "Total_night_charge      0.036044  \n",
       "Total_intl_minutes      0.088273  \n",
       "Total_intl_calls       -0.088977  \n",
       "Total_intl_charge       0.088277  \n",
       "Number_vmail_messages  -0.094260  \n",
       "Customer_service_calls  0.194654  \n",
       "Churn                   1.000000  "
      ]
     },
     "execution_count": 26,
     "metadata": {},
     "output_type": "execute_result"
    }
   ],
   "source": [
    "corr_matrix"
   ]
  },
  {
   "cell_type": "code",
   "execution_count": 27,
   "id": "471968ad",
   "metadata": {},
   "outputs": [
    {
     "data": {
      "text/plain": [
       "<AxesSubplot:>"
      ]
     },
     "execution_count": 27,
     "metadata": {},
     "output_type": "execute_result"
    },
    {
     "data": {
      "image/png": "[encoded data removed]",
      "text/plain": [
       "<Figure size 432x288 with 2 Axes>"
      ]
     },
     "metadata": {
      "needs_background": "light"
     },
     "output_type": "display_data"
    }
   ],
   "source": [
    "sns.heatmap(corr_matrix, cmap = 'Blues')"
   ]
  },
  {
   "cell_type": "markdown",
   "id": "536a843e",
   "metadata": {},
   "source": [
    "Note that there is very high correlation between the minutes and charge variables. This is becuase charge is a factor of minutes since the customers are charged a rate per minute. Therefore we need to remove one of the varibales for each pair of correlated variables before we use these variables as predictors in a model."
   ]
  },
  {
   "cell_type": "code",
   "execution_count": 28,
   "id": "0f2eb991",
   "metadata": {},
   "outputs": [
    {
     "data": {
      "text/plain": [
       "array([[<AxesSubplot:xlabel='Churn', ylabel='Churn'>,\n",
       "        <AxesSubplot:xlabel='Total_eve_calls', ylabel='Churn'>,\n",
       "        <AxesSubplot:xlabel='Total_night_calls', ylabel='Churn'>,\n",
       "        <AxesSubplot:xlabel='Total_intl_minutes', ylabel='Churn'>,\n",
       "        <AxesSubplot:xlabel='Total_day_minutes', ylabel='Churn'>,\n",
       "        <AxesSubplot:xlabel='Total_intl_calls', ylabel='Churn'>],\n",
       "       [<AxesSubplot:xlabel='Churn', ylabel='Total_eve_calls'>,\n",
       "        <AxesSubplot:xlabel='Total_eve_calls', ylabel='Total_eve_calls'>,\n",
       "        <AxesSubplot:xlabel='Total_night_calls', ylabel='Total_eve_calls'>,\n",
       "        <AxesSubplot:xlabel='Total_intl_minutes', ylabel='Total_eve_calls'>,\n",
       "        <AxesSubplot:xlabel='Total_day_minutes', ylabel='Total_eve_calls'>,\n",
       "        <AxesSubplot:xlabel='Total_intl_calls', ylabel='Total_eve_calls'>],\n",
       "       [<AxesSubplot:xlabel='Churn', ylabel='Total_night_calls'>,\n",
       "        <AxesSubplot:xlabel='Total_eve_calls', ylabel='Total_night_calls'>,\n",
       "        <AxesSubplot:xlabel='Total_night_calls', ylabel='Total_night_calls'>,\n",
       "        <AxesSubplot:xlabel='Total_intl_minutes', ylabel='Total_night_calls'>,\n",
       "        <AxesSubplot:xlabel='Total_day_minutes', ylabel='Total_night_calls'>,\n",
       "        <AxesSubplot:xlabel='Total_intl_calls', ylabel='Total_night_calls'>],\n",
       "       [<AxesSubplot:xlabel='Churn', ylabel='Total_intl_minutes'>,\n",
       "        <AxesSubplot:xlabel='Total_eve_calls', ylabel='Total_intl_minutes'>,\n",
       "        <AxesSubplot:xlabel='Total_night_calls', ylabel='Total_intl_minutes'>,\n",
       "        <AxesSubplot:xlabel='Total_intl_minutes', ylabel='Total_intl_minutes'>,\n",
       "        <AxesSubplot:xlabel='Total_day_minutes', ylabel='Total_intl_minutes'>,\n",
       "        <AxesSubplot:xlabel='Total_intl_calls', ylabel='Total_intl_minutes'>],\n",
       "       [<AxesSubplot:xlabel='Churn', ylabel='Total_day_minutes'>,\n",
       "        <AxesSubplot:xlabel='Total_eve_calls', ylabel='Total_day_minutes'>,\n",
       "        <AxesSubplot:xlabel='Total_night_calls', ylabel='Total_day_minutes'>,\n",
       "        <AxesSubplot:xlabel='Total_intl_minutes', ylabel='Total_day_minutes'>,\n",
       "        <AxesSubplot:xlabel='Total_day_minutes', ylabel='Total_day_minutes'>,\n",
       "        <AxesSubplot:xlabel='Total_intl_calls', ylabel='Total_day_minutes'>],\n",
       "       [<AxesSubplot:xlabel='Churn', ylabel='Total_intl_calls'>,\n",
       "        <AxesSubplot:xlabel='Total_eve_calls', ylabel='Total_intl_calls'>,\n",
       "        <AxesSubplot:xlabel='Total_night_calls', ylabel='Total_intl_calls'>,\n",
       "        <AxesSubplot:xlabel='Total_intl_minutes', ylabel='Total_intl_calls'>,\n",
       "        <AxesSubplot:xlabel='Total_day_minutes', ylabel='Total_intl_calls'>,\n",
       "        <AxesSubplot:xlabel='Total_intl_calls', ylabel='Total_intl_calls'>]],\n",
       "      dtype=object)"
      ]
     },
     "execution_count": 28,
     "metadata": {},
     "output_type": "execute_result"
    },
    {
     "data": {
      "image/png": "[encoded data removed]",
      "text/plain": [
       "<Figure size 864x576 with 36 Axes>"
      ]
     },
     "metadata": {
      "needs_background": "light"
     },
     "output_type": "display_data"
    }
   ],
   "source": [
    "# from pandas.tools.plotting import scatter_matrix # For older versions of Pandas\n",
    "from pandas.plotting import scatter_matrix\n",
    "\n",
    "attributes = [\"Churn\", \"Total_eve_calls\", \"Total_night_calls\",\n",
    "              \"Total_intl_minutes\", \"Total_day_minutes\", \"Total_intl_calls\"]\n",
    "scatter_matrix(data[attributes], figsize=(12, 8))\n"
   ]
  },
  {
   "cell_type": "markdown",
   "id": "d5e8db0a",
   "metadata": {},
   "source": [
    "## Experimenting with Attribute Combinations"
   ]
  },
  {
   "cell_type": "code",
   "execution_count": 29,
   "id": "0cfde25e",
   "metadata": {},
   "outputs": [],
   "source": [
    "data[\"Total_calls\"] = data[\"Total_day_calls\"]+data[\"Total_eve_calls\"]+data['Total_night_calls']+data['Total_intl_calls']\n",
    "data[\"Total_mins\"] = data[\"Total_day_minutes\"]+data[\"Total_eve_minutes\"]+data['Total_night_minutes']+data['Total_intl_minutes']\n",
    "data[\"Total_charges\"] = data[\"Total_day_charge\"]+data[\"Total_eve_charge\"]+data['Total_night_charge']+data['Total_intl_charge']\n",
    "\n",
    "\n",
    "\n"
   ]
  },
  {
   "cell_type": "code",
   "execution_count": 30,
   "id": "71d710c7",
   "metadata": {},
   "outputs": [
    {
     "data": {
      "text/plain": [
       "Churn                     1.000000\n",
       "Total_charges             0.209126\n",
       "Customer_service_calls    0.194654\n",
       "Total_day_charge          0.184842\n",
       "Total_day_minutes         0.184841\n",
       "Total_mins                0.175678\n",
       "Total_intl_charge         0.088277\n",
       "Total_intl_minutes        0.088273\n",
       "Total_eve_minutes         0.076338\n",
       "Total_eve_charge          0.076315\n",
       "Total_night_charge        0.036044\n",
       "Total_night_minutes       0.034811\n",
       "Total_night_calls         0.027120\n",
       "Total_day_calls           0.020256\n",
       "Account_length            0.016519\n",
       "Area_code                 0.014559\n",
       "Total_calls               0.014262\n",
       "Total_eve_calls          -0.011022\n",
       "Total_intl_calls         -0.088977\n",
       "Number_vmail_messages    -0.094260\n",
       "Name: Churn, dtype: float64"
      ]
     },
     "execution_count": 30,
     "metadata": {},
     "output_type": "execute_result"
    }
   ],
   "source": [
    "corr_matrix = data.corr()\n",
    "corr_matrix[\"Churn\"].sort_values(ascending=False)"
   ]
  },
  {
   "cell_type": "code",
   "execution_count": 31,
   "id": "fbb20d72",
   "metadata": {},
   "outputs": [],
   "source": [
    "# Drop the three attributes we added by combining existing attributes because we will add them in later in script\n",
    "# using the custom transformer function:\n",
    "\n",
    "data = data.drop(columns=['Total_calls', 'Total_mins', 'Total_charges'])\n",
    "\n"
   ]
  },
  {
   "cell_type": "markdown",
   "id": "540a172f",
   "metadata": {},
   "source": [
    "# Prepare the Data for Machine Learning Algorithms"
   ]
  },
  {
   "cell_type": "code",
   "execution_count": 32,
   "id": "93e8ddb4",
   "metadata": {},
   "outputs": [],
   "source": [
    "data = strat_train_set.drop(\"Churn\", axis=1) # drop labels for training set\n",
    "data_labels = strat_train_set[\"Churn\"].copy()"
   ]
  },
  {
   "cell_type": "markdown",
   "id": "2e55a49d",
   "metadata": {},
   "source": [
    "## Data Cleaning"
   ]
  },
  {
   "cell_type": "code",
   "execution_count": 33,
   "id": "78c57c6f",
   "metadata": {},
   "outputs": [
    {
     "data": {
      "text/html": [
       "<div>\n",
       "<style scoped>\n",
       "    .dataframe tbody tr th:only-of-type {\n",
       "        vertical-align: middle;\n",
       "    }\n",
       "\n",
       "    .dataframe tbody tr th {\n",
       "        vertical-align: top;\n",
       "    }\n",
       "\n",
       "    .dataframe thead th {\n",
       "        text-align: right;\n",
       "    }\n",
       "</style>\n",
       "<table border=\"1\" class=\"dataframe\">\n",
       "  <thead>\n",
       "    <tr style=\"text-align: right;\">\n",
       "      <th></th>\n",
       "      <th>State</th>\n",
       "      <th>Area_code</th>\n",
       "      <th>Account_length</th>\n",
       "      <th>Total_day_minutes</th>\n",
       "      <th>Total_day_calls</th>\n",
       "      <th>Total_day_charge</th>\n",
       "      <th>Total_eve_minutes</th>\n",
       "      <th>Total_eve_calls</th>\n",
       "      <th>Total_eve_charge</th>\n",
       "      <th>Total_night_minutes</th>\n",
       "      <th>Total_night_calls</th>\n",
       "      <th>Total_night_charge</th>\n",
       "      <th>Total_intl_minutes</th>\n",
       "      <th>Total_intl_calls</th>\n",
       "      <th>Total_intl_charge</th>\n",
       "      <th>International_plan</th>\n",
       "      <th>Voice_mail_plan</th>\n",
       "      <th>Number_vmail_messages</th>\n",
       "      <th>Customer_service_calls</th>\n",
       "    </tr>\n",
       "  </thead>\n",
       "  <tbody>\n",
       "    <tr>\n",
       "      <th>90</th>\n",
       "      <td>MA</td>\n",
       "      <td>415</td>\n",
       "      <td>103</td>\n",
       "      <td>185.0</td>\n",
       "      <td>117</td>\n",
       "      <td>31.45</td>\n",
       "      <td>223.3</td>\n",
       "      <td>94</td>\n",
       "      <td>18.98</td>\n",
       "      <td>222.8</td>\n",
       "      <td>91</td>\n",
       "      <td>NaN</td>\n",
       "      <td>12.6</td>\n",
       "      <td>2</td>\n",
       "      <td>3.40</td>\n",
       "      <td>No</td>\n",
       "      <td>No</td>\n",
       "      <td>0</td>\n",
       "      <td>2</td>\n",
       "    </tr>\n",
       "    <tr>\n",
       "      <th>324</th>\n",
       "      <td>DC</td>\n",
       "      <td>415</td>\n",
       "      <td>66</td>\n",
       "      <td>167.3</td>\n",
       "      <td>91</td>\n",
       "      <td>28.44</td>\n",
       "      <td>230.0</td>\n",
       "      <td>68</td>\n",
       "      <td>19.55</td>\n",
       "      <td>191.7</td>\n",
       "      <td>118</td>\n",
       "      <td>NaN</td>\n",
       "      <td>10.6</td>\n",
       "      <td>5</td>\n",
       "      <td>2.86</td>\n",
       "      <td>No</td>\n",
       "      <td>No</td>\n",
       "      <td>0</td>\n",
       "      <td>1</td>\n",
       "    </tr>\n",
       "    <tr>\n",
       "      <th>46</th>\n",
       "      <td>IN</td>\n",
       "      <td>408</td>\n",
       "      <td>81</td>\n",
       "      <td>175.5</td>\n",
       "      <td>67</td>\n",
       "      <td>29.84</td>\n",
       "      <td>249.3</td>\n",
       "      <td>85</td>\n",
       "      <td>21.19</td>\n",
       "      <td>270.2</td>\n",
       "      <td>98</td>\n",
       "      <td>NaN</td>\n",
       "      <td>10.2</td>\n",
       "      <td>3</td>\n",
       "      <td>2.75</td>\n",
       "      <td>No</td>\n",
       "      <td>No</td>\n",
       "      <td>0</td>\n",
       "      <td>1</td>\n",
       "    </tr>\n",
       "    <tr>\n",
       "      <th>285</th>\n",
       "      <td>AK</td>\n",
       "      <td>510</td>\n",
       "      <td>59</td>\n",
       "      <td>182.5</td>\n",
       "      <td>104</td>\n",
       "      <td>31.03</td>\n",
       "      <td>204.7</td>\n",
       "      <td>95</td>\n",
       "      <td>17.40</td>\n",
       "      <td>229.9</td>\n",
       "      <td>100</td>\n",
       "      <td>NaN</td>\n",
       "      <td>11.3</td>\n",
       "      <td>8</td>\n",
       "      <td>3.05</td>\n",
       "      <td>No</td>\n",
       "      <td>No</td>\n",
       "      <td>0</td>\n",
       "      <td>4</td>\n",
       "    </tr>\n",
       "    <tr>\n",
       "      <th>384</th>\n",
       "      <td>GA</td>\n",
       "      <td>510</td>\n",
       "      <td>141</td>\n",
       "      <td>149.7</td>\n",
       "      <td>112</td>\n",
       "      <td>25.45</td>\n",
       "      <td>162.5</td>\n",
       "      <td>118</td>\n",
       "      <td>13.81</td>\n",
       "      <td>220.3</td>\n",
       "      <td>115</td>\n",
       "      <td>NaN</td>\n",
       "      <td>7.6</td>\n",
       "      <td>2</td>\n",
       "      <td>2.05</td>\n",
       "      <td>No</td>\n",
       "      <td>Yes</td>\n",
       "      <td>23</td>\n",
       "      <td>3</td>\n",
       "    </tr>\n",
       "  </tbody>\n",
       "</table>\n",
       "</div>"
      ],
      "text/plain": [
       "    State  Area_code  Account_length  Total_day_minutes  Total_day_calls  \\\n",
       "90     MA        415             103              185.0              117   \n",
       "324    DC        415              66              167.3               91   \n",
       "46     IN        408              81              175.5               67   \n",
       "285    AK        510              59              182.5              104   \n",
       "384    GA        510             141              149.7              112   \n",
       "\n",
       "     Total_day_charge  Total_eve_minutes  Total_eve_calls  Total_eve_charge  \\\n",
       "90              31.45              223.3               94             18.98   \n",
       "324             28.44              230.0               68             19.55   \n",
       "46              29.84              249.3               85             21.19   \n",
       "285             31.03              204.7               95             17.40   \n",
       "384             25.45              162.5              118             13.81   \n",
       "\n",
       "     Total_night_minutes  Total_night_calls  Total_night_charge  \\\n",
       "90                 222.8                 91                 NaN   \n",
       "324                191.7                118                 NaN   \n",
       "46                 270.2                 98                 NaN   \n",
       "285                229.9                100                 NaN   \n",
       "384                220.3                115                 NaN   \n",
       "\n",
       "     Total_intl_minutes  Total_intl_calls  Total_intl_charge  \\\n",
       "90                 12.6                 2               3.40   \n",
       "324                10.6                 5               2.86   \n",
       "46                 10.2                 3               2.75   \n",
       "285                11.3                 8               3.05   \n",
       "384                 7.6                 2               2.05   \n",
       "\n",
       "    International_plan Voice_mail_plan  Number_vmail_messages  \\\n",
       "90                  No              No                      0   \n",
       "324                 No              No                      0   \n",
       "46                  No              No                      0   \n",
       "285                 No              No                      0   \n",
       "384                 No             Yes                     23   \n",
       "\n",
       "     Customer_service_calls  \n",
       "90                        2  \n",
       "324                       1  \n",
       "46                        1  \n",
       "285                       4  \n",
       "384                       3  "
      ]
     },
     "execution_count": 33,
     "metadata": {},
     "output_type": "execute_result"
    }
   ],
   "source": [
    "sample_incomplete_rows = data[data.isnull().any(axis=1)].head()\n",
    "sample_incomplete_rows"
   ]
  },
  {
   "cell_type": "markdown",
   "id": "2504ad1c",
   "metadata": {},
   "source": [
    "We need to impute the missing values for the Total_night_charge variable. We can do this using the median value from this column."
   ]
  },
  {
   "cell_type": "code",
   "execution_count": 34,
   "id": "9ca5ec72",
   "metadata": {},
   "outputs": [],
   "source": [
    "from sklearn.impute import SimpleImputer\n",
    "imputer = SimpleImputer(strategy=\"median\")"
   ]
  },
  {
   "cell_type": "markdown",
   "id": "7cc7a927",
   "metadata": {},
   "source": [
    "Remove the text attribute because median can only be calculated on numerical attributes:"
   ]
  },
  {
   "cell_type": "code",
   "execution_count": 35,
   "id": "39cd2478",
   "metadata": {},
   "outputs": [],
   "source": [
    "data_num = data.select_dtypes(include=[np.number])"
   ]
  },
  {
   "cell_type": "code",
   "execution_count": 36,
   "id": "244b77ba",
   "metadata": {},
   "outputs": [
    {
     "data": {
      "text/plain": [
       "SimpleImputer(strategy='median')"
      ]
     },
     "execution_count": 36,
     "metadata": {},
     "output_type": "execute_result"
    }
   ],
   "source": [
    "imputer.fit(data_num)"
   ]
  },
  {
   "cell_type": "code",
   "execution_count": 37,
   "id": "807f7fb5",
   "metadata": {},
   "outputs": [
    {
     "data": {
      "text/plain": [
       "array([415.   , 100.   , 180.6  , 101.   ,  30.705, 202.05 , 100.   ,\n",
       "        17.175, 199.5  , 100.   ,   8.96 ,  10.3  ,   4.   ,   2.78 ,\n",
       "         0.   ,   1.   ])"
      ]
     },
     "execution_count": 37,
     "metadata": {},
     "output_type": "execute_result"
    }
   ],
   "source": [
    "imputer.statistics_"
   ]
  },
  {
   "cell_type": "markdown",
   "id": "8cc8f5ef",
   "metadata": {},
   "source": [
    "Check that this is the same as manually computing the median of each attribute:"
   ]
  },
  {
   "cell_type": "code",
   "execution_count": 38,
   "id": "210fa20e",
   "metadata": {},
   "outputs": [
    {
     "data": {
      "text/plain": [
       "array([415.   , 100.   , 180.6  , 101.   ,  30.705, 202.05 , 100.   ,\n",
       "        17.175, 199.5  , 100.   ,   8.96 ,  10.3  ,   4.   ,   2.78 ,\n",
       "         0.   ,   1.   ])"
      ]
     },
     "execution_count": 38,
     "metadata": {},
     "output_type": "execute_result"
    }
   ],
   "source": [
    "data_num.median().values"
   ]
  },
  {
   "cell_type": "markdown",
   "id": "95dd010d",
   "metadata": {},
   "source": [
    "Transform the training set:"
   ]
  },
  {
   "cell_type": "code",
   "execution_count": 39,
   "id": "34514c30",
   "metadata": {},
   "outputs": [],
   "source": [
    "X = imputer.transform(data_num)"
   ]
  },
  {
   "cell_type": "code",
   "execution_count": 40,
   "id": "c40d2691",
   "metadata": {},
   "outputs": [],
   "source": [
    "data_tr = pd.DataFrame(X, columns=data_num.columns,\n",
    "                          index=data.index)"
   ]
  },
  {
   "cell_type": "code",
   "execution_count": 41,
   "id": "c55d2b80",
   "metadata": {},
   "outputs": [
    {
     "data": {
      "text/html": [
       "<div>\n",
       "<style scoped>\n",
       "    .dataframe tbody tr th:only-of-type {\n",
       "        vertical-align: middle;\n",
       "    }\n",
       "\n",
       "    .dataframe tbody tr th {\n",
       "        vertical-align: top;\n",
       "    }\n",
       "\n",
       "    .dataframe thead th {\n",
       "        text-align: right;\n",
       "    }\n",
       "</style>\n",
       "<table border=\"1\" class=\"dataframe\">\n",
       "  <thead>\n",
       "    <tr style=\"text-align: right;\">\n",
       "      <th></th>\n",
       "      <th>Area_code</th>\n",
       "      <th>Account_length</th>\n",
       "      <th>Total_day_minutes</th>\n",
       "      <th>Total_day_calls</th>\n",
       "      <th>Total_day_charge</th>\n",
       "      <th>Total_eve_minutes</th>\n",
       "      <th>Total_eve_calls</th>\n",
       "      <th>Total_eve_charge</th>\n",
       "      <th>Total_night_minutes</th>\n",
       "      <th>Total_night_calls</th>\n",
       "      <th>Total_night_charge</th>\n",
       "      <th>Total_intl_minutes</th>\n",
       "      <th>Total_intl_calls</th>\n",
       "      <th>Total_intl_charge</th>\n",
       "      <th>Number_vmail_messages</th>\n",
       "      <th>Customer_service_calls</th>\n",
       "    </tr>\n",
       "  </thead>\n",
       "  <tbody>\n",
       "    <tr>\n",
       "      <th>90</th>\n",
       "      <td>415.0</td>\n",
       "      <td>103.0</td>\n",
       "      <td>185.0</td>\n",
       "      <td>117.0</td>\n",
       "      <td>31.45</td>\n",
       "      <td>223.3</td>\n",
       "      <td>94.0</td>\n",
       "      <td>18.98</td>\n",
       "      <td>222.8</td>\n",
       "      <td>91.0</td>\n",
       "      <td>8.96</td>\n",
       "      <td>12.6</td>\n",
       "      <td>2.0</td>\n",
       "      <td>3.40</td>\n",
       "      <td>0.0</td>\n",
       "      <td>2.0</td>\n",
       "    </tr>\n",
       "    <tr>\n",
       "      <th>324</th>\n",
       "      <td>415.0</td>\n",
       "      <td>66.0</td>\n",
       "      <td>167.3</td>\n",
       "      <td>91.0</td>\n",
       "      <td>28.44</td>\n",
       "      <td>230.0</td>\n",
       "      <td>68.0</td>\n",
       "      <td>19.55</td>\n",
       "      <td>191.7</td>\n",
       "      <td>118.0</td>\n",
       "      <td>8.96</td>\n",
       "      <td>10.6</td>\n",
       "      <td>5.0</td>\n",
       "      <td>2.86</td>\n",
       "      <td>0.0</td>\n",
       "      <td>1.0</td>\n",
       "    </tr>\n",
       "    <tr>\n",
       "      <th>46</th>\n",
       "      <td>408.0</td>\n",
       "      <td>81.0</td>\n",
       "      <td>175.5</td>\n",
       "      <td>67.0</td>\n",
       "      <td>29.84</td>\n",
       "      <td>249.3</td>\n",
       "      <td>85.0</td>\n",
       "      <td>21.19</td>\n",
       "      <td>270.2</td>\n",
       "      <td>98.0</td>\n",
       "      <td>8.96</td>\n",
       "      <td>10.2</td>\n",
       "      <td>3.0</td>\n",
       "      <td>2.75</td>\n",
       "      <td>0.0</td>\n",
       "      <td>1.0</td>\n",
       "    </tr>\n",
       "    <tr>\n",
       "      <th>285</th>\n",
       "      <td>510.0</td>\n",
       "      <td>59.0</td>\n",
       "      <td>182.5</td>\n",
       "      <td>104.0</td>\n",
       "      <td>31.03</td>\n",
       "      <td>204.7</td>\n",
       "      <td>95.0</td>\n",
       "      <td>17.40</td>\n",
       "      <td>229.9</td>\n",
       "      <td>100.0</td>\n",
       "      <td>8.96</td>\n",
       "      <td>11.3</td>\n",
       "      <td>8.0</td>\n",
       "      <td>3.05</td>\n",
       "      <td>0.0</td>\n",
       "      <td>4.0</td>\n",
       "    </tr>\n",
       "    <tr>\n",
       "      <th>384</th>\n",
       "      <td>510.0</td>\n",
       "      <td>141.0</td>\n",
       "      <td>149.7</td>\n",
       "      <td>112.0</td>\n",
       "      <td>25.45</td>\n",
       "      <td>162.5</td>\n",
       "      <td>118.0</td>\n",
       "      <td>13.81</td>\n",
       "      <td>220.3</td>\n",
       "      <td>115.0</td>\n",
       "      <td>8.96</td>\n",
       "      <td>7.6</td>\n",
       "      <td>2.0</td>\n",
       "      <td>2.05</td>\n",
       "      <td>23.0</td>\n",
       "      <td>3.0</td>\n",
       "    </tr>\n",
       "  </tbody>\n",
       "</table>\n",
       "</div>"
      ],
      "text/plain": [
       "     Area_code  Account_length  Total_day_minutes  Total_day_calls  \\\n",
       "90       415.0           103.0              185.0            117.0   \n",
       "324      415.0            66.0              167.3             91.0   \n",
       "46       408.0            81.0              175.5             67.0   \n",
       "285      510.0            59.0              182.5            104.0   \n",
       "384      510.0           141.0              149.7            112.0   \n",
       "\n",
       "     Total_day_charge  Total_eve_minutes  Total_eve_calls  Total_eve_charge  \\\n",
       "90              31.45              223.3             94.0             18.98   \n",
       "324             28.44              230.0             68.0             19.55   \n",
       "46              29.84              249.3             85.0             21.19   \n",
       "285             31.03              204.7             95.0             17.40   \n",
       "384             25.45              162.5            118.0             13.81   \n",
       "\n",
       "     Total_night_minutes  Total_night_calls  Total_night_charge  \\\n",
       "90                 222.8               91.0                8.96   \n",
       "324                191.7              118.0                8.96   \n",
       "46                 270.2               98.0                8.96   \n",
       "285                229.9              100.0                8.96   \n",
       "384                220.3              115.0                8.96   \n",
       "\n",
       "     Total_intl_minutes  Total_intl_calls  Total_intl_charge  \\\n",
       "90                 12.6               2.0               3.40   \n",
       "324                10.6               5.0               2.86   \n",
       "46                 10.2               3.0               2.75   \n",
       "285                11.3               8.0               3.05   \n",
       "384                 7.6               2.0               2.05   \n",
       "\n",
       "     Number_vmail_messages  Customer_service_calls  \n",
       "90                     0.0                     2.0  \n",
       "324                    0.0                     1.0  \n",
       "46                     0.0                     1.0  \n",
       "285                    0.0                     4.0  \n",
       "384                   23.0                     3.0  "
      ]
     },
     "execution_count": 41,
     "metadata": {},
     "output_type": "execute_result"
    }
   ],
   "source": [
    "data_tr.loc[sample_incomplete_rows.index.values]"
   ]
  },
  {
   "cell_type": "code",
   "execution_count": 42,
   "id": "4c5a364e",
   "metadata": {},
   "outputs": [
    {
     "data": {
      "text/plain": [
       "'median'"
      ]
     },
     "execution_count": 42,
     "metadata": {},
     "output_type": "execute_result"
    }
   ],
   "source": [
    "imputer.strategy"
   ]
  },
  {
   "cell_type": "code",
   "execution_count": 43,
   "id": "7aa30c99",
   "metadata": {},
   "outputs": [],
   "source": [
    "data_tr = pd.DataFrame(X, columns=data_num.columns,\n",
    "                          index=data_num.index)"
   ]
  },
  {
   "cell_type": "code",
   "execution_count": 44,
   "id": "c0e56884",
   "metadata": {},
   "outputs": [
    {
     "data": {
      "text/html": [
       "<div>\n",
       "<style scoped>\n",
       "    .dataframe tbody tr th:only-of-type {\n",
       "        vertical-align: middle;\n",
       "    }\n",
       "\n",
       "    .dataframe tbody tr th {\n",
       "        vertical-align: top;\n",
       "    }\n",
       "\n",
       "    .dataframe thead th {\n",
       "        text-align: right;\n",
       "    }\n",
       "</style>\n",
       "<table border=\"1\" class=\"dataframe\">\n",
       "  <thead>\n",
       "    <tr style=\"text-align: right;\">\n",
       "      <th></th>\n",
       "      <th>Area_code</th>\n",
       "      <th>Account_length</th>\n",
       "      <th>Total_day_minutes</th>\n",
       "      <th>Total_day_calls</th>\n",
       "      <th>Total_day_charge</th>\n",
       "      <th>Total_eve_minutes</th>\n",
       "      <th>Total_eve_calls</th>\n",
       "      <th>Total_eve_charge</th>\n",
       "      <th>Total_night_minutes</th>\n",
       "      <th>Total_night_calls</th>\n",
       "      <th>Total_night_charge</th>\n",
       "      <th>Total_intl_minutes</th>\n",
       "      <th>Total_intl_calls</th>\n",
       "      <th>Total_intl_charge</th>\n",
       "      <th>Number_vmail_messages</th>\n",
       "      <th>Customer_service_calls</th>\n",
       "    </tr>\n",
       "  </thead>\n",
       "  <tbody>\n",
       "    <tr>\n",
       "      <th>1740</th>\n",
       "      <td>415.0</td>\n",
       "      <td>156.0</td>\n",
       "      <td>174.5</td>\n",
       "      <td>65.0</td>\n",
       "      <td>29.67</td>\n",
       "      <td>197.4</td>\n",
       "      <td>116.0</td>\n",
       "      <td>16.78</td>\n",
       "      <td>238.5</td>\n",
       "      <td>86.0</td>\n",
       "      <td>10.73</td>\n",
       "      <td>10.6</td>\n",
       "      <td>2.0</td>\n",
       "      <td>2.86</td>\n",
       "      <td>0.0</td>\n",
       "      <td>0.0</td>\n",
       "    </tr>\n",
       "    <tr>\n",
       "      <th>461</th>\n",
       "      <td>415.0</td>\n",
       "      <td>92.0</td>\n",
       "      <td>201.9</td>\n",
       "      <td>74.0</td>\n",
       "      <td>34.32</td>\n",
       "      <td>226.8</td>\n",
       "      <td>119.0</td>\n",
       "      <td>19.28</td>\n",
       "      <td>217.5</td>\n",
       "      <td>80.0</td>\n",
       "      <td>9.79</td>\n",
       "      <td>13.7</td>\n",
       "      <td>6.0</td>\n",
       "      <td>3.70</td>\n",
       "      <td>0.0</td>\n",
       "      <td>3.0</td>\n",
       "    </tr>\n",
       "    <tr>\n",
       "      <th>1046</th>\n",
       "      <td>408.0</td>\n",
       "      <td>185.0</td>\n",
       "      <td>151.1</td>\n",
       "      <td>121.0</td>\n",
       "      <td>25.69</td>\n",
       "      <td>244.7</td>\n",
       "      <td>88.0</td>\n",
       "      <td>20.80</td>\n",
       "      <td>154.4</td>\n",
       "      <td>91.0</td>\n",
       "      <td>6.95</td>\n",
       "      <td>13.8</td>\n",
       "      <td>2.0</td>\n",
       "      <td>3.73</td>\n",
       "      <td>29.0</td>\n",
       "      <td>2.0</td>\n",
       "    </tr>\n",
       "    <tr>\n",
       "      <th>1638</th>\n",
       "      <td>415.0</td>\n",
       "      <td>97.0</td>\n",
       "      <td>215.3</td>\n",
       "      <td>58.0</td>\n",
       "      <td>36.60</td>\n",
       "      <td>242.4</td>\n",
       "      <td>91.0</td>\n",
       "      <td>20.60</td>\n",
       "      <td>279.8</td>\n",
       "      <td>105.0</td>\n",
       "      <td>12.59</td>\n",
       "      <td>12.1</td>\n",
       "      <td>9.0</td>\n",
       "      <td>3.27</td>\n",
       "      <td>0.0</td>\n",
       "      <td>0.0</td>\n",
       "    </tr>\n",
       "    <tr>\n",
       "      <th>414</th>\n",
       "      <td>510.0</td>\n",
       "      <td>148.0</td>\n",
       "      <td>93.6</td>\n",
       "      <td>137.0</td>\n",
       "      <td>15.91</td>\n",
       "      <td>193.8</td>\n",
       "      <td>72.0</td>\n",
       "      <td>16.47</td>\n",
       "      <td>144.9</td>\n",
       "      <td>84.0</td>\n",
       "      <td>6.52</td>\n",
       "      <td>17.5</td>\n",
       "      <td>5.0</td>\n",
       "      <td>4.73</td>\n",
       "      <td>14.0</td>\n",
       "      <td>1.0</td>\n",
       "    </tr>\n",
       "  </tbody>\n",
       "</table>\n",
       "</div>"
      ],
      "text/plain": [
       "      Area_code  Account_length  Total_day_minutes  Total_day_calls  \\\n",
       "1740      415.0           156.0              174.5             65.0   \n",
       "461       415.0            92.0              201.9             74.0   \n",
       "1046      408.0           185.0              151.1            121.0   \n",
       "1638      415.0            97.0              215.3             58.0   \n",
       "414       510.0           148.0               93.6            137.0   \n",
       "\n",
       "      Total_day_charge  Total_eve_minutes  Total_eve_calls  Total_eve_charge  \\\n",
       "1740             29.67              197.4            116.0             16.78   \n",
       "461              34.32              226.8            119.0             19.28   \n",
       "1046             25.69              244.7             88.0             20.80   \n",
       "1638             36.60              242.4             91.0             20.60   \n",
       "414              15.91              193.8             72.0             16.47   \n",
       "\n",
       "      Total_night_minutes  Total_night_calls  Total_night_charge  \\\n",
       "1740                238.5               86.0               10.73   \n",
       "461                 217.5               80.0                9.79   \n",
       "1046                154.4               91.0                6.95   \n",
       "1638                279.8              105.0               12.59   \n",
       "414                 144.9               84.0                6.52   \n",
       "\n",
       "      Total_intl_minutes  Total_intl_calls  Total_intl_charge  \\\n",
       "1740                10.6               2.0               2.86   \n",
       "461                 13.7               6.0               3.70   \n",
       "1046                13.8               2.0               3.73   \n",
       "1638                12.1               9.0               3.27   \n",
       "414                 17.5               5.0               4.73   \n",
       "\n",
       "      Number_vmail_messages  Customer_service_calls  \n",
       "1740                    0.0                     0.0  \n",
       "461                     0.0                     3.0  \n",
       "1046                   29.0                     2.0  \n",
       "1638                    0.0                     0.0  \n",
       "414                    14.0                     1.0  "
      ]
     },
     "execution_count": 44,
     "metadata": {},
     "output_type": "execute_result"
    }
   ],
   "source": [
    "data_tr.head()"
   ]
  },
  {
   "cell_type": "markdown",
   "id": "2d130751",
   "metadata": {},
   "source": [
    "## Handling Text and Categorical Attributes"
   ]
  },
  {
   "cell_type": "markdown",
   "id": "10171692",
   "metadata": {},
   "source": [
    "Now let's preprocess the categorical input feature, `State, Area_code, International_plan, and Voice_mail_plan`:"
   ]
  },
  {
   "cell_type": "code",
   "execution_count": 45,
   "id": "35323d65",
   "metadata": {},
   "outputs": [
    {
     "data": {
      "text/html": [
       "<div>\n",
       "<style scoped>\n",
       "    .dataframe tbody tr th:only-of-type {\n",
       "        vertical-align: middle;\n",
       "    }\n",
       "\n",
       "    .dataframe tbody tr th {\n",
       "        vertical-align: top;\n",
       "    }\n",
       "\n",
       "    .dataframe thead th {\n",
       "        text-align: right;\n",
       "    }\n",
       "</style>\n",
       "<table border=\"1\" class=\"dataframe\">\n",
       "  <thead>\n",
       "    <tr style=\"text-align: right;\">\n",
       "      <th></th>\n",
       "      <th>State</th>\n",
       "      <th>Area_code</th>\n",
       "      <th>International_plan</th>\n",
       "      <th>Voice_mail_plan</th>\n",
       "    </tr>\n",
       "  </thead>\n",
       "  <tbody>\n",
       "    <tr>\n",
       "      <th>1740</th>\n",
       "      <td>IL</td>\n",
       "      <td>415</td>\n",
       "      <td>No</td>\n",
       "      <td>No</td>\n",
       "    </tr>\n",
       "    <tr>\n",
       "      <th>461</th>\n",
       "      <td>FL</td>\n",
       "      <td>415</td>\n",
       "      <td>No</td>\n",
       "      <td>No</td>\n",
       "    </tr>\n",
       "    <tr>\n",
       "      <th>1046</th>\n",
       "      <td>MT</td>\n",
       "      <td>408</td>\n",
       "      <td>No</td>\n",
       "      <td>Yes</td>\n",
       "    </tr>\n",
       "    <tr>\n",
       "      <th>1638</th>\n",
       "      <td>CT</td>\n",
       "      <td>415</td>\n",
       "      <td>No</td>\n",
       "      <td>No</td>\n",
       "    </tr>\n",
       "    <tr>\n",
       "      <th>414</th>\n",
       "      <td>ID</td>\n",
       "      <td>510</td>\n",
       "      <td>No</td>\n",
       "      <td>Yes</td>\n",
       "    </tr>\n",
       "    <tr>\n",
       "      <th>1873</th>\n",
       "      <td>UT</td>\n",
       "      <td>415</td>\n",
       "      <td>No</td>\n",
       "      <td>No</td>\n",
       "    </tr>\n",
       "    <tr>\n",
       "      <th>962</th>\n",
       "      <td>AK</td>\n",
       "      <td>415</td>\n",
       "      <td>No</td>\n",
       "      <td>No</td>\n",
       "    </tr>\n",
       "    <tr>\n",
       "      <th>811</th>\n",
       "      <td>AK</td>\n",
       "      <td>510</td>\n",
       "      <td>Yes</td>\n",
       "      <td>No</td>\n",
       "    </tr>\n",
       "    <tr>\n",
       "      <th>470</th>\n",
       "      <td>AR</td>\n",
       "      <td>408</td>\n",
       "      <td>No</td>\n",
       "      <td>No</td>\n",
       "    </tr>\n",
       "    <tr>\n",
       "      <th>734</th>\n",
       "      <td>NC</td>\n",
       "      <td>415</td>\n",
       "      <td>No</td>\n",
       "      <td>No</td>\n",
       "    </tr>\n",
       "  </tbody>\n",
       "</table>\n",
       "</div>"
      ],
      "text/plain": [
       "     State  Area_code International_plan Voice_mail_plan\n",
       "1740    IL        415                 No              No\n",
       "461     FL        415                 No              No\n",
       "1046    MT        408                 No             Yes\n",
       "1638    CT        415                 No              No\n",
       "414     ID        510                 No             Yes\n",
       "1873    UT        415                 No              No\n",
       "962     AK        415                 No              No\n",
       "811     AK        510                Yes              No\n",
       "470     AR        408                 No              No\n",
       "734     NC        415                 No              No"
      ]
     },
     "execution_count": 45,
     "metadata": {},
     "output_type": "execute_result"
    }
   ],
   "source": [
    "data_cat = data[[\"State\", \"Area_code\", \"International_plan\", \"Voice_mail_plan\"]]\n",
    "data_cat.head(10)"
   ]
  },
  {
   "cell_type": "code",
   "execution_count": 46,
   "id": "c5a59a68",
   "metadata": {},
   "outputs": [
    {
     "data": {
      "text/plain": [
       "array([[14.,  1.,  0.,  0.],\n",
       "       [ 9.,  1.,  0.,  0.],\n",
       "       [26.,  0.,  0.,  1.],\n",
       "       [ 6.,  1.,  0.,  0.],\n",
       "       [13.,  2.,  0.,  1.],\n",
       "       [44.,  1.,  0.,  0.],\n",
       "       [ 0.,  1.,  0.,  0.],\n",
       "       [ 0.,  2.,  1.,  0.],\n",
       "       [ 2.,  0.,  0.,  0.],\n",
       "       [27.,  1.,  0.,  0.]])"
      ]
     },
     "execution_count": 46,
     "metadata": {},
     "output_type": "execute_result"
    }
   ],
   "source": [
    "from sklearn.preprocessing import OrdinalEncoder\n",
    "\n",
    "ordinal_encoder = OrdinalEncoder()\n",
    "data_cat_encoded = ordinal_encoder.fit_transform(data_cat)\n",
    "data_cat_encoded[:10]"
   ]
  },
  {
   "cell_type": "code",
   "execution_count": 47,
   "id": "11ea0df5",
   "metadata": {},
   "outputs": [
    {
     "data": {
      "text/plain": [
       "[array(['AK', 'AL', 'AR', 'AZ', 'CA', 'CO', 'CT', 'DC', 'DE', 'FL', 'GA',\n",
       "        'HI', 'IA', 'ID', 'IL', 'IN', 'KS', 'KY', 'LA', 'MA', 'MD', 'ME',\n",
       "        'MI', 'MN', 'MO', 'MS', 'MT', 'NC', 'ND', 'NE', 'NH', 'NJ', 'NM',\n",
       "        'NV', 'NY', 'OH', 'OK', 'OR', 'PA', 'RI', 'SC', 'SD', 'TN', 'TX',\n",
       "        'UT', 'VA', 'VT', 'WA', 'WI', 'WV', 'WY'], dtype=object),\n",
       " array([408, 415, 510], dtype=int64),\n",
       " array(['No', 'Yes'], dtype=object),\n",
       " array(['No', 'Yes'], dtype=object)]"
      ]
     },
     "execution_count": 47,
     "metadata": {},
     "output_type": "execute_result"
    }
   ],
   "source": [
    "ordinal_encoder.categories_"
   ]
  },
  {
   "cell_type": "code",
   "execution_count": 48,
   "id": "67aa1db1",
   "metadata": {},
   "outputs": [
    {
     "data": {
      "text/plain": [
       "array([[0., 0., 0., ..., 0., 1., 0.],\n",
       "       [0., 0., 0., ..., 0., 1., 0.],\n",
       "       [0., 0., 0., ..., 0., 0., 1.],\n",
       "       ...,\n",
       "       [0., 0., 0., ..., 0., 1., 0.],\n",
       "       [0., 0., 0., ..., 0., 1., 0.],\n",
       "       [0., 0., 0., ..., 1., 1., 0.]])"
      ]
     },
     "execution_count": 48,
     "metadata": {},
     "output_type": "execute_result"
    }
   ],
   "source": [
    "from sklearn.preprocessing import OneHotEncoder\n",
    "\n",
    "cat_encoder = OneHotEncoder(sparse=False)\n",
    "data_cat_1hot = cat_encoder.fit_transform(data_cat)\n",
    "data_cat_1hot"
   ]
  },
  {
   "cell_type": "code",
   "execution_count": 49,
   "id": "20f03868",
   "metadata": {},
   "outputs": [
    {
     "data": {
      "text/plain": [
       "[array(['AK', 'AL', 'AR', 'AZ', 'CA', 'CO', 'CT', 'DC', 'DE', 'FL', 'GA',\n",
       "        'HI', 'IA', 'ID', 'IL', 'IN', 'KS', 'KY', 'LA', 'MA', 'MD', 'ME',\n",
       "        'MI', 'MN', 'MO', 'MS', 'MT', 'NC', 'ND', 'NE', 'NH', 'NJ', 'NM',\n",
       "        'NV', 'NY', 'OH', 'OK', 'OR', 'PA', 'RI', 'SC', 'SD', 'TN', 'TX',\n",
       "        'UT', 'VA', 'VT', 'WA', 'WI', 'WV', 'WY'], dtype=object),\n",
       " array([408, 415, 510], dtype=int64),\n",
       " array(['No', 'Yes'], dtype=object),\n",
       " array(['No', 'Yes'], dtype=object)]"
      ]
     },
     "execution_count": 49,
     "metadata": {},
     "output_type": "execute_result"
    }
   ],
   "source": [
    "cat_encoder.categories_"
   ]
  },
  {
   "cell_type": "markdown",
   "id": "58a333ee",
   "metadata": {},
   "source": [
    "## Custom Transformers\n"
   ]
  },
  {
   "cell_type": "markdown",
   "id": "3b992481",
   "metadata": {},
   "source": [
    "Let's create a custom transformer to add extra attributes:"
   ]
  },
  {
   "cell_type": "code",
   "execution_count": 50,
   "id": "1f5b551c",
   "metadata": {},
   "outputs": [],
   "source": [
    "col_names = \"Total_day_calls\", \"Total_eve_calls\", \"Total_night_calls\", \"Total_intl_calls\", \"Total_day_minutes\", \"Total_eve_minutes\", \"Total_night_minutes\", \"Total_intl_minutes\", \"Total_day_charge\", \"Total_eve_charge\", \"Total_night_charge\", \"Total_intl_charge\"\n",
    "Total_day_calls_ix, Total_eve_calls_ix, Total_night_calls_ix, Total_intl_calls_ix, Total_day_minutes_ix, Total_eve_minutes_ix,Total_night_minutes_ix, Total_intl_minutes_ix, Total_day_charge_ix, Total_eve_charge_ix, Total_night_charge_ix, Total_intl_charge_ix = [\n",
    "    data.columns.get_loc(c) for c in col_names] # get the column indices"
   ]
  },
  {
   "cell_type": "code",
   "execution_count": 51,
   "id": "33922ecc",
   "metadata": {},
   "outputs": [],
   "source": [
    "from sklearn.base import BaseEstimator, TransformerMixin\n",
    "\n",
    "class CombinedAttributesAdder(BaseEstimator, TransformerMixin):\n",
    "    def __init__(self, add_Total_calls=True): # no *args or **kargs\n",
    "        self.add_Total_calls = add_Total_calls\n",
    "    def fit(self, X, y=None):\n",
    "        return self  # nothing else to do\n",
    "    def transform(self, X):\n",
    "        Total_mins = X[:, Total_day_minutes_ix] + X[:, Total_eve_minutes_ix] + X[:, Total_night_minutes_ix] + X[:, Total_intl_minutes_ix]\n",
    "        Total_charges = X[:, Total_day_charge_ix] + X[:, Total_eve_charge_ix] + X[:, Total_night_charge_ix] + X[:, Total_intl_charge_ix]\n",
    "        if self.add_Total_calls:\n",
    "            Total_calls = X[:, Total_day_calls_ix] + X[:, Total_eve_calls_ix] + X[:, Total_night_calls_ix] + X[:, Total_intl_calls_ix]\n",
    "            return np.c_[X, Total_calls, Total_mins,\n",
    "                         Total_charges]\n",
    "        else:\n",
    "            return np.c_[X, Total_mins, Total_charges]\n",
    "\n",
    "attr_adder = CombinedAttributesAdder(add_Total_calls=True)\n",
    "data_extra_attribs = attr_adder.transform(data.values)"
   ]
  },
  {
   "cell_type": "code",
   "execution_count": 52,
   "id": "60b79b36",
   "metadata": {},
   "outputs": [
    {
     "data": {
      "text/plain": [
       "22"
      ]
     },
     "execution_count": 52,
     "metadata": {},
     "output_type": "execute_result"
    }
   ],
   "source": [
    "len(data_extra_attribs[0])"
   ]
  },
  {
   "cell_type": "markdown",
   "id": "af77f7b4",
   "metadata": {},
   "source": [
    "Also, `data_extra_attribs` is a NumPy array, we've lost the column names (unfortunately, that's a problem with Scikit-Learn). To recover a `DataFrame`, you can run this:"
   ]
  },
  {
   "cell_type": "code",
   "execution_count": 53,
   "id": "27b85089",
   "metadata": {},
   "outputs": [
    {
     "data": {
      "text/html": [
       "<div>\n",
       "<style scoped>\n",
       "    .dataframe tbody tr th:only-of-type {\n",
       "        vertical-align: middle;\n",
       "    }\n",
       "\n",
       "    .dataframe tbody tr th {\n",
       "        vertical-align: top;\n",
       "    }\n",
       "\n",
       "    .dataframe thead th {\n",
       "        text-align: right;\n",
       "    }\n",
       "</style>\n",
       "<table border=\"1\" class=\"dataframe\">\n",
       "  <thead>\n",
       "    <tr style=\"text-align: right;\">\n",
       "      <th></th>\n",
       "      <th>State</th>\n",
       "      <th>Area_code</th>\n",
       "      <th>Account_length</th>\n",
       "      <th>Total_day_minutes</th>\n",
       "      <th>Total_day_calls</th>\n",
       "      <th>Total_day_charge</th>\n",
       "      <th>Total_eve_minutes</th>\n",
       "      <th>Total_eve_calls</th>\n",
       "      <th>Total_eve_charge</th>\n",
       "      <th>Total_night_minutes</th>\n",
       "      <th>...</th>\n",
       "      <th>Total_intl_minutes</th>\n",
       "      <th>Total_intl_calls</th>\n",
       "      <th>Total_intl_charge</th>\n",
       "      <th>International_plan</th>\n",
       "      <th>Voice_mail_plan</th>\n",
       "      <th>Number_vmail_messages</th>\n",
       "      <th>Customer_service_calls</th>\n",
       "      <th>Total_calls</th>\n",
       "      <th>Total_mins</th>\n",
       "      <th>Total_charges</th>\n",
       "    </tr>\n",
       "  </thead>\n",
       "  <tbody>\n",
       "    <tr>\n",
       "      <th>1740</th>\n",
       "      <td>IL</td>\n",
       "      <td>415</td>\n",
       "      <td>156</td>\n",
       "      <td>174.5</td>\n",
       "      <td>65</td>\n",
       "      <td>29.67</td>\n",
       "      <td>197.4</td>\n",
       "      <td>116</td>\n",
       "      <td>16.78</td>\n",
       "      <td>238.5</td>\n",
       "      <td>...</td>\n",
       "      <td>10.6</td>\n",
       "      <td>2</td>\n",
       "      <td>2.86</td>\n",
       "      <td>No</td>\n",
       "      <td>No</td>\n",
       "      <td>0</td>\n",
       "      <td>0</td>\n",
       "      <td>269</td>\n",
       "      <td>621.0</td>\n",
       "      <td>60.04</td>\n",
       "    </tr>\n",
       "    <tr>\n",
       "      <th>461</th>\n",
       "      <td>FL</td>\n",
       "      <td>415</td>\n",
       "      <td>92</td>\n",
       "      <td>201.9</td>\n",
       "      <td>74</td>\n",
       "      <td>34.32</td>\n",
       "      <td>226.8</td>\n",
       "      <td>119</td>\n",
       "      <td>19.28</td>\n",
       "      <td>217.5</td>\n",
       "      <td>...</td>\n",
       "      <td>13.7</td>\n",
       "      <td>6</td>\n",
       "      <td>3.7</td>\n",
       "      <td>No</td>\n",
       "      <td>No</td>\n",
       "      <td>0</td>\n",
       "      <td>3</td>\n",
       "      <td>279</td>\n",
       "      <td>659.9</td>\n",
       "      <td>67.09</td>\n",
       "    </tr>\n",
       "    <tr>\n",
       "      <th>1046</th>\n",
       "      <td>MT</td>\n",
       "      <td>408</td>\n",
       "      <td>185</td>\n",
       "      <td>151.1</td>\n",
       "      <td>121</td>\n",
       "      <td>25.69</td>\n",
       "      <td>244.7</td>\n",
       "      <td>88</td>\n",
       "      <td>20.8</td>\n",
       "      <td>154.4</td>\n",
       "      <td>...</td>\n",
       "      <td>13.8</td>\n",
       "      <td>2</td>\n",
       "      <td>3.73</td>\n",
       "      <td>No</td>\n",
       "      <td>Yes</td>\n",
       "      <td>29</td>\n",
       "      <td>2</td>\n",
       "      <td>302</td>\n",
       "      <td>564.0</td>\n",
       "      <td>57.17</td>\n",
       "    </tr>\n",
       "    <tr>\n",
       "      <th>1638</th>\n",
       "      <td>CT</td>\n",
       "      <td>415</td>\n",
       "      <td>97</td>\n",
       "      <td>215.3</td>\n",
       "      <td>58</td>\n",
       "      <td>36.6</td>\n",
       "      <td>242.4</td>\n",
       "      <td>91</td>\n",
       "      <td>20.6</td>\n",
       "      <td>279.8</td>\n",
       "      <td>...</td>\n",
       "      <td>12.1</td>\n",
       "      <td>9</td>\n",
       "      <td>3.27</td>\n",
       "      <td>No</td>\n",
       "      <td>No</td>\n",
       "      <td>0</td>\n",
       "      <td>0</td>\n",
       "      <td>263</td>\n",
       "      <td>749.6</td>\n",
       "      <td>73.06</td>\n",
       "    </tr>\n",
       "    <tr>\n",
       "      <th>414</th>\n",
       "      <td>ID</td>\n",
       "      <td>510</td>\n",
       "      <td>148</td>\n",
       "      <td>93.6</td>\n",
       "      <td>137</td>\n",
       "      <td>15.91</td>\n",
       "      <td>193.8</td>\n",
       "      <td>72</td>\n",
       "      <td>16.47</td>\n",
       "      <td>144.9</td>\n",
       "      <td>...</td>\n",
       "      <td>17.5</td>\n",
       "      <td>5</td>\n",
       "      <td>4.73</td>\n",
       "      <td>No</td>\n",
       "      <td>Yes</td>\n",
       "      <td>14</td>\n",
       "      <td>1</td>\n",
       "      <td>298</td>\n",
       "      <td>449.8</td>\n",
       "      <td>43.63</td>\n",
       "    </tr>\n",
       "  </tbody>\n",
       "</table>\n",
       "<p>5 rows × 22 columns</p>\n",
       "</div>"
      ],
      "text/plain": [
       "     State Area_code Account_length Total_day_minutes Total_day_calls  \\\n",
       "1740    IL       415            156             174.5              65   \n",
       "461     FL       415             92             201.9              74   \n",
       "1046    MT       408            185             151.1             121   \n",
       "1638    CT       415             97             215.3              58   \n",
       "414     ID       510            148              93.6             137   \n",
       "\n",
       "     Total_day_charge Total_eve_minutes Total_eve_calls Total_eve_charge  \\\n",
       "1740            29.67             197.4             116            16.78   \n",
       "461             34.32             226.8             119            19.28   \n",
       "1046            25.69             244.7              88             20.8   \n",
       "1638             36.6             242.4              91             20.6   \n",
       "414             15.91             193.8              72            16.47   \n",
       "\n",
       "     Total_night_minutes  ... Total_intl_minutes Total_intl_calls  \\\n",
       "1740               238.5  ...               10.6                2   \n",
       "461                217.5  ...               13.7                6   \n",
       "1046               154.4  ...               13.8                2   \n",
       "1638               279.8  ...               12.1                9   \n",
       "414                144.9  ...               17.5                5   \n",
       "\n",
       "     Total_intl_charge International_plan Voice_mail_plan  \\\n",
       "1740              2.86                 No              No   \n",
       "461                3.7                 No              No   \n",
       "1046              3.73                 No             Yes   \n",
       "1638              3.27                 No              No   \n",
       "414               4.73                 No             Yes   \n",
       "\n",
       "     Number_vmail_messages Customer_service_calls Total_calls Total_mins  \\\n",
       "1740                     0                      0         269      621.0   \n",
       "461                      0                      3         279      659.9   \n",
       "1046                    29                      2         302      564.0   \n",
       "1638                     0                      0         263      749.6   \n",
       "414                     14                      1         298      449.8   \n",
       "\n",
       "     Total_charges  \n",
       "1740         60.04  \n",
       "461          67.09  \n",
       "1046         57.17  \n",
       "1638         73.06  \n",
       "414          43.63  \n",
       "\n",
       "[5 rows x 22 columns]"
      ]
     },
     "execution_count": 53,
     "metadata": {},
     "output_type": "execute_result"
    }
   ],
   "source": [
    "data_extra_attribs = pd.DataFrame(\n",
    "    data_extra_attribs,\n",
    "    columns=list(data.columns)+[\"Total_calls\",\"Total_mins\",\"Total_charges\"],\n",
    "    index=data.index)\n",
    "data_extra_attribs.head()"
   ]
  },
  {
   "cell_type": "markdown",
   "id": "6d40e9e9",
   "metadata": {},
   "source": [
    "## Transformation Pipelines\n"
   ]
  },
  {
   "cell_type": "markdown",
   "id": "afa34a4d",
   "metadata": {},
   "source": [
    "Now let's build a pipeline for preprocessing the numerical attributes:"
   ]
  },
  {
   "cell_type": "code",
   "execution_count": 54,
   "id": "8001b427",
   "metadata": {},
   "outputs": [],
   "source": [
    "from sklearn.pipeline import Pipeline\n",
    "from sklearn.preprocessing import StandardScaler\n",
    "\n",
    "num_pipeline = Pipeline([\n",
    "        ('imputer', SimpleImputer(strategy=\"median\")),\n",
    "        ('attribs_adder', CombinedAttributesAdder()),\n",
    "        ('std_scaler', StandardScaler()),\n",
    "    ])\n",
    "\n",
    "data_num_tr = num_pipeline.fit_transform(data_num)"
   ]
  },
  {
   "cell_type": "code",
   "execution_count": 55,
   "id": "7a7f90a7",
   "metadata": {},
   "outputs": [
    {
     "data": {
      "text/plain": [
       "array([[-0.53439831,  1.39716547, -0.09664659, ...,  0.052467  ,\n",
       "        -1.04144779,  0.35183853],\n",
       "       [-0.53439831, -0.21778818,  0.41029284, ...,  0.72443126,\n",
       "        -0.75138957,  0.50816955],\n",
       "       [-0.69846661,  2.12894135, -0.52958026, ..., -0.2210844 ,\n",
       "        -0.08425566,  0.28930612],\n",
       "       ...,\n",
       "       [ 1.69224298,  1.37193182,  0.09021794, ...,  0.08106123,\n",
       "         1.07597724,  0.1316157 ],\n",
       "       [-0.53439831, -1.83274184, -0.37046788, ..., -0.20106845,\n",
       "         0.69890155,  0.1642413 ],\n",
       "       [-0.69846661, -0.39442374, -0.26500968, ...,  0.3422218 ,\n",
       "         1.30802381,  1.82406894]])"
      ]
     },
     "execution_count": 55,
     "metadata": {},
     "output_type": "execute_result"
    }
   ],
   "source": [
    "data_num_tr"
   ]
  },
  {
   "cell_type": "code",
   "execution_count": 56,
   "id": "b9e714f8",
   "metadata": {},
   "outputs": [
    {
     "data": {
      "text/html": [
       "<div>\n",
       "<style scoped>\n",
       "    .dataframe tbody tr th:only-of-type {\n",
       "        vertical-align: middle;\n",
       "    }\n",
       "\n",
       "    .dataframe tbody tr th {\n",
       "        vertical-align: top;\n",
       "    }\n",
       "\n",
       "    .dataframe thead th {\n",
       "        text-align: right;\n",
       "    }\n",
       "</style>\n",
       "<table border=\"1\" class=\"dataframe\">\n",
       "  <thead>\n",
       "    <tr style=\"text-align: right;\">\n",
       "      <th></th>\n",
       "      <th>State</th>\n",
       "      <th>Area_code</th>\n",
       "      <th>Account_length</th>\n",
       "      <th>Total_day_minutes</th>\n",
       "      <th>Total_day_calls</th>\n",
       "      <th>Total_day_charge</th>\n",
       "      <th>Total_eve_minutes</th>\n",
       "      <th>Total_eve_calls</th>\n",
       "      <th>Total_eve_charge</th>\n",
       "      <th>Total_night_minutes</th>\n",
       "      <th>Total_night_calls</th>\n",
       "      <th>Total_night_charge</th>\n",
       "      <th>Total_intl_minutes</th>\n",
       "      <th>Total_intl_calls</th>\n",
       "      <th>Total_intl_charge</th>\n",
       "      <th>International_plan</th>\n",
       "      <th>Voice_mail_plan</th>\n",
       "      <th>Number_vmail_messages</th>\n",
       "      <th>Customer_service_calls</th>\n",
       "    </tr>\n",
       "  </thead>\n",
       "  <tbody>\n",
       "    <tr>\n",
       "      <th>1740</th>\n",
       "      <td>IL</td>\n",
       "      <td>415</td>\n",
       "      <td>156</td>\n",
       "      <td>174.5</td>\n",
       "      <td>65</td>\n",
       "      <td>29.67</td>\n",
       "      <td>197.4</td>\n",
       "      <td>116</td>\n",
       "      <td>16.78</td>\n",
       "      <td>238.5</td>\n",
       "      <td>86</td>\n",
       "      <td>10.73</td>\n",
       "      <td>10.6</td>\n",
       "      <td>2</td>\n",
       "      <td>2.86</td>\n",
       "      <td>No</td>\n",
       "      <td>No</td>\n",
       "      <td>0</td>\n",
       "      <td>0</td>\n",
       "    </tr>\n",
       "    <tr>\n",
       "      <th>461</th>\n",
       "      <td>FL</td>\n",
       "      <td>415</td>\n",
       "      <td>92</td>\n",
       "      <td>201.9</td>\n",
       "      <td>74</td>\n",
       "      <td>34.32</td>\n",
       "      <td>226.8</td>\n",
       "      <td>119</td>\n",
       "      <td>19.28</td>\n",
       "      <td>217.5</td>\n",
       "      <td>80</td>\n",
       "      <td>9.79</td>\n",
       "      <td>13.7</td>\n",
       "      <td>6</td>\n",
       "      <td>3.70</td>\n",
       "      <td>No</td>\n",
       "      <td>No</td>\n",
       "      <td>0</td>\n",
       "      <td>3</td>\n",
       "    </tr>\n",
       "    <tr>\n",
       "      <th>1046</th>\n",
       "      <td>MT</td>\n",
       "      <td>408</td>\n",
       "      <td>185</td>\n",
       "      <td>151.1</td>\n",
       "      <td>121</td>\n",
       "      <td>25.69</td>\n",
       "      <td>244.7</td>\n",
       "      <td>88</td>\n",
       "      <td>20.80</td>\n",
       "      <td>154.4</td>\n",
       "      <td>91</td>\n",
       "      <td>6.95</td>\n",
       "      <td>13.8</td>\n",
       "      <td>2</td>\n",
       "      <td>3.73</td>\n",
       "      <td>No</td>\n",
       "      <td>Yes</td>\n",
       "      <td>29</td>\n",
       "      <td>2</td>\n",
       "    </tr>\n",
       "    <tr>\n",
       "      <th>1638</th>\n",
       "      <td>CT</td>\n",
       "      <td>415</td>\n",
       "      <td>97</td>\n",
       "      <td>215.3</td>\n",
       "      <td>58</td>\n",
       "      <td>36.60</td>\n",
       "      <td>242.4</td>\n",
       "      <td>91</td>\n",
       "      <td>20.60</td>\n",
       "      <td>279.8</td>\n",
       "      <td>105</td>\n",
       "      <td>12.59</td>\n",
       "      <td>12.1</td>\n",
       "      <td>9</td>\n",
       "      <td>3.27</td>\n",
       "      <td>No</td>\n",
       "      <td>No</td>\n",
       "      <td>0</td>\n",
       "      <td>0</td>\n",
       "    </tr>\n",
       "    <tr>\n",
       "      <th>414</th>\n",
       "      <td>ID</td>\n",
       "      <td>510</td>\n",
       "      <td>148</td>\n",
       "      <td>93.6</td>\n",
       "      <td>137</td>\n",
       "      <td>15.91</td>\n",
       "      <td>193.8</td>\n",
       "      <td>72</td>\n",
       "      <td>16.47</td>\n",
       "      <td>144.9</td>\n",
       "      <td>84</td>\n",
       "      <td>6.52</td>\n",
       "      <td>17.5</td>\n",
       "      <td>5</td>\n",
       "      <td>4.73</td>\n",
       "      <td>No</td>\n",
       "      <td>Yes</td>\n",
       "      <td>14</td>\n",
       "      <td>1</td>\n",
       "    </tr>\n",
       "    <tr>\n",
       "      <th>...</th>\n",
       "      <td>...</td>\n",
       "      <td>...</td>\n",
       "      <td>...</td>\n",
       "      <td>...</td>\n",
       "      <td>...</td>\n",
       "      <td>...</td>\n",
       "      <td>...</td>\n",
       "      <td>...</td>\n",
       "      <td>...</td>\n",
       "      <td>...</td>\n",
       "      <td>...</td>\n",
       "      <td>...</td>\n",
       "      <td>...</td>\n",
       "      <td>...</td>\n",
       "      <td>...</td>\n",
       "      <td>...</td>\n",
       "      <td>...</td>\n",
       "      <td>...</td>\n",
       "      <td>...</td>\n",
       "    </tr>\n",
       "    <tr>\n",
       "      <th>857</th>\n",
       "      <td>NJ</td>\n",
       "      <td>408</td>\n",
       "      <td>113</td>\n",
       "      <td>132.1</td>\n",
       "      <td>72</td>\n",
       "      <td>22.46</td>\n",
       "      <td>247.5</td>\n",
       "      <td>107</td>\n",
       "      <td>21.04</td>\n",
       "      <td>246.2</td>\n",
       "      <td>123</td>\n",
       "      <td>11.08</td>\n",
       "      <td>6.9</td>\n",
       "      <td>6</td>\n",
       "      <td>1.86</td>\n",
       "      <td>No</td>\n",
       "      <td>No</td>\n",
       "      <td>0</td>\n",
       "      <td>3</td>\n",
       "    </tr>\n",
       "    <tr>\n",
       "      <th>1893</th>\n",
       "      <td>PA</td>\n",
       "      <td>415</td>\n",
       "      <td>176</td>\n",
       "      <td>169.5</td>\n",
       "      <td>151</td>\n",
       "      <td>28.82</td>\n",
       "      <td>112.9</td>\n",
       "      <td>84</td>\n",
       "      <td>9.60</td>\n",
       "      <td>56.6</td>\n",
       "      <td>99</td>\n",
       "      <td>2.55</td>\n",
       "      <td>8.7</td>\n",
       "      <td>4</td>\n",
       "      <td>2.35</td>\n",
       "      <td>No</td>\n",
       "      <td>No</td>\n",
       "      <td>0</td>\n",
       "      <td>0</td>\n",
       "    </tr>\n",
       "    <tr>\n",
       "      <th>588</th>\n",
       "      <td>KY</td>\n",
       "      <td>510</td>\n",
       "      <td>155</td>\n",
       "      <td>184.6</td>\n",
       "      <td>102</td>\n",
       "      <td>31.38</td>\n",
       "      <td>196.0</td>\n",
       "      <td>117</td>\n",
       "      <td>16.66</td>\n",
       "      <td>226.5</td>\n",
       "      <td>122</td>\n",
       "      <td>10.19</td>\n",
       "      <td>7.8</td>\n",
       "      <td>1</td>\n",
       "      <td>2.11</td>\n",
       "      <td>No</td>\n",
       "      <td>No</td>\n",
       "      <td>0</td>\n",
       "      <td>1</td>\n",
       "    </tr>\n",
       "    <tr>\n",
       "      <th>1052</th>\n",
       "      <td>TX</td>\n",
       "      <td>415</td>\n",
       "      <td>28</td>\n",
       "      <td>159.7</td>\n",
       "      <td>79</td>\n",
       "      <td>27.15</td>\n",
       "      <td>216.7</td>\n",
       "      <td>131</td>\n",
       "      <td>18.42</td>\n",
       "      <td>206.7</td>\n",
       "      <td>116</td>\n",
       "      <td>9.30</td>\n",
       "      <td>9.3</td>\n",
       "      <td>3</td>\n",
       "      <td>2.51</td>\n",
       "      <td>No</td>\n",
       "      <td>No</td>\n",
       "      <td>0</td>\n",
       "      <td>2</td>\n",
       "    </tr>\n",
       "    <tr>\n",
       "      <th>361</th>\n",
       "      <td>WI</td>\n",
       "      <td>408</td>\n",
       "      <td>85</td>\n",
       "      <td>165.4</td>\n",
       "      <td>107</td>\n",
       "      <td>28.12</td>\n",
       "      <td>196.0</td>\n",
       "      <td>126</td>\n",
       "      <td>16.66</td>\n",
       "      <td>349.2</td>\n",
       "      <td>110</td>\n",
       "      <td>15.71</td>\n",
       "      <td>9.6</td>\n",
       "      <td>7</td>\n",
       "      <td>2.59</td>\n",
       "      <td>Yes</td>\n",
       "      <td>No</td>\n",
       "      <td>0</td>\n",
       "      <td>2</td>\n",
       "    </tr>\n",
       "  </tbody>\n",
       "</table>\n",
       "<p>2132 rows × 19 columns</p>\n",
       "</div>"
      ],
      "text/plain": [
       "     State  Area_code  Account_length  Total_day_minutes  Total_day_calls  \\\n",
       "1740    IL        415             156              174.5               65   \n",
       "461     FL        415              92              201.9               74   \n",
       "1046    MT        408             185              151.1              121   \n",
       "1638    CT        415              97              215.3               58   \n",
       "414     ID        510             148               93.6              137   \n",
       "...    ...        ...             ...                ...              ...   \n",
       "857     NJ        408             113              132.1               72   \n",
       "1893    PA        415             176              169.5              151   \n",
       "588     KY        510             155              184.6              102   \n",
       "1052    TX        415              28              159.7               79   \n",
       "361     WI        408              85              165.4              107   \n",
       "\n",
       "      Total_day_charge  Total_eve_minutes  Total_eve_calls  Total_eve_charge  \\\n",
       "1740             29.67              197.4              116             16.78   \n",
       "461              34.32              226.8              119             19.28   \n",
       "1046             25.69              244.7               88             20.80   \n",
       "1638             36.60              242.4               91             20.60   \n",
       "414              15.91              193.8               72             16.47   \n",
       "...                ...                ...              ...               ...   \n",
       "857              22.46              247.5              107             21.04   \n",
       "1893             28.82              112.9               84              9.60   \n",
       "588              31.38              196.0              117             16.66   \n",
       "1052             27.15              216.7              131             18.42   \n",
       "361              28.12              196.0              126             16.66   \n",
       "\n",
       "      Total_night_minutes  Total_night_calls  Total_night_charge  \\\n",
       "1740                238.5                 86               10.73   \n",
       "461                 217.5                 80                9.79   \n",
       "1046                154.4                 91                6.95   \n",
       "1638                279.8                105               12.59   \n",
       "414                 144.9                 84                6.52   \n",
       "...                   ...                ...                 ...   \n",
       "857                 246.2                123               11.08   \n",
       "1893                 56.6                 99                2.55   \n",
       "588                 226.5                122               10.19   \n",
       "1052                206.7                116                9.30   \n",
       "361                 349.2                110               15.71   \n",
       "\n",
       "      Total_intl_minutes  Total_intl_calls  Total_intl_charge  \\\n",
       "1740                10.6                 2               2.86   \n",
       "461                 13.7                 6               3.70   \n",
       "1046                13.8                 2               3.73   \n",
       "1638                12.1                 9               3.27   \n",
       "414                 17.5                 5               4.73   \n",
       "...                  ...               ...                ...   \n",
       "857                  6.9                 6               1.86   \n",
       "1893                 8.7                 4               2.35   \n",
       "588                  7.8                 1               2.11   \n",
       "1052                 9.3                 3               2.51   \n",
       "361                  9.6                 7               2.59   \n",
       "\n",
       "     International_plan Voice_mail_plan  Number_vmail_messages  \\\n",
       "1740                 No              No                      0   \n",
       "461                  No              No                      0   \n",
       "1046                 No             Yes                     29   \n",
       "1638                 No              No                      0   \n",
       "414                  No             Yes                     14   \n",
       "...                 ...             ...                    ...   \n",
       "857                  No              No                      0   \n",
       "1893                 No              No                      0   \n",
       "588                  No              No                      0   \n",
       "1052                 No              No                      0   \n",
       "361                 Yes              No                      0   \n",
       "\n",
       "      Customer_service_calls  \n",
       "1740                       0  \n",
       "461                        3  \n",
       "1046                       2  \n",
       "1638                       0  \n",
       "414                        1  \n",
       "...                      ...  \n",
       "857                        3  \n",
       "1893                       0  \n",
       "588                        1  \n",
       "1052                       2  \n",
       "361                        2  \n",
       "\n",
       "[2132 rows x 19 columns]"
      ]
     },
     "execution_count": 56,
     "metadata": {},
     "output_type": "execute_result"
    }
   ],
   "source": [
    "data"
   ]
  },
  {
   "cell_type": "code",
   "execution_count": 57,
   "id": "e4e2fe12",
   "metadata": {},
   "outputs": [],
   "source": [
    "from sklearn.compose import ColumnTransformer\n",
    "\n",
    "num_attribs = list(data_num)\n",
    "num_attribs.remove('Area_code')  # Area_Code is categorical although gets number\n",
    "cat_attribs = [\"State\", \"Area_code\", \"International_plan\", \"Voice_mail_plan\"]\n",
    "\n",
    "full_pipeline = ColumnTransformer([\n",
    "        (\"num\", num_pipeline, num_attribs),\n",
    "        (\"cat\", OneHotEncoder(), cat_attribs),\n",
    "    ])\n",
    "\n",
    "data_prepared = full_pipeline.fit_transform(data)"
   ]
  },
  {
   "cell_type": "code",
   "execution_count": 58,
   "id": "4d2aec66",
   "metadata": {},
   "outputs": [
    {
     "data": {
      "text/plain": [
       "array([[ 1.39716547, -0.09664659, -1.77520741, ...,  0.        ,\n",
       "         1.        ,  0.        ],\n",
       "       [-0.21778818,  0.41029284, -1.32613383, ...,  0.        ,\n",
       "         1.        ,  0.        ],\n",
       "       [ 2.12894135, -0.52958026,  1.01902817, ...,  0.        ,\n",
       "         0.        ,  1.        ],\n",
       "       ...,\n",
       "       [ 1.37193182,  0.09021794,  0.07098396, ...,  0.        ,\n",
       "         1.        ,  0.        ],\n",
       "       [-1.83274184, -0.37046788, -1.07664851, ...,  0.        ,\n",
       "         1.        ,  0.        ],\n",
       "       [-0.39442374, -0.26500968,  0.32046928, ...,  1.        ,\n",
       "         1.        ,  0.        ]])"
      ]
     },
     "execution_count": 58,
     "metadata": {},
     "output_type": "execute_result"
    }
   ],
   "source": [
    "data_prepared = data_prepared.toarray()\n",
    "data_prepared"
   ]
  },
  {
   "cell_type": "code",
   "execution_count": 59,
   "id": "e17ea472",
   "metadata": {},
   "outputs": [
    {
     "data": {
      "text/plain": [
       "(2132, 76)"
      ]
     },
     "execution_count": 59,
     "metadata": {},
     "output_type": "execute_result"
    }
   ],
   "source": [
    "data_prepared.shape"
   ]
  },
  {
   "cell_type": "code",
   "execution_count": 60,
   "id": "d2b2aa98",
   "metadata": {},
   "outputs": [],
   "source": [
    "from sklearn.base import BaseEstimator, TransformerMixin\n",
    "\n",
    "# Create a class to select numerical or categorical columns \n",
    "class OldDataFrameSelector(BaseEstimator, TransformerMixin):\n",
    "    def __init__(self, attribute_names):\n",
    "        self.attribute_names = attribute_names\n",
    "    def fit(self, X, y=None):\n",
    "        return self\n",
    "    def transform(self, X):\n",
    "        return X[self.attribute_names].values"
   ]
  },
  {
   "cell_type": "markdown",
   "id": "571b59bd",
   "metadata": {},
   "source": [
    "Now let's join all these components into a big pipeline that will preprocess both the numerical and the categorical features:"
   ]
  },
  {
   "cell_type": "code",
   "execution_count": 61,
   "id": "9d205a3f",
   "metadata": {},
   "outputs": [],
   "source": [
    "num_attribs = list(data_num)\n",
    "num_attribs.remove('Area_code')\n",
    "cat_attribs = [\"State\", \"Area_code\", \"International_plan\", \"Voice_mail_plan\"]\n",
    "\n",
    "old_num_pipeline = Pipeline([\n",
    "        ('selector', OldDataFrameSelector(num_attribs)),\n",
    "        ('imputer', SimpleImputer(strategy=\"median\")),\n",
    "        ('attribs_adder', CombinedAttributesAdder()),\n",
    "        ('std_scaler', StandardScaler()),\n",
    "    ])\n",
    "\n",
    "old_cat_pipeline = Pipeline([\n",
    "        ('selector', OldDataFrameSelector(cat_attribs)),\n",
    "        ('cat_encoder', OneHotEncoder(sparse=False)),\n",
    "    ])"
   ]
  },
  {
   "cell_type": "code",
   "execution_count": 62,
   "id": "69a42935",
   "metadata": {},
   "outputs": [],
   "source": [
    "from sklearn.pipeline import FeatureUnion\n",
    "\n",
    "old_full_pipeline = FeatureUnion(transformer_list=[\n",
    "        (\"num_pipeline\", old_num_pipeline),\n",
    "        (\"cat_pipeline\", old_cat_pipeline),\n",
    "    ])"
   ]
  },
  {
   "cell_type": "code",
   "execution_count": 63,
   "id": "c7820f76",
   "metadata": {},
   "outputs": [
    {
     "data": {
      "text/plain": [
       "array([[ 1.39716547, -0.09664659, -1.77520741, ...,  0.        ,\n",
       "         1.        ,  0.        ],\n",
       "       [-0.21778818,  0.41029284, -1.32613383, ...,  0.        ,\n",
       "         1.        ,  0.        ],\n",
       "       [ 2.12894135, -0.52958026,  1.01902817, ...,  0.        ,\n",
       "         0.        ,  1.        ],\n",
       "       ...,\n",
       "       [ 1.37193182,  0.09021794,  0.07098396, ...,  0.        ,\n",
       "         1.        ,  0.        ],\n",
       "       [-1.83274184, -0.37046788, -1.07664851, ...,  0.        ,\n",
       "         1.        ,  0.        ],\n",
       "       [-0.39442374, -0.26500968,  0.32046928, ...,  1.        ,\n",
       "         1.        ,  0.        ]])"
      ]
     },
     "execution_count": 63,
     "metadata": {},
     "output_type": "execute_result"
    }
   ],
   "source": [
    "old_data_prepared = old_full_pipeline.fit_transform(data)\n",
    "old_data_prepared"
   ]
  },
  {
   "cell_type": "code",
   "execution_count": 64,
   "id": "77059ff8",
   "metadata": {},
   "outputs": [
    {
     "data": {
      "text/plain": [
       "(2132, 76)"
      ]
     },
     "execution_count": 64,
     "metadata": {},
     "output_type": "execute_result"
    }
   ],
   "source": [
    "old_data_prepared.shape"
   ]
  },
  {
   "cell_type": "markdown",
   "id": "66605eae",
   "metadata": {},
   "source": [
    "The result is the same as with the `ColumnTransformer`:"
   ]
  },
  {
   "cell_type": "code",
   "execution_count": 65,
   "id": "6584484e",
   "metadata": {},
   "outputs": [
    {
     "data": {
      "text/plain": [
       "True"
      ]
     },
     "execution_count": 65,
     "metadata": {},
     "output_type": "execute_result"
    }
   ],
   "source": [
    "np.allclose(data_prepared, old_data_prepared)"
   ]
  },
  {
   "cell_type": "markdown",
   "id": "c0b8fd50",
   "metadata": {},
   "source": [
    "## Train test split"
   ]
  },
  {
   "cell_type": "code",
   "execution_count": 66,
   "id": "41adeeb1",
   "metadata": {},
   "outputs": [],
   "source": [
    "from sklearn import model_selection\n",
    "\n",
    "X_train, X_val_test, y_train, y_val_test = model_selection.train_test_split(\n",
    "    data_prepared, data_labels, test_size=0.3, random_state=42)"
   ]
  },
  {
   "cell_type": "code",
   "execution_count": 67,
   "id": "e3d82985",
   "metadata": {},
   "outputs": [
    {
     "name": "stdout",
     "output_type": "stream",
     "text": [
      "1492\n",
      "640\n",
      "1492\n",
      "640\n"
     ]
    }
   ],
   "source": [
    "print(len(X_train))\n",
    "print(len(X_val_test))\n",
    "print(len(y_train))\n",
    "print(len(y_val_test))"
   ]
  },
  {
   "cell_type": "markdown",
   "id": "dfd2c32c",
   "metadata": {},
   "source": [
    "## Test validation split"
   ]
  },
  {
   "cell_type": "code",
   "execution_count": 68,
   "id": "a5cbcbf1",
   "metadata": {},
   "outputs": [],
   "source": [
    "X_val, X_test, y_val, y_test = model_selection.train_test_split(\n",
    "    X_val_test, y_val_test, test_size=0.5, random_state=42)"
   ]
  },
  {
   "cell_type": "code",
   "execution_count": 69,
   "id": "2dfca77e",
   "metadata": {},
   "outputs": [
    {
     "name": "stdout",
     "output_type": "stream",
     "text": [
      "320\n",
      "320\n",
      "320\n",
      "320\n"
     ]
    }
   ],
   "source": [
    "print(len(X_val))\n",
    "print(len(X_test))\n",
    "print(len(y_val))\n",
    "print(len(y_test))"
   ]
  },
  {
   "cell_type": "code",
   "execution_count": 70,
   "id": "9cd201dd",
   "metadata": {},
   "outputs": [
    {
     "data": {
      "text/plain": [
       "(320, 76)"
      ]
     },
     "execution_count": 70,
     "metadata": {},
     "output_type": "execute_result"
    }
   ],
   "source": [
    "X_val.shape"
   ]
  },
  {
   "cell_type": "code",
   "execution_count": 71,
   "id": "18a67654",
   "metadata": {},
   "outputs": [],
   "source": [
    "extra_attribs = [\"Total_calls\",\"Total_mins\",\"Total_charges\"]\n",
    "cat_encoder = full_pipeline.named_transformers_[\"cat\"]\n",
    "cat_one_hot_attribs_0 = list(cat_encoder.categories_[0])\n",
    "cat_one_hot_attribs_1 = list(cat_encoder.categories_[1])\n",
    "cat_one_hot_attribs_2 = list(cat_encoder.categories_[2])\n",
    "cat_one_hot_attribs_3 = list(cat_encoder.categories_[3])\n",
    "attributes = num_attribs + extra_attribs + cat_one_hot_attribs_0 + cat_one_hot_attribs_1 + cat_one_hot_attribs_2 + cat_one_hot_attribs_3 "
   ]
  },
  {
   "cell_type": "markdown",
   "id": "802b93b2",
   "metadata": {},
   "source": [
    "## Evaluation Metrics"
   ]
  },
  {
   "cell_type": "markdown",
   "id": "d20b58ee",
   "metadata": {},
   "source": [
    "### ROC Curve"
   ]
  },
  {
   "cell_type": "code",
   "execution_count": 72,
   "id": "21d1647a",
   "metadata": {},
   "outputs": [],
   "source": [
    "def plot_roc_curve(fpr, tpr, roc_auc):\n",
    "    plt.title('Receiver Operating Characteristic')\n",
    "    plt.plot(fpr, tpr, 'b', label = 'AUC = %0.2f' % roc_auc)\n",
    "    plt.legend(loc = 'lower right')\n",
    "    plt.plot([0, 1], [0, 1],'r--')\n",
    "    plt.xlim([0, 1])\n",
    "    plt.ylim([0, 1])\n",
    "    plt.ylabel('True Positive Rate')\n",
    "    plt.xlabel('False Positive Rate')\n",
    "    plt.show()"
   ]
  },
  {
   "cell_type": "markdown",
   "id": "16ab08e9",
   "metadata": {},
   "source": [
    "### PR Curve"
   ]
  },
  {
   "cell_type": "code",
   "execution_count": 73,
   "id": "09e5a76f",
   "metadata": {},
   "outputs": [],
   "source": [
    "def plot_pr_curve(precision, recall, average_precision):\n",
    "    plt.step(recall, precision, color='b', alpha=0.2, where='post')\n",
    "    plt.fill_between(recall, precision, step='post', alpha=0.2, color='b')   \n",
    "    plt.xlabel('Recall')\n",
    "    plt.ylabel('Precision')\n",
    "    plt.ylim([0.0, 1.05])\n",
    "    plt.xlim([0.0, 1.0])\n",
    "    plt.title('2-class Precision-Recall curve: AP={0:0.2f}'.format(average_precision))\n",
    "    plt.show()"
   ]
  },
  {
   "cell_type": "markdown",
   "id": "b047d23b",
   "metadata": {},
   "source": [
    "### Classification Score\n",
    "\n",
    "It gets the model and evaluates it for training and validation."
   ]
  },
  {
   "cell_type": "code",
   "execution_count": 74,
   "id": "4e51d666",
   "metadata": {},
   "outputs": [],
   "source": [
    "def clf_score(clf, X_train, y_train, X_val, y_val, train=True):\n",
    "    if train:\n",
    "        print(\"Train Result:\\n\")\n",
    "        print(\"accuracy score: {0:.4f}\\n\".format(accuracy_score(y_train, clf.predict(X_train))))\n",
    "        print(\"Classification Report: \\n {}\\n\".format(classification_report(y_train, clf.predict(X_train))))\n",
    "        print(\"Confusion Matrix: \\n {}\\n\".format(confusion_matrix(y_train, clf.predict(X_train))))\n",
    "\n",
    "        res = cross_val_score(clf, X_train, y_train, cv=10, scoring='accuracy')\n",
    "        print(\"Average Accuracy: \\t {0:.4f}\".format(np.mean(res)))\n",
    "        print(\"Accuracy SD: \\t\\t {0:.4f}\".format(np.std(res)))\n",
    "\n",
    "    elif train == False:\n",
    "        print(\"Validation Result:\\n\")\n",
    "        print(\"accuracy score: {0:.4f}\\n\".format(accuracy_score(y_val, clf.predict(X_val))))\n",
    "        \n",
    "        precision, recall, _ = precision_recall_curve(y_val, clf.predict(X_val))\n",
    "        average_precision = average_precision_score(y_val, clf.predict(X_val))\n",
    "        plot_pr_curve(precision, recall, average_precision)\n",
    "        \n",
    "        fpr, tpr, _ = roc_curve(y_val, clf.predict(X_val))\n",
    "        roc_auc = roc_auc_score(y_val, clf.predict(X_val))\n",
    "        print(\"roc auc score: {}\\n\".format(roc_auc))\n",
    "        plot_roc_curve(fpr, tpr, roc_auc)\n",
    "        \n",
    "        print(\"Classification Report: \\n {}\\n\".format(classification_report(y_val, clf.predict(X_val))))\n",
    "        print(\"Confusion Matrix: \\n {}\\n\".format(confusion_matrix(y_val, clf.predict(X_val))))\n",
    "        plot_confusion_matrix(clf,  X_val, clf.predict(X_val))\n",
    "        print(\"End of validation Result\\n\")"
   ]
  },
  {
   "cell_type": "markdown",
   "id": "1bdef50d",
   "metadata": {},
   "source": [
    "### Classification Metrics"
   ]
  },
  {
   "cell_type": "code",
   "execution_count": 75,
   "id": "68a6306c",
   "metadata": {},
   "outputs": [],
   "source": [
    "def evaluation_metrics(y_actual, y_pred):\n",
    "            \n",
    "        precision, recall, _ = precision_recall_curve(y_actual, y_pred)\n",
    "        average_precision = average_precision_score(y_actual, y_pred)\n",
    "        plot_pr_curve(precision, recall, average_precision)\n",
    "        \n",
    "        fpr, tpr, _ = roc_curve(y_actual, y_pred)\n",
    "        roc_auc = roc_auc_score(y_actual, y_pred)\n",
    "        print(\"roc auc score: {}\\n\".format(roc_auc))\n",
    "        plot_roc_curve(fpr, tpr, roc_auc)\n",
    "        \n",
    "        print(\"Classification Report: \\n {}\\n\".format(classification_report(y_actual, y_pred)))\n",
    "        print(\"Confusion Matrix: \\n {}\\n\".format(confusion_matrix(y_actual, y_pred)))"
   ]
  },
  {
   "cell_type": "markdown",
   "id": "f95dbc03",
   "metadata": {},
   "source": [
    "## Dealing with imbalanced classes"
   ]
  },
  {
   "cell_type": "markdown",
   "id": "c72126af",
   "metadata": {},
   "source": [
    "### Visualize support for each class"
   ]
  },
  {
   "cell_type": "code",
   "execution_count": 76,
   "id": "9c8a67d1",
   "metadata": {},
   "outputs": [
    {
     "data": {
      "image/png": "[encoded data removed]",
      "text/plain": [
       "<Figure size 432x288 with 1 Axes>"
      ]
     },
     "metadata": {
      "needs_background": "light"
     },
     "output_type": "display_data"
    },
    {
     "data": {
      "text/plain": [
       "<AxesSubplot:title={'center':'Class Balance for 1,812 Instances'}, ylabel='support'>"
      ]
     },
     "execution_count": 76,
     "metadata": {},
     "output_type": "execute_result"
    }
   ],
   "source": [
    "from yellowbrick.target import ClassBalance\n",
    "\n",
    "# Instantiate the visualizer\n",
    "visualizer = ClassBalance(labels=[\"0\", \"1\"])\n",
    "\n",
    "visualizer.fit(y_train, y_val)        # Fit the data to the visualizer\n",
    "visualizer.show()        # Finalize and render the figure"
   ]
  },
  {
   "cell_type": "markdown",
   "id": "d26c6f00",
   "metadata": {},
   "source": [
    "## Balanced class weight - Combining Over Sampling and Under Sampling\n",
    "\n",
    "### SMOTEENN"
   ]
  },
  {
   "cell_type": "code",
   "execution_count": 77,
   "id": "ef19a9b9",
   "metadata": {},
   "outputs": [],
   "source": [
    "from imblearn.combine import SMOTEENN\n",
    "smote_enn = SMOTEENN(random_state=42)\n",
    "X_train_smoteen, y_train_smoteen = smote_enn.fit_resample(X_train, y_train)"
   ]
  },
  {
   "cell_type": "code",
   "execution_count": 78,
   "id": "4393d2b4",
   "metadata": {},
   "outputs": [
    {
     "data": {
      "image/png": "[encoded data removed]",
      "text/plain": [
       "<Figure size 432x288 with 1 Axes>"
      ]
     },
     "metadata": {
      "needs_background": "light"
     },
     "output_type": "display_data"
    },
    {
     "data": {
      "text/plain": [
       "<AxesSubplot:title={'center':'Class Balance for 2,069 Instances'}, ylabel='support'>"
      ]
     },
     "execution_count": 78,
     "metadata": {},
     "output_type": "execute_result"
    }
   ],
   "source": [
    "# Instantiate the visualizer\n",
    "visualizer = ClassBalance(labels=[\"0\", \"1\"])\n",
    "\n",
    "visualizer.fit(y_train_smoteen)        # Fit the data to the visualizer\n",
    "visualizer.show()        # Finalize and render the figure"
   ]
  },
  {
   "cell_type": "markdown",
   "id": "26312936",
   "metadata": {},
   "source": [
    "# Select and Train a Model"
   ]
  },
  {
   "cell_type": "markdown",
   "id": "166ca070",
   "metadata": {},
   "source": [
    "## AdaBoost"
   ]
  },
  {
   "cell_type": "code",
   "execution_count": 79,
   "id": "672c465f",
   "metadata": {},
   "outputs": [],
   "source": [
    "from sklearn.ensemble import AdaBoostClassifier"
   ]
  },
  {
   "cell_type": "code",
   "execution_count": 80,
   "id": "af41f240",
   "metadata": {},
   "outputs": [
    {
     "data": {
      "text/plain": [
       "AdaBoostClassifier(n_estimators=100, random_state=42)"
      ]
     },
     "execution_count": 80,
     "metadata": {},
     "output_type": "execute_result"
    }
   ],
   "source": [
    "clf_ada_boost = AdaBoostClassifier(n_estimators=100, random_state=42)\n",
    "clf_ada_boost.fit(X_train_smoteen, y_train_smoteen)"
   ]
  },
  {
   "cell_type": "code",
   "execution_count": 81,
   "id": "21680f30",
   "metadata": {},
   "outputs": [
    {
     "name": "stdout",
     "output_type": "stream",
     "text": [
      "Validation Result:\n",
      "\n",
      "accuracy score: 0.8344\n",
      "\n"
     ]
    },
    {
     "data": {
      "image/png": "[encoded data removed]",
      "text/plain": [
       "<Figure size 432x288 with 1 Axes>"
      ]
     },
     "metadata": {
      "needs_background": "light"
     },
     "output_type": "display_data"
    },
    {
     "name": "stdout",
     "output_type": "stream",
     "text": [
      "roc auc score: 0.7517508848557873\n",
      "\n"
     ]
    },
    {
     "data": {
      "image/png": "[encoded data removed]",
      "text/plain": [
       "<Figure size 432x288 with 1 Axes>"
      ]
     },
     "metadata": {
      "needs_background": "light"
     },
     "output_type": "display_data"
    },
    {
     "name": "stdout",
     "output_type": "stream",
     "text": [
      "Classification Report: \n",
      "               precision    recall  f1-score   support\n",
      "\n",
      "           0       0.93      0.87      0.90       271\n",
      "           1       0.47      0.63      0.54        49\n",
      "\n",
      "    accuracy                           0.83       320\n",
      "   macro avg       0.70      0.75      0.72       320\n",
      "weighted avg       0.86      0.83      0.84       320\n",
      "\n",
      "\n",
      "Confusion Matrix: \n",
      " [[236  35]\n",
      " [ 18  31]]\n",
      "\n"
     ]
    },
    {
     "name": "stderr",
     "output_type": "stream",
     "text": [
      "C:\\ProgramData\\Anaconda3\\lib\\site-packages\\sklearn\\utils\\deprecation.py:87: FutureWarning: Function plot_confusion_matrix is deprecated; Function `plot_confusion_matrix` is deprecated in 1.0 and will be removed in 1.2. Use one of the class methods: ConfusionMatrixDisplay.from_predictions or ConfusionMatrixDisplay.from_estimator.\n",
      "  warnings.warn(msg, category=FutureWarning)\n"
     ]
    },
    {
     "name": "stdout",
     "output_type": "stream",
     "text": [
      "End of validation Result\n",
      "\n"
     ]
    },
    {
     "data": {
      "image/png": "[encoded data removed]",
      "text/plain": [
       "<Figure size 432x288 with 2 Axes>"
      ]
     },
     "metadata": {
      "needs_background": "light"
     },
     "output_type": "display_data"
    }
   ],
   "source": [
    "clf_score(clf_ada_boost, X_train_smoteen, y_train_smoteen, X_val, y_val, train=False)"
   ]
  },
  {
   "cell_type": "markdown",
   "id": "5408f92d",
   "metadata": {},
   "source": [
    "### Evaluate model on test set"
   ]
  },
  {
   "cell_type": "markdown",
   "id": "64d58ef5",
   "metadata": {},
   "source": [
    "#### Class Prediction Error"
   ]
  },
  {
   "cell_type": "code",
   "execution_count": 82,
   "id": "8b239e71",
   "metadata": {},
   "outputs": [
    {
     "data": {
      "image/png": "[encoded data removed]",
      "text/plain": [
       "<Figure size 432x288 with 1 Axes>"
      ]
     },
     "metadata": {
      "needs_background": "light"
     },
     "output_type": "display_data"
    },
    {
     "data": {
      "text/plain": [
       "<AxesSubplot:title={'center':'Class Prediction Error for AdaBoostClassifier'}, xlabel='actual class', ylabel='number of predicted class'>"
      ]
     },
     "execution_count": 82,
     "metadata": {},
     "output_type": "execute_result"
    }
   ],
   "source": [
    "from yellowbrick.classifier import ClassPredictionError\n",
    "\n",
    "classes = [\"0\", \"1\"]\n",
    "\n",
    "visualizer = ClassPredictionError(\n",
    "    clf_ada_boost, classes=classes, is_fitted=True\n",
    ")\n",
    "\n",
    "# Fit the training data to the visualizer\n",
    "visualizer.fit(X_train, y_train)\n",
    "\n",
    "# Evaluate the model on the test data\n",
    "visualizer.score(X_test, y_test)\n",
    "\n",
    "# Draw visualization\n",
    "visualizer.show()"
   ]
  },
  {
   "cell_type": "markdown",
   "id": "a91cc9b4",
   "metadata": {},
   "source": [
    "#### Classification Report"
   ]
  },
  {
   "cell_type": "code",
   "execution_count": 83,
   "id": "221d3226",
   "metadata": {},
   "outputs": [
    {
     "data": {
      "image/png": "[encoded data removed]",
      "text/plain": [
       "<Figure size 432x288 with 2 Axes>"
      ]
     },
     "metadata": {
      "needs_background": "light"
     },
     "output_type": "display_data"
    },
    {
     "data": {
      "text/plain": [
       "<AxesSubplot:title={'center':'AdaBoostClassifier Classification Report'}>"
      ]
     },
     "execution_count": 83,
     "metadata": {},
     "output_type": "execute_result"
    }
   ],
   "source": [
    "from yellowbrick.classifier import ClassificationReport\n",
    "\n",
    "visualizer = ClassificationReport(\n",
    "    clf_ada_boost, classes=classes, support=True, is_fitted=True\n",
    ")\n",
    "\n",
    "visualizer.fit(X_train, y_train)        # Fit the visualizer and the model\n",
    "visualizer.score(X_test, y_test)        # Evaluate the model on the test data\n",
    "visualizer.show()                       # Finalize and show the figure"
   ]
  },
  {
   "cell_type": "markdown",
   "id": "a24c69db",
   "metadata": {},
   "source": [
    "#### Confusion Matrix"
   ]
  },
  {
   "cell_type": "code",
   "execution_count": 84,
   "id": "5c1f74b0",
   "metadata": {},
   "outputs": [
    {
     "data": {
      "image/png": "[encoded data removed]",
      "text/plain": [
       "<Figure size 432x288 with 1 Axes>"
      ]
     },
     "metadata": {
      "needs_background": "light"
     },
     "output_type": "display_data"
    },
    {
     "data": {
      "text/plain": [
       "<AxesSubplot:title={'center':'AdaBoostClassifier Confusion Matrix'}, xlabel='Predicted Class', ylabel='True Class'>"
      ]
     },
     "execution_count": 84,
     "metadata": {},
     "output_type": "execute_result"
    }
   ],
   "source": [
    "from yellowbrick.classifier import confusion_matrix\n",
    "\n",
    "# The ConfusionMatrix visualizer taxes a model\n",
    "cm = ConfusionMatrix(clf_ada_boost, classes=[0,1], is_fitted=True)\n",
    "\n",
    "# Fit fits the passed model. This is unnecessary if you pass the visualizer a pre-fitted model\n",
    "cm.fit(X_train, y_train)\n",
    "\n",
    "# To create the ConfusionMatrix, we need some test data. Score runs predict() on the data\n",
    "# and then creates the confusion_matrix from scikit-learn.\n",
    "cm.score(X_test, y_test)\n",
    "\n",
    "# How did we do?\n",
    "cm.show()"
   ]
  },
  {
   "cell_type": "markdown",
   "id": "86264da1",
   "metadata": {},
   "source": [
    "#### PR Curve"
   ]
  },
  {
   "cell_type": "code",
   "execution_count": 85,
   "id": "4826b8ed",
   "metadata": {},
   "outputs": [
    {
     "data": {
      "image/png": "[encoded data removed]",
      "text/plain": [
       "<Figure size 432x288 with 1 Axes>"
      ]
     },
     "metadata": {
      "needs_background": "light"
     },
     "output_type": "display_data"
    },
    {
     "data": {
      "text/plain": [
       "<AxesSubplot:title={'center':'Precision-Recall Curve for AdaBoostClassifier'}, xlabel='Recall', ylabel='Precision'>"
      ]
     },
     "execution_count": 85,
     "metadata": {},
     "output_type": "execute_result"
    }
   ],
   "source": [
    "from yellowbrick.classifier import PrecisionRecallCurve\n",
    "# Create the visualizer, fit, score, and show it\n",
    "viz = PrecisionRecallCurve(clf_ada_boost, is_fitted=True)\n",
    "viz.fit(X_train, y_train)\n",
    "viz.score(X_test, y_test)\n",
    "viz.show()"
   ]
  },
  {
   "cell_type": "markdown",
   "id": "791e0945",
   "metadata": {},
   "source": [
    "#### ROC-AUC"
   ]
  },
  {
   "cell_type": "code",
   "execution_count": 86,
   "id": "c24c7eff",
   "metadata": {},
   "outputs": [
    {
     "data": {
      "image/png": "[encoded data removed]",
      "text/plain": [
       "<Figure size 432x288 with 1 Axes>"
      ]
     },
     "metadata": {
      "needs_background": "light"
     },
     "output_type": "display_data"
    },
    {
     "data": {
      "text/plain": [
       "<AxesSubplot:title={'center':'ROC Curves for AdaBoostClassifier'}, xlabel='False Positive Rate', ylabel='True Positive Rate'>"
      ]
     },
     "execution_count": 86,
     "metadata": {},
     "output_type": "execute_result"
    }
   ],
   "source": [
    "visualizer = ROCAUC(\n",
    "    clf_ada_boost, classes=classes, is_fitted=True\n",
    ")\n",
    "\n",
    "visualizer.fit(X_train, y_train)        # Fit the training data to the visualizer\n",
    "visualizer.score(X_test, y_test)        # Evaluate the model on the test data\n",
    "visualizer.show()                       # Finalize and show the figure"
   ]
  },
  {
   "cell_type": "markdown",
   "id": "abbf9fd2",
   "metadata": {},
   "source": [
    "#### Validation Curve"
   ]
  },
  {
   "cell_type": "code",
   "execution_count": 87,
   "id": "9f0a912c",
   "metadata": {},
   "outputs": [
    {
     "data": {
      "image/png": "[encoded data removed]",
      "text/plain": [
       "<Figure size 432x288 with 1 Axes>"
      ]
     },
     "metadata": {
      "needs_background": "light"
     },
     "output_type": "display_data"
    },
    {
     "data": {
      "text/plain": [
       "<AxesSubplot:title={'center':'Validation Curve for AdaBoostClassifier'}, xlabel='learning_rate', ylabel='score'>"
      ]
     },
     "execution_count": 87,
     "metadata": {},
     "output_type": "execute_result"
    }
   ],
   "source": [
    "from yellowbrick.model_selection import ValidationCurve\n",
    "\n",
    "viz = ValidationCurve(\n",
    "    AdaBoostClassifier(n_estimators=100, random_state=42), \n",
    "    param_name=\"learning_rate\",\n",
    "    param_range=np.arange(1, 11), \n",
    "    cv=5, \n",
    "    scoring=\"f1_weighted\",\n",
    "    np_jobs=8\n",
    ")\n",
    "\n",
    "# Fit and show the visualizer\n",
    "viz.fit(X_train, y_train)\n",
    "viz.poof()"
   ]
  },
  {
   "cell_type": "markdown",
   "id": "31def8c8",
   "metadata": {},
   "source": [
    "#### Learning Curve"
   ]
  },
  {
   "cell_type": "code",
   "execution_count": 88,
   "id": "b098b804",
   "metadata": {},
   "outputs": [
    {
     "data": {
      "image/png": "[encoded data removed]",
      "text/plain": [
       "<Figure size 432x288 with 1 Axes>"
      ]
     },
     "metadata": {
      "needs_background": "light"
     },
     "output_type": "display_data"
    },
    {
     "data": {
      "text/plain": [
       "<AxesSubplot:title={'center':'Learning Curve for AdaBoostClassifier'}, xlabel='Training Instances', ylabel='Score'>"
      ]
     },
     "execution_count": 88,
     "metadata": {},
     "output_type": "execute_result"
    }
   ],
   "source": [
    "from sklearn.model_selection import StratifiedKFold\n",
    "from yellowbrick.model_selection import LearningCurve\n",
    "\n",
    "\n",
    "# Create the learning curve visualizer\n",
    "cv = StratifiedKFold(n_splits=12)\n",
    "sizes = np.linspace(0.3, 1.0, 10)\n",
    "\n",
    "# Instantiate the classification model and visualizer\n",
    "\n",
    "visualizer = LearningCurve(\n",
    "    AdaBoostClassifier(n_estimators=100, random_state=42), \n",
    "    cv=cv, \n",
    "    scoring='f1_weighted', \n",
    "    train_sizes=sizes, \n",
    "    n_jobs=8\n",
    ")\n",
    "\n",
    "visualizer.fit(X_train_smoteen, y_train_smoteen)        # Fit the data to the visualizer\n",
    "visualizer.poof()                       # Finalize and render the figure"
   ]
  },
  {
   "cell_type": "markdown",
   "id": "ff577aad",
   "metadata": {},
   "source": [
    "#### Discrimintation Threshold"
   ]
  },
  {
   "cell_type": "code",
   "execution_count": 89,
   "id": "4462fda3",
   "metadata": {},
   "outputs": [
    {
     "data": {
      "image/png": "[encoded data removed]",
      "text/plain": [
       "<Figure size 432x288 with 1 Axes>"
      ]
     },
     "metadata": {
      "needs_background": "light"
     },
     "output_type": "display_data"
    },
    {
     "data": {
      "text/plain": [
       "<AxesSubplot:title={'center':'Threshold Plot for AdaBoostClassifier'}, xlabel='discrimination threshold', ylabel='score'>"
      ]
     },
     "execution_count": 89,
     "metadata": {},
     "output_type": "execute_result"
    }
   ],
   "source": [
    "from yellowbrick.classifier import DiscriminationThreshold\n",
    "\n",
    "visualizer = DiscriminationThreshold(clf_ada_boost, is_fitted=True)\n",
    "\n",
    "visualizer.fit(X_train_smoteen, y_train_smoteen)\n",
    "visualizer.poof() "
   ]
  },
  {
   "cell_type": "markdown",
   "id": "5bb6617b",
   "metadata": {},
   "source": [
    "#### Decision Function"
   ]
  },
  {
   "cell_type": "code",
   "execution_count": 90,
   "id": "0409ea1d",
   "metadata": {},
   "outputs": [
    {
     "data": {
      "image/png": "[encoded data removed]",
      "text/plain": [
       "<Figure size 432x288 with 1 Axes>"
      ]
     },
     "metadata": {
      "needs_background": "light"
     },
     "output_type": "display_data"
    }
   ],
   "source": [
    "from sklearn.metrics import precision_recall_curve\n",
    "\n",
    "# call decision_function on classifier to get scores (probas_pred)\n",
    "probas_pred = clf_ada_boost.decision_function(X_test)\n",
    "# compute precision-recall pairs for different probability thresholds\n",
    "precisions, recalls, thresholds = precision_recall_curve(y_test, probas_pred)\n",
    "# precision and recall vs. the decision threshold\n",
    "plt.plot(thresholds, precisions[:-1], \"b--\", label=\"Precision\")\n",
    "plt.plot(thresholds, recalls[:-1], \"g-\", label=\"Recall\")\n",
    "plt.xlabel(\"Threshold\")\n",
    "plt.legend(loc=\"upper left\")\n",
    "plt.ylim([0, 1])\n",
    "plt.show()"
   ]
  },
  {
   "cell_type": "markdown",
   "id": "a8a90855",
   "metadata": {},
   "source": [
    "#### Feature Importances"
   ]
  },
  {
   "cell_type": "code",
   "execution_count": 91,
   "id": "92241d60",
   "metadata": {},
   "outputs": [
    {
     "data": {
      "image/png": "[encoded data removed]",
      "text/plain": [
       "<Figure size 1584x1872 with 1 Axes>"
      ]
     },
     "metadata": {
      "needs_background": "light"
     },
     "output_type": "display_data"
    },
    {
     "data": {
      "text/plain": [
       "<AxesSubplot:title={'center':'Feature Importances of 76 Features using AdaBoostClassifier'}, xlabel='relative importance'>"
      ]
     },
     "execution_count": 91,
     "metadata": {},
     "output_type": "execute_result"
    }
   ],
   "source": [
    "from yellowbrick.model_selection import FeatureImportances\n",
    "\n",
    "fig = plt.figure(figsize=(22, 26))\n",
    "viz = FeatureImportances(clf_ada_boost, labels=attributes)\n",
    "viz.fit(X_train_smoteen, y_train_smoteen)\n",
    "viz.poof()"
   ]
  },
  {
   "cell_type": "markdown",
   "id": "97e8af7d",
   "metadata": {},
   "source": [
    "## Multi-Layer Perceptron\n",
    "\n",
    "A simple ANN architecture with Keras"
   ]
  },
  {
   "cell_type": "code",
   "execution_count": 92,
   "id": "cea1cb88",
   "metadata": {},
   "outputs": [],
   "source": [
    "import tensorflow as tf\n",
    "from tensorflow.keras.models import Sequential\n",
    "from tensorflow.keras.layers import Dense"
   ]
  },
  {
   "cell_type": "code",
   "execution_count": 93,
   "id": "35c8712c",
   "metadata": {},
   "outputs": [],
   "source": [
    "mlp = Sequential()\n",
    "mlp.add(Dense(12, activation='relu', input_shape=(113,)))\n",
    "mlp.add(Dense(8, activation= 'relu'))\n",
    "mlp.add(Dense(1, activation='sigmoid'))"
   ]
  },
  {
   "cell_type": "code",
   "execution_count": 94,
   "id": "0557ce53",
   "metadata": {},
   "outputs": [
    {
     "name": "stdout",
     "output_type": "stream",
     "text": [
      "Model: \"sequential\"\n",
      "_________________________________________________________________\n",
      " Layer (type)                Output Shape              Param #   \n",
      "=================================================================\n",
      " dense (Dense)               (None, 12)                1368      \n",
      "                                                                 \n",
      " dense_1 (Dense)             (None, 8)                 104       \n",
      "                                                                 \n",
      " dense_2 (Dense)             (None, 1)                 9         \n",
      "                                                                 \n",
      "=================================================================\n",
      "Total params: 1,481\n",
      "Trainable params: 1,481\n",
      "Non-trainable params: 0\n",
      "_________________________________________________________________\n"
     ]
    },
    {
     "data": {
      "text/plain": [
       "[array([[ 0.09728624,  0.0679832 , -0.04511125, ...,  0.02467565,\n",
       "         -0.02779455,  0.03067756],\n",
       "        [-0.11568603, -0.20550758, -0.00386089, ..., -0.05642836,\n",
       "         -0.18110035,  0.03915463],\n",
       "        [-0.14625472, -0.08647956, -0.10185125, ...,  0.06926896,\n",
       "          0.11266117,  0.18267225],\n",
       "        ...,\n",
       "        [ 0.15024595, -0.20337325,  0.07390155, ...,  0.03257926,\n",
       "          0.02615343, -0.14601314],\n",
       "        [-0.15782407,  0.03420915, -0.05128808, ..., -0.01284988,\n",
       "          0.05367135, -0.08583775],\n",
       "        [ 0.04941244,  0.07194667,  0.05333151, ...,  0.13687907,\n",
       "         -0.19286929,  0.14238437]], dtype=float32),\n",
       " array([0., 0., 0., 0., 0., 0., 0., 0., 0., 0., 0., 0.], dtype=float32),\n",
       " array([[ 0.18800604,  0.4416408 ,  0.08100837,  0.14780754, -0.3597694 ,\n",
       "         -0.2843618 ,  0.260746  ,  0.4444009 ],\n",
       "        [ 0.25753957,  0.03792018,  0.22539866,  0.26959813,  0.26352638,\n",
       "         -0.3955652 , -0.46116623,  0.05870169],\n",
       "        [-0.48274666,  0.4475261 , -0.34778005,  0.05635285, -0.01380503,\n",
       "         -0.19779813, -0.25731707, -0.33515346],\n",
       "        [ 0.3726325 ,  0.06949174,  0.45064026,  0.42336774,  0.22335589,\n",
       "         -0.02490079, -0.14532962,  0.09875584],\n",
       "        [-0.30218866, -0.45070946,  0.0846737 ,  0.35626668, -0.1687639 ,\n",
       "         -0.0454151 , -0.0637711 , -0.22687978],\n",
       "        [ 0.48845232,  0.15704566,  0.14263642,  0.0834865 ,  0.52324104,\n",
       "         -0.31640217, -0.5055361 , -0.4479772 ],\n",
       "        [ 0.32716346, -0.54127586,  0.21178639, -0.4481827 , -0.15853041,\n",
       "         -0.42711037,  0.4573648 ,  0.0325895 ],\n",
       "        [-0.25816613, -0.5441897 , -0.02665496, -0.5222747 , -0.40897286,\n",
       "         -0.12077203, -0.09707358, -0.3604247 ],\n",
       "        [-0.47323483, -0.5200167 ,  0.41029572, -0.4460783 ,  0.07797301,\n",
       "          0.24561071, -0.24113613, -0.49538362],\n",
       "        [-0.4660012 , -0.39570963,  0.18208694, -0.11718115,  0.2517078 ,\n",
       "         -0.44317025, -0.307809  ,  0.5165775 ],\n",
       "        [ 0.5435928 ,  0.47650695, -0.15467054, -0.28182122, -0.41579145,\n",
       "          0.31324744,  0.47007728,  0.53791344],\n",
       "        [-0.48907834, -0.27543056,  0.4965664 ,  0.18372607, -0.2730818 ,\n",
       "          0.53489137, -0.00404024, -0.32173926]], dtype=float32),\n",
       " array([0., 0., 0., 0., 0., 0., 0., 0.], dtype=float32),\n",
       " array([[-0.6680018 ],\n",
       "        [ 0.73074794],\n",
       "        [ 0.30027688],\n",
       "        [-0.19276565],\n",
       "        [-0.25807482],\n",
       "        [-0.44034865],\n",
       "        [ 0.7911464 ],\n",
       "        [ 0.29341817]], dtype=float32),\n",
       " array([0.], dtype=float32)]"
      ]
     },
     "execution_count": 94,
     "metadata": {},
     "output_type": "execute_result"
    }
   ],
   "source": [
    "mlp.output_shape\n",
    "mlp.summary()\n",
    "mlp.get_config()\n",
    "mlp.get_weights()"
   ]
  },
  {
   "cell_type": "raw",
   "id": "77401506",
   "metadata": {},
   "source": [
    "mlp.compile(loss='binary_crossentropy',\n",
    "            optimizer='adam',\n",
    "            metrics=['accuracy'])\n",
    "\n",
    "train_y = np.asarray(y_train_smoteen)\n",
    "mlp.fit(X_train_smoteen, train_y, epochs=3, batch_size=1, verbose=1)"
   ]
  },
  {
   "cell_type": "raw",
   "id": "f26fe5d6",
   "metadata": {},
   "source": [
    "y_pred = mlp.predict_classes(X_val)"
   ]
  },
  {
   "cell_type": "raw",
   "id": "2203db04",
   "metadata": {},
   "source": [
    "val_y = np.asarray(y_val)\n",
    "score = mlp.evaluate(X_val, val_y, verbose=1)\n",
    "print(score)"
   ]
  },
  {
   "cell_type": "raw",
   "id": "b4b054fc",
   "metadata": {},
   "source": [
    "evaluation_metrics(y_val, y_pred)"
   ]
  },
  {
   "cell_type": "markdown",
   "id": "c0e33aea",
   "metadata": {},
   "source": [
    "## TPOT"
   ]
  },
  {
   "cell_type": "code",
   "execution_count": 96,
   "id": "92567f46",
   "metadata": {},
   "outputs": [],
   "source": [
    "from tpot import TPOTClassifier"
   ]
  },
  {
   "cell_type": "code",
   "execution_count": 99,
   "id": "51099b28",
   "metadata": {},
   "outputs": [
    {
     "data": {
      "application/vnd.jupyter.widget-view+json": {
       "model_id": "3a881b326b7841cf840775741c9addf6",
       "version_major": 2,
       "version_minor": 0
      },
      "text/plain": [
       "Optimization Progress:   0%|          | 0/120 [00:00<?, ?pipeline/s]"
      ]
     },
     "metadata": {},
     "output_type": "display_data"
    },
    {
     "name": "stdout",
     "output_type": "stream",
     "text": [
      "\n",
      "Generation 1 - Current best internal CV score: 0.9405563158695067\n",
      "\n",
      "Generation 2 - Current best internal CV score: 0.9584529365664223\n",
      "\n",
      "Generation 3 - Current best internal CV score: 0.9594027441485068\n",
      "\n",
      "Generation 4 - Current best internal CV score: 0.9594191201413015\n",
      "\n",
      "Generation 5 - Current best internal CV score: 0.9748780573393689\n",
      "\n",
      "Best pipeline: KNeighborsClassifier(ZeroCount(input_matrix), n_neighbors=13, p=2, weights=distance)\n",
      "0.840625\n"
     ]
    }
   ],
   "source": [
    "# https://epistasislab.github.io/tpot/using/#built-in-tpot-configurations\n",
    "tpot = TPOTClassifier(generations=5, population_size=20, verbosity=2, \n",
    "                      random_state=42, config_dict='TPOT light')\n",
    "tpot.fit(X_train_smoteen, y_train_smoteen)\n",
    "print(tpot.score(X_val, y_val))\n",
    "tpot.export('tpot_exported_pipeline.py')"
   ]
  },
  {
   "cell_type": "markdown",
   "id": "1f498bae",
   "metadata": {},
   "source": [
    "## END"
   ]
  }
 ],
 "metadata": {
  "kernelspec": {
   "display_name": "Python 3",
   "language": "python",
   "name": "python3"
  },
  "language_info": {
   "codemirror_mode": {
    "name": "ipython",
    "version": 3
   },
   "file_extension": ".py",
   "mimetype": "text/x-python",
   "name": "python",
   "nbconvert_exporter": "python",
   "pygments_lexer": "ipython3",
   "version": "3.8.8"
  }
 },
 "nbformat": 4,
 "nbformat_minor": 5
}
